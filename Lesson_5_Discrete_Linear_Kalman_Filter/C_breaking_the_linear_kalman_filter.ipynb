{
  "cells": [
    {
      "cell_type": "code",
      "execution_count": null,
      "id": "a969f402-9690-4a2a-af50-b0873f1a8c22",
      "metadata": {
        "id": "a969f402-9690-4a2a-af50-b0873f1a8c22"
      },
      "outputs": [],
      "source": [
        "import numpy as np\n",
        "import matplotlib.pyplot as plt\n",
        "\n",
        "from scipy.integrate import odeint\n",
        "import scipy.optimize\n",
        "\n",
        "import sympy as sp"
      ]
    },
    {
      "cell_type": "markdown",
      "source": [
        "# Install model predictive control stuff"
      ],
      "metadata": {
        "id": "haHOjX9ARAru"
      },
      "id": "haHOjX9ARAru"
    },
    {
      "cell_type": "code",
      "source": [
        "try:\n",
        "    import casadi\n",
        "except:\n",
        "    !pip install casadi\n",
        "    import casadi\n",
        "\n",
        "try:\n",
        "    import do_mpc\n",
        "except:\n",
        "    !pip install do_mpc\n",
        "    import do_mpc\n",
        "\n",
        "try:\n",
        "    import pybounds\n",
        "except:\n",
        "    #!pip install pybounds\n",
        "    !pip install git+https://github.com/vanbreugel-lab/pybounds\n",
        "    import pybounds"
      ],
      "metadata": {
        "id": "J_4U7AF5Q-dk"
      },
      "id": "J_4U7AF5Q-dk",
      "execution_count": null,
      "outputs": []
    },
    {
      "cell_type": "markdown",
      "id": "7db9afc4-f0db-4e1c-9eb4-8753b03b520e",
      "metadata": {
        "id": "7db9afc4-f0db-4e1c-9eb4-8753b03b520e"
      },
      "source": [
        "### Import plotting utilities and planar drone locally or from github"
      ]
    },
    {
      "cell_type": "code",
      "execution_count": null,
      "id": "3505415b-84bf-4a4c-9938-a807bfff6c07",
      "metadata": {
        "id": "3505415b-84bf-4a4c-9938-a807bfff6c07",
        "outputId": "aacd7b20-b13c-46fb-92ef-d737da00838d"
      },
      "outputs": [
        {
          "name": "stderr",
          "output_type": "stream",
          "text": [
            "/home/caveman/PY38/lib/python3.8/site-packages/do_mpc/sysid/__init__.py:15: UserWarning: The ONNX feature is not available. Please install the full version of do-mpc to access this feature.\n",
            "  warnings.warn('The ONNX feature is not available. Please install the full version of do-mpc to access this feature.')\n",
            "/home/caveman/PY38/lib/python3.8/site-packages/do_mpc/opcua/__init__.py:14: UserWarning: The opcua feature is not available. Please install the full version of do-mpc to access this feature.\n",
            "  warnings.warn('The opcua feature is not available. Please install the full version of do-mpc to access this feature.')\n"
          ]
        }
      ],
      "source": [
        "import sys\n",
        "import requests\n",
        "import importlib\n",
        "\n",
        "def import_local_or_github(package_name, function_name=None, directory=None, giturl=None):\n",
        "    # Import functions directly from github\n",
        "    # Important: note that we use raw.githubusercontent.com, not github.com\n",
        "\n",
        "    try: # to find the file locally\n",
        "        if directory is not None:\n",
        "            if directory not in sys.path:\n",
        "                sys.path.append(directory)\n",
        "\n",
        "        package = importlib.import_module(package_name)\n",
        "        if function_name is not None:\n",
        "            function = getattr(package, function_name)\n",
        "            return function\n",
        "        else:\n",
        "            return package\n",
        "\n",
        "    except: # get the file from github\n",
        "        if giturl is None:\n",
        "            giturl = 'https://raw.githubusercontent.com/florisvb/Nonlinear_and_Data_Driven_Estimation/main/Utility/' + str(package_name) + '.py'\n",
        "\n",
        "        r = requests.get(giturl)\n",
        "        print('Fetching from: ')\n",
        "        print(r)\n",
        "\n",
        "        # Store the file to the colab working directory\n",
        "        with open(package_name+'.py', 'w') as f:\n",
        "            f.write(r.text)\n",
        "        f.close()\n",
        "\n",
        "        # import the function we want from that file\n",
        "        package = importlib.import_module(package_name)\n",
        "        if function_name is not None:\n",
        "            function = getattr(package, function_name)\n",
        "            return function\n",
        "        else:\n",
        "            return package\n",
        "\n",
        "planar_drone = import_local_or_github('planar_drone', directory='../Utility')\n",
        "plot_tme = import_local_or_github('plot_utility', 'plot_tme', directory='../Utility')\n",
        "dynamics_utility = import_local_or_github('dynamics_utility', directory='../Utility')"
      ]
    },
    {
      "cell_type": "markdown",
      "id": "fcb1cb7f-dde4-49bb-9569-b205e8ea4acd",
      "metadata": {
        "id": "fcb1cb7f-dde4-49bb-9569-b205e8ea4acd"
      },
      "source": [
        "# Planar drone dynamics\n",
        "\n",
        "Now all the drone dynamics are in the helper file, `planar_drone.py`"
      ]
    },
    {
      "cell_type": "markdown",
      "id": "2a0894d2-a59b-47ee-867a-64b3a3a6d65d",
      "metadata": {
        "id": "2a0894d2-a59b-47ee-867a-64b3a3a6d65d"
      },
      "source": [
        "$\n",
        "\\mathbf{\\dot{x}} = \\mathbf{f}(\\mathbf{x},\\mathbf{u}) =\n",
        "\\frac{d}{dt}\n",
        "\\begin{bmatrix}\n",
        "\\bbox[yellow]{\\theta} \\\\[0.3em]\n",
        "\\bbox[yellow]{\\dot{\\theta}} \\\\[0.3em]\n",
        "\\bbox[yellow]{x} \\\\[0.3em]\n",
        "\\bbox[yellow]{\\dot{x}} \\\\[0.3em]\n",
        "\\bbox[yellow]{z} \\\\[0.3em]\n",
        "\\bbox[yellow]{\\dot{z}} \\\\[0.3em]\n",
        "\\bbox[pink]{k}\n",
        "\\end{bmatrix} =\n",
        "\\overset{f_0}{\\begin{bmatrix}\n",
        "\\bbox[yellow]{\\dot{\\theta}} \\\\[0.3em]\n",
        "0 \\\\[0.3em]\n",
        "\\bbox[yellow]{\\dot{x}} \\\\[0.3em]\n",
        "0 \\\\[0.3em]\n",
        "\\bbox[yellow]{\\dot{z}} \\\\[0.3em]\n",
        "-\\bbox[lightblue]{g} \\\\[0.3em]\n",
        "0\n",
        "\\end{bmatrix}} +\n",
        "\\overset{f_1}{\\begin{bmatrix}\n",
        "0 \\\\[0.3em]\n",
        "\\bbox[lightblue]{l}\\bbox[pink]{k}/\\bbox[lightblue]{I_{yy}} \\\\[0.3em]\n",
        "0 \\\\[0.3em]\n",
        "0 \\\\[0.3em]\n",
        "0 \\\\[0.3em]\n",
        "0 \\\\[0.3em]\n",
        "0\n",
        "\\end{bmatrix}} \\bbox[lightgreen]{j_1} +\n",
        "\\overset{f_2}{\\begin{bmatrix}\n",
        "0 \\\\[0.3em]\n",
        "0 \\\\[0.3em]\n",
        "0 \\\\[0.3em]\n",
        "-\\bbox[pink]{k}\\bbox[yellow]{\\sin\\theta}/\\bbox[lightblue]{m} \\\\[0.3em]\n",
        "0 \\\\[0.3em]\n",
        "\\bbox[pink]{k}\\bbox[yellow]{\\cos\\theta}/\\bbox[lightblue]{m}  \\\\[0.3em]\n",
        "0\n",
        "\\end{bmatrix}} \\bbox[lightgreen]{j_2}\n",
        "$\n",
        "\n",
        "Last lesson we used a GPS to do our estimates:\n",
        "\n",
        "$\n",
        "\\mathbf{y} = \\mathbf{{h}}(\\mathbf{{x}}, \\mathbf{{u}}) =\n",
        "\\begin{bmatrix}\n",
        "\\bbox[yellow]{\\theta} \\\\[0.3em]\n",
        "\\bbox[yellow]{x} \\\\[0.3em]\n",
        "\\bbox[yellow]{z} \\\\[0.3em]\n",
        "\\bbox[pink]{k}\n",
        "\\end{bmatrix}\n",
        "$\n",
        "\n",
        "Now apply your linear discrete kalman filter to a scenario where you do not have a GPS, instead, you have a camera and an IMU. That is, your measurements look like:\n",
        "\n",
        "$\n",
        "\\mathbf{y} = \\mathbf{{h}}(\\mathbf{{x}}, \\mathbf{{u}}) =\n",
        "\\begin{bmatrix}\n",
        "\\bbox[yellow]{\\dot{x}/z} \\\\[0.3em]\n",
        "\\bbox[yellow]{\\theta} \\\\[0.3em]\n",
        "\\bbox[yellow]{\\dot{\\theta}} \\\\[0.3em]\n",
        "\\bbox[red]{\\ddot{x}} \\\\[0.3em]\n",
        "\\bbox[red]{\\ddot{z}} \\\\[0.3em]\n",
        "\\end{bmatrix} =\n",
        "\\begin{bmatrix}\n",
        "\\bbox[yellow]{\\dot{x}/z} \\\\[0.3em]\n",
        "\\bbox[yellow]{\\theta} \\\\[0.3em]\n",
        "\\bbox[yellow]{\\dot{\\theta}} \\\\[0.3em]\n",
        "0 \\\\[0.3em]\n",
        "-\\bbox[lightblue]{g} \\\\[0.3em]\n",
        "\\end{bmatrix} +\n",
        "\\begin{bmatrix}\n",
        "0 \\\\[0.3em]\n",
        "0 \\\\[0.3em]\n",
        "0 \\\\[0.3em]\n",
        "-\\bbox[pink]{k}\\bbox[yellow]{\\sin\\theta}/\\bbox[lightblue]{m} \\\\[0.3em]\n",
        "\\bbox[pink]{k}\\bbox[yellow]{\\cos\\theta}/\\bbox[lightblue]{m} \\\\[0.3em]\n",
        "\\end{bmatrix} \\bbox[lightgreen]{j_2}\n",
        "$"
      ]
    },
    {
      "cell_type": "markdown",
      "id": "120dc42c-3f7d-4868-85e5-ef5d34273718",
      "metadata": {
        "id": "120dc42c-3f7d-4868-85e5-ef5d34273718"
      },
      "source": [
        "# Exercises\n",
        "\n",
        "For these exercises you probably want to copy your linearization notebook from Lesson 4 and edit that directly. Copy over any code you need from the kalman filter notebook (or save those functions to a `.py` file for cleaner operation).  \n",
        "\n",
        "1. Simulate the drone with the new measurement set. Try writing your own function `h(x, u)` that returns the array of measurements. If you really get stuck, the function is in `../Utility/planar_drone.py` (which is already imported)\n",
        "2. Add sensor noise.\n",
        "3. Build a new linear model. Hint: the linear model for the dynamics is the same, but the linear model for C, D is different.\n",
        "4. Define your R and Q matrices. Make it easy to test different Q matrices.\n",
        "5. You can skip the saving / loading data and just do everything in the one notebook.\n",
        "6. Run your linear kalman filter.\n",
        "7. Look at some states, particularly: $[\\theta, \\dot{x}, z, k]$\n",
        "8. Can you make your KF work by tuning Q, like we could for the GPS example?"
      ]
    },
    {
      "cell_type": "code",
      "execution_count": null,
      "id": "6108d729-2ebc-48f7-a594-e79620185534",
      "metadata": {
        "id": "6108d729-2ebc-48f7-a594-e79620185534"
      },
      "outputs": [],
      "source": []
    }
  ],
  "metadata": {
    "kernelspec": {
      "display_name": "PY38",
      "language": "python",
      "name": "py38"
    },
    "language_info": {
      "codemirror_mode": {
        "name": "ipython",
        "version": 3
      },
      "file_extension": ".py",
      "mimetype": "text/x-python",
      "name": "python",
      "nbconvert_exporter": "python",
      "pygments_lexer": "ipython3",
      "version": "3.8.6"
    },
    "colab": {
      "provenance": []
    }
  },
  "nbformat": 4,
  "nbformat_minor": 5
}