{
  "cells": [
    {
      "cell_type": "code",
      "execution_count": 5,
      "metadata": {
        "id": "mVkOXfRjdR-W"
      },
      "outputs": [],
      "source": [
        "import numpy as np\n",
        "import scipy.stats\n",
        "import matplotlib.pyplot as plt"
      ]
    },
    {
      "cell_type": "markdown",
      "metadata": {
        "id": "TsufEOjRdR-Z"
      },
      "source": [
        "# Random Variables\n",
        "\n",
        "Let $v$ be a random variable.\n",
        "\n",
        "Expected value $E[v]$ is the mean:\n",
        "* $E[v] = \\bar{v} = \\frac{1}{N}\\sum_{1}^{N}v_i$\n",
        "\n",
        "Expected value of a vector:\n",
        "* $E[\\mathbf{v}] = \\mathbf{\\bar{v}} = [\\bar{x}_1,...,\\bar{x}_n]^\\top$\n",
        "\n",
        "Variance is $E[(v-E[v])^2]$:\n",
        "* $\\sigma^2=E[(v-\\bar{v})^2]=\\frac{1}{N}\\sum_{1}^{N}(v_i-\\bar{v})^2$\n",
        "\n",
        "Standard deviation is the square root of variance:\n",
        "* $\\sigma$\n",
        "\n",
        "Covariance matrix is $E\\big[ (\\mathbf{x}-E[\\mathbf{x}])(\\mathbf{x}-E[\\mathbf{x}])^{\\top} \\big]$, size $N \\times N$:\n",
        "* $R_{ij}=\\frac{1}{N}\\sum_{k=1}^{N}(x_{ik}-\\bar{x}_i)(x_{jk}-\\bar{x}_j)$\n",
        "* $R = \\mathbf{v} \\mathbf{v}^{\\top}$"
      ]
    },
    {
      "cell_type": "code",
      "execution_count": 6,
      "metadata": {
        "id": "82OHzj6PdR-a"
      },
      "outputs": [],
      "source": [
        "t = np.linspace(0, 6, 2000)\n",
        "\n",
        "noise_mean = 0\n",
        "noise_std_1 = 90\n",
        "v = np.column_stack(np.random.normal(noise_mean, noise_std_1, len(t))).T"
      ]
    },
    {
      "cell_type": "code",
      "execution_count": 7,
      "metadata": {
        "id": "yg9piAcJdR-a"
      },
      "outputs": [],
      "source": [
        "N = scipy.stats.norm(noise_mean, noise_std_1)\n",
        "xr = np.linspace(-300, 300, 1000)\n",
        "pdf = N.pdf(xr)"
      ]
    },
    {
      "cell_type": "markdown",
      "metadata": {
        "id": "pPOkxP6QdR-a"
      },
      "source": [
        "# Histogram"
      ]
    },
    {
      "cell_type": "code",
      "execution_count": 8,
      "metadata": {
        "id": "Y7NtJGGZdR-a",
        "outputId": "6bb5a659-959f-48e5-b5e4-eab829d930ce",
        "colab": {
          "base_uri": "https://localhost:8080/",
          "height": 448
        }
      },
      "outputs": [
        {
          "output_type": "execute_result",
          "data": {
            "text/plain": [
              "[<matplotlib.lines.Line2D at 0x7f48fbe1d640>]"
            ]
          },
          "metadata": {},
          "execution_count": 8
        },
        {
          "output_type": "display_data",
          "data": {
            "text/plain": [
              "<Figure size 640x480 with 1 Axes>"
            ],
            "image/png": "[encoded data removed]"
          },
          "metadata": {}
        }
      ],
      "source": [
        "plt.hist(v, density=True)\n",
        "plt.plot(xr, pdf, color='red')"
      ]
    },
    {
      "cell_type": "markdown",
      "metadata": {
        "id": "X_uBsWWldR-b"
      },
      "source": [
        "# Covariance matrix"
      ]
    },
    {
      "cell_type": "code",
      "execution_count": 9,
      "metadata": {
        "id": "pQjtCWjPdR-b",
        "outputId": "8005100c-7b76-43ca-e8ef-6941fe8a582c",
        "colab": {
          "base_uri": "https://localhost:8080/"
        }
      },
      "outputs": [
        {
          "output_type": "stream",
          "name": "stdout",
          "text": [
            "[[ 5429.56482564  -602.55044293 -1103.04198876  5258.65497524]\n",
            " [ -602.55044293    66.86853329   122.41099614  -583.58358107]\n",
            " [-1103.04198876   122.41099614   224.08824059 -1068.32083755]\n",
            " [ 5258.65497524  -583.58358107 -1068.32083755  5093.12496244]]\n"
          ]
        }
      ],
      "source": [
        "v = np.column_stack(np.random.normal(noise_mean, noise_std_1, 4)).T\n",
        "print(v@v.T)"
      ]
    },
    {
      "cell_type": "markdown",
      "metadata": {
        "id": "UVJuwkSLdR-b"
      },
      "source": [
        "# Empirical convariance matrix"
      ]
    },
    {
      "cell_type": "code",
      "execution_count": 14,
      "metadata": {
        "id": "_eTDydS0dR-c"
      },
      "outputs": [],
      "source": [
        "R = []\n",
        "\n",
        "for i in range(1000):\n",
        "    v = np.column_stack(np.random.normal(noise_mean, noise_std_1, 4)).T\n",
        "    Ri = v@v.T\n",
        "    R.append(Ri)"
      ]
    },
    {
      "cell_type": "code",
      "execution_count": 11,
      "metadata": {
        "id": "-oOauVX2dR-c"
      },
      "outputs": [],
      "source": [
        "Rstack = np.dstack(R)"
      ]
    },
    {
      "cell_type": "code",
      "execution_count": 12,
      "metadata": {
        "id": "-lwi1-XLdR-c",
        "outputId": "200146ba-ebbc-4cf8-cabf-8b22b4c1af04",
        "colab": {
          "base_uri": "https://localhost:8080/"
        }
      },
      "outputs": [
        {
          "output_type": "stream",
          "name": "stdout",
          "text": [
            "[[8896.24413496  440.49202392  427.17170663 -208.8237597 ]\n",
            " [ 440.49202392 7830.29476643 -280.02247753 -144.06872357]\n",
            " [ 427.17170663 -280.02247753 8400.14974473 -525.02181105]\n",
            " [-208.8237597  -144.06872357 -525.02181105 8240.25642183]]\n"
          ]
        }
      ],
      "source": [
        "print( np.mean(Rstack, 2) )"
      ]
    },
    {
      "cell_type": "markdown",
      "metadata": {
        "id": "x5WZi1N8dR-c"
      },
      "source": [
        "# Exercises\n",
        "\n",
        "1. Print out the true covariance matrix. How does the empirical covariance matrix compare?\n",
        "2. Increase the number of iterations (by a lot) in the empirical covariance matrix. How does it compare to the true covariance now?"
      ]
    },
    {
      "cell_type": "code",
      "execution_count": 13,
      "metadata": {
        "id": "NIP0llSwdR-c",
        "outputId": "c1494c13-3c0e-4dd2-a3ef-0fd3d7805dbe",
        "colab": {
          "base_uri": "https://localhost:8080/"
        }
      },
      "outputs": [
        {
          "output_type": "stream",
          "name": "stdout",
          "text": [
            "[[[ 1.17221537e+04  3.65280998e+03  2.92732399e+03 ...  7.33251702e+03\n",
            "    5.54113243e+02  5.74489770e+03]\n",
            "  [ 1.22853488e+04 -7.01801277e+02  3.08386845e+02 ...  8.05658965e+03\n",
            "    1.03201218e+03 -2.01410882e+03]\n",
            "  [ 2.33921175e+03  2.84690588e+03 -7.03422114e+03 ...  5.45711665e+03\n",
            "   -1.08710650e+03 -2.24707380e+03]\n",
            "  [-1.78831957e+04 -8.55837045e+03 -4.06305362e+03 ...  4.25332404e+03\n",
            "   -1.51538839e+02  3.13830124e+02]]\n",
            "\n",
            " [[ 1.22853488e+04 -7.01801277e+02  3.08386845e+02 ...  8.05658965e+03\n",
            "    1.03201218e+03 -2.01410882e+03]\n",
            "  [ 1.28756028e+04  1.34834562e+02  3.24878443e+01 ...  8.85216313e+03\n",
            "    1.92207847e+03  7.06128212e+02]\n",
            "  [ 2.45160001e+03 -5.46965813e+02 -7.41039008e+02 ...  5.99599693e+03\n",
            "   -2.02468928e+03  7.87803612e+02]\n",
            "  [-1.87424003e+04  1.64428901e+03 -4.28033348e+02 ...  4.67333200e+03\n",
            "   -2.82234595e+02 -1.10025984e+02]]\n",
            "\n",
            " [[ 2.33921175e+03  2.84690588e+03 -7.03422114e+03 ...  5.45711665e+03\n",
            "   -1.08710650e+03 -2.24707380e+03]\n",
            "  [ 2.45160001e+03 -5.46965813e+02 -7.41039008e+02 ...  5.99599693e+03\n",
            "   -2.02468928e+03  7.87803612e+02]\n",
            "  [ 4.66800873e+02  2.21880501e+03  1.69029008e+04 ...  4.06137784e+03\n",
            "    2.13277801e+03  8.78926123e+02]\n",
            "  [-3.56867709e+03 -6.67017318e+03  9.76332576e+03 ...  3.16547311e+03\n",
            "    2.97301786e+02 -1.22752307e+02]]\n",
            "\n",
            " [[-1.78831957e+04 -8.55837045e+03 -4.06305362e+03 ...  4.25332404e+03\n",
            "   -1.51538839e+02  3.13830124e+02]\n",
            "  [-1.87424003e+04  1.64428901e+03 -4.28033348e+02 ...  4.67333200e+03\n",
            "   -2.82234595e+02 -1.10025984e+02]\n",
            "  [-3.56867709e+03 -6.67017318e+03  9.76332576e+03 ...  3.16547311e+03\n",
            "    2.97301786e+02 -1.22752307e+02]\n",
            "  [ 2.72824172e+04  2.00518793e+04  5.63941839e+03 ...  2.46719719e+03\n",
            "    4.14428278e+01  1.71437947e+01]]]\n"
          ]
        }
      ],
      "source": [
        "print(Rstack)"
      ]
    },
    {
      "cell_type": "code",
      "source": [
        "R = []\n",
        "\n",
        "for i in range(10000):\n",
        "    v = np.column_stack(np.random.normal(noise_mean, noise_std_1, 4)).T\n",
        "    Ri = v@v.T\n",
        "    R.append(Ri)\n",
        "###########################################\n",
        "\n",
        "Rstack = np.dstack(R)\n",
        "print( np.mean(Rstack, 2) )"
      ],
      "metadata": {
        "id": "vTQ-LXDweFHd",
        "outputId": "ab287f3e-aa89-4518-be44-e1bf4d61d45b",
        "colab": {
          "base_uri": "https://localhost:8080/"
        }
      },
      "execution_count": 16,
      "outputs": [
        {
          "output_type": "stream",
          "name": "stdout",
          "text": [
            "[[ 8.01288712e+03 -4.82870957e+01  1.48021444e+01 -1.14184893e+02]\n",
            " [-4.82870957e+01  8.06574084e+03 -2.59927990e+00  3.60476011e+00]\n",
            " [ 1.48021444e+01 -2.59927990e+00  8.01563133e+03 -7.66460189e+01]\n",
            " [-1.14184893e+02  3.60476011e+00 -7.66460189e+01  8.11652017e+03]]\n"
          ]
        }
      ]
    },
    {
      "cell_type": "code",
      "source": [
        "R = []\n",
        "\n",
        "for i in range(100000):\n",
        "    v = np.column_stack(np.random.normal(noise_mean, noise_std_1, 4)).T\n",
        "    Ri = v@v.T\n",
        "    R.append(Ri)\n",
        "###########################################\n",
        "\n",
        "Rstack = np.dstack(R)\n",
        "print( np.mean(Rstack, 2) )"
      ],
      "metadata": {
        "id": "kTv9sZVxeH3f",
        "outputId": "2e180008-fe8a-4c58-92d0-fff12ccc190b",
        "colab": {
          "base_uri": "https://localhost:8080/"
        }
      },
      "execution_count": 17,
      "outputs": [
        {
          "output_type": "stream",
          "name": "stdout",
          "text": [
            "[[ 8.08856138e+03  4.32417602e+01 -1.18495413e+01 -5.89897425e+01]\n",
            " [ 4.32417602e+01  8.15859569e+03  1.54777860e+01  3.99101737e+01]\n",
            " [-1.18495413e+01  1.54777860e+01  8.07757625e+03 -3.46133115e+00]\n",
            " [-5.89897425e+01  3.99101737e+01 -3.46133115e+00  8.06261210e+03]]\n"
          ]
        }
      ]
    }
  ],
  "metadata": {
    "kernelspec": {
      "display_name": "PY38",
      "language": "python",
      "name": "py38"
    },
    "language_info": {
      "codemirror_mode": {
        "name": "ipython",
        "version": 3
      },
      "file_extension": ".py",
      "mimetype": "text/x-python",
      "name": "python",
      "nbconvert_exporter": "python",
      "pygments_lexer": "ipython3",
      "version": "3.8.6"
    },
    "colab": {
      "provenance": []
    }
  },
  "nbformat": 4,
  "nbformat_minor": 0
}