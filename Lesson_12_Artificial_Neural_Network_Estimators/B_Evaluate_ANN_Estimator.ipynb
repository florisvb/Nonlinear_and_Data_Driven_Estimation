{
 "cells": [
  {
   "cell_type": "code",
   "execution_count": 1,
   "id": "567ed8ea-01bf-4e64-a582-dab64503fea4",
   "metadata": {
    "id": "567ed8ea-01bf-4e64-a582-dab64503fea4"
   },
   "outputs": [],
   "source": [
    "import numpy as np\n",
    "import matplotlib.pyplot as plt\n",
    "import matplotlib as mpl\n",
    "\n",
    "from scipy.integrate import odeint\n",
    "import scipy.optimize\n",
    "\n",
    "import sympy as sp\n",
    "\n",
    "import pandas as pd\n",
    "import os\n",
    "import copy"
   ]
  },
  {
   "cell_type": "code",
   "execution_count": 2,
   "id": "b887736e-bf36-4778-bac1-31cb2892cd2e",
   "metadata": {
    "colab": {
     "base_uri": "https://localhost:8080/"
    },
    "id": "b887736e-bf36-4778-bac1-31cb2892cd2e",
    "outputId": "a30ef2e0-e36e-459a-b1a4-1907881356a9"
   },
   "outputs": [
    {
     "name": "stderr",
     "output_type": "stream",
     "text": [
      "/home/caveman/PY38/lib/python3.8/site-packages/do_mpc/sysid/__init__.py:15: UserWarning: The ONNX feature is not available. Please install the full version of do-mpc to access this feature.\n",
      "  warnings.warn('The ONNX feature is not available. Please install the full version of do-mpc to access this feature.')\n",
      "/home/caveman/PY38/lib/python3.8/site-packages/do_mpc/opcua/__init__.py:14: UserWarning: The opcua feature is not available. Please install the full version of do-mpc to access this feature.\n",
      "  warnings.warn('The opcua feature is not available. Please install the full version of do-mpc to access this feature.')\n"
     ]
    }
   ],
   "source": [
    "try:\n",
    "    import casadi\n",
    "except:\n",
    "    !pip install casadi\n",
    "    import casadi\n",
    "\n",
    "try:\n",
    "    import do_mpc\n",
    "except:\n",
    "    !pip install do_mpc\n",
    "    import do_mpc\n",
    "\n",
    "try:\n",
    "    import pybounds\n",
    "except:\n",
    "    #!pip install pybounds\n",
    "    !pip install git+https://github.com/vanbreugel-lab/pybounds\n",
    "    import pybounds"
   ]
  },
  {
   "cell_type": "code",
   "execution_count": 3,
   "id": "2468518b-2a3b-4de3-8436-8c8bc717d521",
   "metadata": {
    "id": "2468518b-2a3b-4de3-8436-8c8bc717d521"
   },
   "outputs": [
    {
     "name": "stderr",
     "output_type": "stream",
     "text": [
      "2025-10-16 12:55:02.168225: I tensorflow/tsl/cuda/cudart_stub.cc:28] Could not find cuda drivers on your machine, GPU will not be used.\n",
      "2025-10-16 12:55:02.241727: I tensorflow/core/platform/cpu_feature_guard.cc:182] This TensorFlow binary is optimized to use available CPU instructions in performance-critical operations.\n",
      "To enable the following instructions: AVX2 FMA, in other operations, rebuild TensorFlow with the appropriate compiler flags.\n",
      "2025-10-16 12:55:03.470160: W tensorflow/compiler/tf2tensorrt/utils/py_utils.cc:38] TF-TRT Warning: Could not find TensorRT\n"
     ]
    }
   ],
   "source": [
    "import tensorflow as tf\n",
    "from tensorflow.python.client import device_lib\n",
    "import keras\n",
    "from keras.models import Sequential\n",
    "from keras.layers import Dense\n",
    "from IPython.display import display, Image"
   ]
  },
  {
   "cell_type": "code",
   "execution_count": 4,
   "id": "204d02fb-4bcc-48a4-a05e-1b0065c3524d",
   "metadata": {
    "colab": {
     "base_uri": "https://localhost:8080/"
    },
    "id": "204d02fb-4bcc-48a4-a05e-1b0065c3524d",
    "outputId": "d0b27181-4515-4c24-a050-b5974a1c70e0"
   },
   "outputs": [],
   "source": [
    "import sys\n",
    "import requests\n",
    "import importlib\n",
    "\n",
    "def import_local_or_github(package_name, function_name=None, directory=None, giturl=None):\n",
    "    # Import functions directly from github\n",
    "    # Important: note that we use raw.githubusercontent.com, not github.com\n",
    "\n",
    "    try: # to find the file locally\n",
    "        if directory is not None:\n",
    "            if directory not in sys.path:\n",
    "                sys.path.append(directory)\n",
    "\n",
    "        package = importlib.import_module(package_name)\n",
    "        if function_name is not None:\n",
    "            function = getattr(package, function_name)\n",
    "            return function\n",
    "        else:\n",
    "            return package\n",
    "\n",
    "    except: # get the file from github\n",
    "        if giturl is None:\n",
    "            giturl = 'https://raw.githubusercontent.com/florisvb/Nonlinear_and_Data_Driven_Estimation/main/Utility/' + str(package_name) + '.py'\n",
    "\n",
    "        r = requests.get(giturl)\n",
    "        print('Fetching from: ')\n",
    "        print(r)\n",
    "\n",
    "        # Store the file to the colab working directory\n",
    "        with open(package_name+'.py', 'w') as f:\n",
    "            f.write(r.text)\n",
    "        f.close()\n",
    "\n",
    "        # import the function we want from that file\n",
    "        package = importlib.import_module(package_name)\n",
    "        if function_name is not None:\n",
    "            function = getattr(package , function_name)\n",
    "            return function\n",
    "        else:\n",
    "            return package\n",
    "\n",
    "planar_drone = import_local_or_github('planar_drone', directory='../Utility')\n",
    "plot_tme = import_local_or_github('plot_utility', 'plot_tme', directory='../Utility')\n",
    "generate_training_data_utility = import_local_or_github('generate_training_data_utility', directory='../Utility')\n",
    "keras_ann_utility = import_local_or_github('keras_ann_utility', directory='../Utility')"
   ]
  },
  {
   "cell_type": "markdown",
   "id": "7f5196a3-f736-42c8-8ad7-f27ae8e53fcb",
   "metadata": {
    "id": "7f5196a3-f736-42c8-8ad7-f27ae8e53fcb"
   },
   "source": [
    "# Simulate a new trajectory"
   ]
  },
  {
   "cell_type": "code",
   "execution_count": 5,
   "id": "792e21ac-d4d0-4f27-9490-81118b2fdc19",
   "metadata": {
    "id": "792e21ac-d4d0-4f27-9490-81118b2fdc19"
   },
   "outputs": [],
   "source": [
    "f = planar_drone.F(k=1).f\n",
    "h = planar_drone.H('h_camera_imu',k=1).h"
   ]
  },
  {
   "cell_type": "code",
   "execution_count": 6,
   "id": "fafec170-2d05-4f27-aed6-00d31ff35298",
   "metadata": {
    "id": "fafec170-2d05-4f27-aed6-00d31ff35298"
   },
   "outputs": [],
   "source": [
    "t_sim, x_sim, u_sim, y_sim, simulator = planar_drone.simulate_drone(f, h, dt=0.1, tsim_length=20, trajectory_shape='alternating')"
   ]
  },
  {
   "cell_type": "code",
   "execution_count": 7,
   "id": "5ac0dfe6-cf8e-41d7-a4cd-6fa87403e219",
   "metadata": {
    "id": "5ac0dfe6-cf8e-41d7-a4cd-6fa87403e219"
   },
   "outputs": [],
   "source": [
    "measurement_noise_stds = {'optic_flow': 0.2,\n",
    "                          'theta': 0.1,\n",
    "                          'theta_dot': 0.1,\n",
    "                          'accel_x': 0.2,\n",
    "                          'accel_z': 0.2,\n",
    "                          #'k': 0.1,\n",
    "                         }"
   ]
  },
  {
   "cell_type": "code",
   "execution_count": 8,
   "id": "4b23b36c-dd67-4bf4-9cfd-93f233856422",
   "metadata": {
    "id": "4b23b36c-dd67-4bf4-9cfd-93f233856422"
   },
   "outputs": [],
   "source": [
    "y_noisy = {key: y_sim[key] + np.random.normal(0, measurement_noise_stds[key], len(y_sim[key])) for key in y_sim.keys()}"
   ]
  },
  {
   "cell_type": "code",
   "execution_count": 9,
   "id": "f7a76a20-feda-4787-a142-12cc0a577297",
   "metadata": {
    "id": "f7a76a20-feda-4787-a142-12cc0a577297"
   },
   "outputs": [],
   "source": [
    "y_noisy_df = pd.DataFrame(y_noisy)\n",
    "u_sim_df = pd.DataFrame(u_sim)\n",
    "x_sim_df = pd.DataFrame(x_sim)"
   ]
  },
  {
   "cell_type": "markdown",
   "id": "26bab0ce-7c3f-4d16-a298-570927b4b61f",
   "metadata": {
    "id": "26bab0ce-7c3f-4d16-a298-570927b4b61f"
   },
   "source": [
    "# Load the trained model"
   ]
  },
  {
   "cell_type": "code",
   "execution_count": 10,
   "id": "7d043056-5720-430f-92d6-890d232fb290",
   "metadata": {
    "colab": {
     "base_uri": "https://localhost:8080/"
    },
    "id": "7d043056-5720-430f-92d6-890d232fb290",
    "outputId": "7e5fabed-a1dc-419c-f31b-53c0d96392e5"
   },
   "outputs": [],
   "source": [
    "model_weights = 'altitude_estimator_ann_trained_weights.h5'\n",
    "model_config = 'altitude_estimator_ann_trained_config.json'\n",
    "\n",
    "# If the model isn't here, download the pretrained model\n",
    "for path in [model_weights, model_config]:\n",
    "    if not os.path.exists(path):\n",
    "        giturl = 'https://raw.githubusercontent.com/florisvb/Nonlinear_and_Data_Driven_Estimation/main/Trained_Models/'\n",
    "        generate_training_data_utility.download_data(path, giturl=giturl, unzip=False)"
   ]
  },
  {
   "cell_type": "code",
   "execution_count": 11,
   "id": "byuUIf_hAKLg",
   "metadata": {
    "colab": {
     "base_uri": "https://localhost:8080/"
    },
    "id": "byuUIf_hAKLg",
    "outputId": "03fa8b74-b1f9-4886-b561-a2117393cdeb"
   },
   "outputs": [
    {
     "name": "stdout",
     "output_type": "stream",
     "text": [
      "✓ Loaded configuration from: altitude_estimator_ann_trained_config.json\n",
      "✓ Loaded weights from: altitude_estimator_ann_trained_weights.h5\n",
      "\n",
      "Model loaded successfully!\n"
     ]
    },
    {
     "name": "stderr",
     "output_type": "stream",
     "text": [
      "2025-10-16 12:55:14.380050: W tensorflow/core/common_runtime/gpu/gpu_device.cc:1960] Cannot dlopen some GPU libraries. Please make sure the missing libraries mentioned above are installed properly if you would like to use GPU. Follow the guide at https://www.tensorflow.org/install/gpu for how to download and setup the required libraries for your platform.\n",
      "Skipping registering GPU devices...\n"
     ]
    }
   ],
   "source": [
    "model, config = keras_ann_utility.load_model_complete('altitude_estimator_ann_trained')"
   ]
  },
  {
   "cell_type": "markdown",
   "id": "OhUWqhw8gVvh",
   "metadata": {
    "id": "OhUWqhw8gVvh"
   },
   "source": [
    "# Create a fast inference model"
   ]
  },
  {
   "cell_type": "code",
   "execution_count": 12,
   "id": "29a78c0a-b864-492b-88b3-517b922afc90",
   "metadata": {
    "id": "29a78c0a-b864-492b-88b3-517b922afc90"
   },
   "outputs": [],
   "source": [
    "# almost direct from Claude\n",
    "def create_fast_inference_model(trained_model):\n",
    "    \"\"\"\n",
    "    Create an optimized version of the model for fast inference using XLA compilation.\n",
    "    Removes training-specific components (dropout, regularization).\n",
    "\n",
    "    Note: The first prediction will be slower as it includes compilation time.\n",
    "    Subsequent predictions will be fast.\n",
    "\n",
    "    Parameters:\n",
    "    -----------\n",
    "    trained_model : keras model\n",
    "        The trained model\n",
    "\n",
    "    Returns:\n",
    "    --------\n",
    "    inference_func : tf.function\n",
    "        Optimized inference function for predictions\n",
    "\n",
    "    Example:\n",
    "    --------\n",
    "    >>> fast_predict = create_fast_inference_model(model)\n",
    "    >>> # First call is slow (compilation)\n",
    "    >>> predictions = fast_predict(X_core_batch, X_aux_batch) # X_aux_batch is optional, depending on model\n",
    "    >>> # Subsequent calls are fast\n",
    "    >>> predictions = fast_predict(X_core_batch2, X_aux_batch2) # X_aux_batch is optional, depending on model\n",
    "    \"\"\"\n",
    "    # Get the base functional model (without custom training logic)\n",
    "    inputs = trained_model.inputs\n",
    "    outputs = trained_model.outputs\n",
    "\n",
    "    # Create inference-only model\n",
    "    inference_model = keras.Model(inputs=inputs, outputs=outputs)\n",
    "\n",
    "    # Get only trainable weights (excludes metric trackers)\n",
    "    trainable_weights = trained_model.trainable_weights\n",
    "    inference_trainable_weights = inference_model.trainable_weights\n",
    "\n",
    "    # Copy weights\n",
    "    for target_weight, source_weight in zip(inference_trainable_weights, trainable_weights):\n",
    "        target_weight.assign(source_weight)\n",
    "\n",
    "    # Create optimized prediction function\n",
    "    @tf.function(jit_compile=True)  # XLA compilation for speed\n",
    "    def fast_predict(x_core, x_aux=None):\n",
    "        if x_aux is None:\n",
    "            return inference_model([x_core], training=False)\n",
    "        else:\n",
    "            return inference_model([x_core, x_aux], training=False)\n",
    "\n",
    "    print(\"✓ Fast inference model created with XLA compilation\")\n",
    "    print(\"  First prediction will be slow (includes compilation)\")\n",
    "    print(\"  Subsequent predictions will be fast\")\n",
    "    print(\"  Use: predictions = fast_predict(X_core_tensor)\")\n",
    "    print(\"  --- OR ---\")\n",
    "    print(\"  Use: predictions = fast_predict(X_core_tensor, X_aux_tensor)\")\n",
    "    print(\"  Note: Inputs must be TensorFlow tensors (use tf.constant())\")\n",
    "\n",
    "    return fast_predict"
   ]
  },
  {
   "cell_type": "code",
   "execution_count": 13,
   "id": "79534a74-f1d8-43bd-8f59-4ce2bfa09858",
   "metadata": {
    "colab": {
     "base_uri": "https://localhost:8080/"
    },
    "id": "79534a74-f1d8-43bd-8f59-4ce2bfa09858",
    "outputId": "28f6bba0-410c-4e3c-af7f-e98ae256a3e3"
   },
   "outputs": [
    {
     "name": "stdout",
     "output_type": "stream",
     "text": [
      "✓ Fast inference model created with XLA compilation\n",
      "  First prediction will be slow (includes compilation)\n",
      "  Subsequent predictions will be fast\n",
      "  Use: predictions = fast_predict(X_core_tensor)\n",
      "  --- OR ---\n",
      "  Use: predictions = fast_predict(X_core_tensor, X_aux_tensor)\n",
      "  Note: Inputs must be TensorFlow tensors (use tf.constant())\n"
     ]
    }
   ],
   "source": [
    "fast_predict = create_fast_inference_model(model)"
   ]
  },
  {
   "cell_type": "markdown",
   "id": "12973408-cfbf-4847-a6cc-63be25c66f14",
   "metadata": {
    "id": "12973408-cfbf-4847-a6cc-63be25c66f14"
   },
   "source": [
    "# Augment the new trajectory as with the training data"
   ]
  },
  {
   "cell_type": "code",
   "execution_count": 14,
   "id": "ebb08d5c-0a39-410e-9b0d-f0e3ffd9d3d3",
   "metadata": {
    "id": "ebb08d5c-0a39-410e-9b0d-f0e3ffd9d3d3"
   },
   "outputs": [],
   "source": [
    "time_window = 10\n",
    "input_names = ['optic_flow', 'accel_x', 'accel_z']\n",
    "input_offsets = np.arange(time_window)*-1\n",
    "y_noisy_df_aug = keras_ann_utility.collect_offset_rows(y_noisy_df,\n",
    "                                       states=input_names,\n",
    "                                       controls=None,\n",
    "                                       outputs=None,\n",
    "                                       state_offsets=input_offsets,\n",
    "                                       control_offsets=None,\n",
    "                                       output_offsets=None)"
   ]
  },
  {
   "cell_type": "markdown",
   "id": "60bd8fb1-6872-4ba3-96c3-5053ec8aec2c",
   "metadata": {
    "id": "60bd8fb1-6872-4ba3-96c3-5053ec8aec2c"
   },
   "source": [
    "# Run the ANN on the measurements from the new trajectory"
   ]
  },
  {
   "cell_type": "code",
   "execution_count": 15,
   "id": "5f569507-3e76-4760-b5ab-b940bdc8e311",
   "metadata": {
    "id": "5f569507-3e76-4760-b5ab-b940bdc8e311"
   },
   "outputs": [
    {
     "name": "stderr",
     "output_type": "stream",
     "text": [
      "2025-10-16 12:55:16.170741: I tensorflow/compiler/xla/service/service.cc:168] XLA service 0xdb6a160 initialized for platform Host (this does not guarantee that XLA will be used). Devices:\n",
      "2025-10-16 12:55:16.170799: I tensorflow/compiler/xla/service/service.cc:176]   StreamExecutor device (0): Host, Default Version\n",
      "2025-10-16 12:55:16.183950: I tensorflow/compiler/mlir/tensorflow/utils/dump_mlir_util.cc:255] disabling MLIR crash reproducer, set env var `MLIR_CRASH_REPRODUCER_DIRECTORY` to enable.\n",
      "2025-10-16 12:55:16.353412: I ./tensorflow/compiler/jit/device_compiler.h:186] Compiled cluster using XLA!  This line is logged at most once for the lifetime of the process.\n"
     ]
    }
   ],
   "source": [
    "z_pred = []\n",
    "for i in range(len(y_noisy_df_aug)):\n",
    "    y = y_noisy_df_aug.values[i,:]\n",
    "    y_tf = tf.constant(np.atleast_2d(y))\n",
    "    z_pred.append( fast_predict(y_tf) )"
   ]
  },
  {
   "cell_type": "code",
   "execution_count": 16,
   "id": "b86daace-b3d6-451a-b65a-61e612dc64cc",
   "metadata": {
    "id": "b86daace-b3d6-451a-b65a-61e612dc64cc"
   },
   "outputs": [],
   "source": [
    "z_pred = np.ravel(tf.stack(z_pred).numpy())"
   ]
  },
  {
   "cell_type": "markdown",
   "id": "7b5c4573-f5ff-4025-a8bd-1f6fad384ad9",
   "metadata": {
    "id": "7b5c4573-f5ff-4025-a8bd-1f6fad384ad9"
   },
   "source": [
    "# Visualize the results"
   ]
  },
  {
   "cell_type": "code",
   "execution_count": 17,
   "id": "ead0042d-1b62-4f5f-8ab2-cad6457c3afe",
   "metadata": {
    "colab": {
     "base_uri": "https://localhost:8080/",
     "height": 408
    },
    "id": "ead0042d-1b62-4f5f-8ab2-cad6457c3afe",
    "outputId": "665fbb33-6b05-4bde-d564-97677bce2980"
   },
   "outputs": [
    {
     "data": {
      "image/png": "[encoded data removed]",
      "text/plain": [
       "<Figure size 600x400 with 1 Axes>"
      ]
     },
     "metadata": {},
     "output_type": "display_data"
    }
   ],
   "source": [
    "ax = plot_tme(t_sim[time_window-1:], x_sim_df.z.values[time_window-1:], None, z_pred, label_var='z')"
   ]
  },
  {
   "cell_type": "markdown",
   "id": "aa360295-af25-4af2-99cd-261fcc252032",
   "metadata": {
    "id": "aa360295-af25-4af2-99cd-261fcc252032"
   },
   "source": [
    "### Add shading for the high acceleration regions"
   ]
  },
  {
   "cell_type": "code",
   "execution_count": 18,
   "id": "56ef4cdf-1cc8-439e-a52a-f32f65b99e05",
   "metadata": {
    "id": "56ef4cdf-1cc8-439e-a52a-f32f65b99e05"
   },
   "outputs": [],
   "source": [
    "# From claude\n",
    "def find_contiguous_chunks(lst):\n",
    "    \"\"\"\n",
    "    Find contiguous chunks in a list of integers.\n",
    "\n",
    "    Parameters:\n",
    "    -----------\n",
    "    lst : list of int\n",
    "        List of integers\n",
    "\n",
    "    Returns:\n",
    "    --------\n",
    "    list of lists : Each sublist contains a contiguous sequence\n",
    "    \"\"\"\n",
    "    if not lst:\n",
    "        return []\n",
    "\n",
    "    lst = sorted(lst)\n",
    "    chunks = []\n",
    "    current_chunk = [lst[0]]\n",
    "\n",
    "    for i in range(1, len(lst)):\n",
    "        if lst[i] == lst[i-1] + 1:\n",
    "            current_chunk.append(lst[i])\n",
    "        else:\n",
    "            chunks.append(current_chunk)\n",
    "            current_chunk = [lst[i]]\n",
    "\n",
    "    chunks.append(current_chunk)\n",
    "    return chunks"
   ]
  },
  {
   "cell_type": "code",
   "execution_count": 25,
   "id": "3de85ef5-dc6b-4f20-927d-8316ded3ced7",
   "metadata": {
    "id": "3de85ef5-dc6b-4f20-927d-8316ded3ced7"
   },
   "outputs": [],
   "source": [
    "accel_threshold = 3\n",
    "ix_high_accel = np.where( np.abs(y_noisy_df[time_window-1:].accel_x.values) > accel_threshold)[0].tolist()\n",
    "high_accel_chunks = find_contiguous_chunks(ix_high_accel)"
   ]
  },
  {
   "cell_type": "code",
   "execution_count": 26,
   "id": "2389fe7b-b83d-4fdd-a534-8215b15a61cc",
   "metadata": {
    "colab": {
     "base_uri": "https://localhost:8080/",
     "height": 408
    },
    "id": "2389fe7b-b83d-4fdd-a534-8215b15a61cc",
    "outputId": "fb5fef7d-132d-4992-d2f1-90f0e1dbd38b"
   },
   "outputs": [
    {
     "data": {
      "image/png": "[encoded data removed]",
      "text/plain": [
       "<Figure size 600x400 with 1 Axes>"
      ]
     },
     "metadata": {},
     "output_type": "display_data"
    }
   ],
   "source": [
    "ax = plot_tme(t_sim[time_window-1:], x_sim_df.z.values[time_window-1:], None, z_pred, label_var='z')\n",
    "for chunk in high_accel_chunks:\n",
    "    ax.fill_betweenx([-5, 10],\n",
    "                     t_sim[time_window-1:][chunk[0]],\n",
    "                     t_sim[time_window-1:][chunk[-1]],\n",
    "                     edgecolor='none', facecolor='orange', alpha=0.3)"
   ]
  },
  {
   "cell_type": "code",
   "execution_count": 55,
   "id": "m-k9QJLugyiz",
   "metadata": {
    "id": "m-k9QJLugyiz"
   },
   "outputs": [],
   "source": []
  }
 ],
 "metadata": {
  "colab": {
   "provenance": []
  },
  "kernelspec": {
   "display_name": "PY38",
   "language": "python",
   "name": "py38"
  },
  "language_info": {
   "codemirror_mode": {
    "name": "ipython",
    "version": 3
   },
   "file_extension": ".py",
   "mimetype": "text/x-python",
   "name": "python",
   "nbconvert_exporter": "python",
   "pygments_lexer": "ipython3",
   "version": "3.8.6"
  }
 },
 "nbformat": 4,
 "nbformat_minor": 5
}
