{
 "cells": [
  {
   "cell_type": "code",
   "execution_count": 1,
   "id": "a969f402-9690-4a2a-af50-b0873f1a8c22",
   "metadata": {
    "id": "a969f402-9690-4a2a-af50-b0873f1a8c22"
   },
   "outputs": [],
   "source": [
    "import numpy as np\n",
    "import matplotlib.pyplot as plt\n",
    "import matplotlib as mpl\n",
    "\n",
    "from scipy.integrate import odeint\n",
    "import scipy.optimize\n",
    "\n",
    "import sympy as sp\n",
    "\n",
    "import pandas as pd\n",
    "\n",
    "import copy"
   ]
  },
  {
   "cell_type": "code",
   "execution_count": 2,
   "id": "zABsmAwLt9PD",
   "metadata": {
    "colab": {
     "base_uri": "https://localhost:8080/"
    },
    "id": "zABsmAwLt9PD",
    "outputId": "1e0cea4f-68ce-4550-9aa9-7abd832fd583"
   },
   "outputs": [
    {
     "name": "stdout",
     "output_type": "stream",
     "text": [
      "Collecting git+https://github.com/florisvb/PyNumDiff\n",
      "  Cloning https://github.com/florisvb/PyNumDiff to /tmp/pip-req-build-h40by0su\n",
      "  Running command git clone --filter=blob:none --quiet https://github.com/florisvb/PyNumDiff /tmp/pip-req-build-h40by0su\n",
      "  Resolved https://github.com/florisvb/PyNumDiff to commit 842f2232f9a5805a4cdcc79ed7024980a774ada5\n",
      "  Installing build dependencies ... \u001b[?25l\u001b[?25hdone\n",
      "  Getting requirements to build wheel ... \u001b[?25l\u001b[?25hdone\n",
      "  Preparing metadata (pyproject.toml) ... \u001b[?25l\u001b[?25hdone\n",
      "Requirement already satisfied: numpy in /usr/local/lib/python3.12/dist-packages (from pynumdiff==0.3.dev21+g842f2232f) (2.0.2)\n",
      "Requirement already satisfied: scipy in /usr/local/lib/python3.12/dist-packages (from pynumdiff==0.3.dev21+g842f2232f) (1.16.2)\n",
      "Requirement already satisfied: matplotlib in /usr/local/lib/python3.12/dist-packages (from pynumdiff==0.3.dev21+g842f2232f) (3.10.0)\n",
      "Requirement already satisfied: contourpy>=1.0.1 in /usr/local/lib/python3.12/dist-packages (from matplotlib->pynumdiff==0.3.dev21+g842f2232f) (1.3.3)\n",
      "Requirement already satisfied: cycler>=0.10 in /usr/local/lib/python3.12/dist-packages (from matplotlib->pynumdiff==0.3.dev21+g842f2232f) (0.12.1)\n",
      "Requirement already satisfied: fonttools>=4.22.0 in /usr/local/lib/python3.12/dist-packages (from matplotlib->pynumdiff==0.3.dev21+g842f2232f) (4.60.1)\n",
      "Requirement already satisfied: kiwisolver>=1.3.1 in /usr/local/lib/python3.12/dist-packages (from matplotlib->pynumdiff==0.3.dev21+g842f2232f) (1.4.9)\n",
      "Requirement already satisfied: packaging>=20.0 in /usr/local/lib/python3.12/dist-packages (from matplotlib->pynumdiff==0.3.dev21+g842f2232f) (25.0)\n",
      "Requirement already satisfied: pillow>=8 in /usr/local/lib/python3.12/dist-packages (from matplotlib->pynumdiff==0.3.dev21+g842f2232f) (11.3.0)\n",
      "Requirement already satisfied: pyparsing>=2.3.1 in /usr/local/lib/python3.12/dist-packages (from matplotlib->pynumdiff==0.3.dev21+g842f2232f) (3.2.5)\n",
      "Requirement already satisfied: python-dateutil>=2.7 in /usr/local/lib/python3.12/dist-packages (from matplotlib->pynumdiff==0.3.dev21+g842f2232f) (2.9.0.post0)\n",
      "Requirement already satisfied: six>=1.5 in /usr/local/lib/python3.12/dist-packages (from python-dateutil>=2.7->matplotlib->pynumdiff==0.3.dev21+g842f2232f) (1.17.0)\n",
      "Building wheels for collected packages: pynumdiff\n",
      "  Building wheel for pynumdiff (pyproject.toml) ... \u001b[?25l\u001b[?25hdone\n",
      "  Created wheel for pynumdiff: filename=pynumdiff-0.3.dev21+g842f2232f-py3-none-any.whl size=63647 sha256=010488868c7d03d2853b580b609a91bc126d89b0eecdc19f18527997291df2c4\n",
      "  Stored in directory: /tmp/pip-ephem-wheel-cache-vbo69t1c/wheels/d5/d2/d5/e088d09db33998cc8a03da8ed5da944b4512c71615c0dc9e72\n",
      "Successfully built pynumdiff\n",
      "Installing collected packages: pynumdiff\n",
      "Successfully installed pynumdiff-0.3.dev21+g842f2232f\n"
     ]
    }
   ],
   "source": [
    "try:\n",
    "  import pynumdiff\n",
    "except:\n",
    "  !pip install git+https://github.com/florisvb/PyNumDiff\n",
    "  import pynumdiff"
   ]
  },
  {
   "cell_type": "code",
   "execution_count": 3,
   "id": "-yDivKQgbSe7",
   "metadata": {
    "colab": {
     "base_uri": "https://localhost:8080/"
    },
    "id": "-yDivKQgbSe7",
    "outputId": "61fff431-4edf-47fe-d267-2b6e4d030281"
   },
   "outputs": [
    {
     "name": "stdout",
     "output_type": "stream",
     "text": [
      "Collecting pysindy[miosr]\n",
      "  Downloading pysindy-2.0.0-py3-none-any.whl.metadata (23 kB)\n",
      "Requirement already satisfied: scikit-learn!=1.5.0,!=1.6.0,!=1.7.1,>=1.1 in /usr/local/lib/python3.12/dist-packages (from pysindy[miosr]) (1.6.1)\n",
      "Requirement already satisfied: numpy>=2.0 in /usr/local/lib/python3.12/dist-packages (from pysindy[miosr]) (2.0.2)\n",
      "Collecting derivative>=0.6.2 (from pysindy[miosr])\n",
      "  Downloading derivative-0.6.3-py3-none-any.whl.metadata (6.6 kB)\n",
      "Requirement already satisfied: scipy in /usr/local/lib/python3.12/dist-packages (from pysindy[miosr]) (1.16.2)\n",
      "Requirement already satisfied: typing_extensions in /usr/local/lib/python3.12/dist-packages (from pysindy[miosr]) (4.15.0)\n",
      "Collecting gurobipy!=10.0.0,>=9.5.1 (from pysindy[miosr])\n",
      "  Downloading gurobipy-12.0.3-cp312-cp312-manylinux2014_x86_64.manylinux_2_17_x86_64.whl.metadata (16 kB)\n",
      "Requirement already satisfied: importlib-metadata>=7.1.0 in /usr/local/lib/python3.12/dist-packages (from derivative>=0.6.2->pysindy[miosr]) (8.7.0)\n",
      "Requirement already satisfied: joblib>=1.2.0 in /usr/local/lib/python3.12/dist-packages (from scikit-learn!=1.5.0,!=1.6.0,!=1.7.1,>=1.1->pysindy[miosr]) (1.5.2)\n",
      "Requirement already satisfied: threadpoolctl>=3.1.0 in /usr/local/lib/python3.12/dist-packages (from scikit-learn!=1.5.0,!=1.6.0,!=1.7.1,>=1.1->pysindy[miosr]) (3.6.0)\n",
      "Requirement already satisfied: zipp>=3.20 in /usr/local/lib/python3.12/dist-packages (from importlib-metadata>=7.1.0->derivative>=0.6.2->pysindy[miosr]) (3.23.0)\n",
      "Downloading derivative-0.6.3-py3-none-any.whl (14 kB)\n",
      "Downloading gurobipy-12.0.3-cp312-cp312-manylinux2014_x86_64.manylinux_2_17_x86_64.whl (14.3 MB)\n",
      "\u001b[2K   \u001b[90m━━━━━━━━━━━━━━━━━━━━━━━━━━━━━━━━━━━━━━━━\u001b[0m \u001b[32m14.3/14.3 MB\u001b[0m \u001b[31m33.9 MB/s\u001b[0m eta \u001b[36m0:00:00\u001b[0m\n",
      "\u001b[?25hDownloading pysindy-2.0.0-py3-none-any.whl (127 kB)\n",
      "\u001b[2K   \u001b[90m━━━━━━━━━━━━━━━━━━━━━━━━━━━━━━━━━━━━━━━━\u001b[0m \u001b[32m127.8/127.8 kB\u001b[0m \u001b[31m4.7 MB/s\u001b[0m eta \u001b[36m0:00:00\u001b[0m\n",
      "\u001b[?25hInstalling collected packages: gurobipy, derivative, pysindy\n",
      "Successfully installed derivative-0.6.3 gurobipy-12.0.3 pysindy-2.0.0\n",
      "pysindy version is: 2.0.0\n"
     ]
    }
   ],
   "source": [
    "try:\n",
    "  import pysindy as ps\n",
    "except:\n",
    "  #!pip install git+https://github.com/dynamicslab/pysindy\n",
    "  !pip install pysindy[miosr]\n",
    "  import pysindy as ps\n",
    "\n",
    "from packaging.version import Version\n",
    "if Version(ps.__version__) < Version(\"2.0.0\"):\n",
    "  raise ValueError(\"pysindy version is: \" + ps.__version__ + \"This notebook uses syntax that requires pysindy 2.0 or greater.\")\n",
    "else:\n",
    "  print(\"pysindy version is: \" + ps.__version__)"
   ]
  },
  {
   "cell_type": "code",
   "execution_count": 4,
   "id": "AhIsiFZdFCEQ",
   "metadata": {
    "colab": {
     "base_uri": "https://localhost:8080/"
    },
    "id": "AhIsiFZdFCEQ",
    "outputId": "122c9b05-c280-4d8b-fea8-d2501d155276"
   },
   "outputs": [
    {
     "name": "stdout",
     "output_type": "stream",
     "text": [
      "Collecting casadi\n",
      "  Downloading casadi-3.7.2-cp312-none-manylinux2014_x86_64.whl.metadata (2.2 kB)\n",
      "Requirement already satisfied: numpy in /usr/local/lib/python3.12/dist-packages (from casadi) (2.0.2)\n",
      "Downloading casadi-3.7.2-cp312-none-manylinux2014_x86_64.whl (75.6 MB)\n",
      "\u001b[2K   \u001b[90m━━━━━━━━━━━━━━━━━━━━━━━━━━━━━━━━━━━━━━━━\u001b[0m \u001b[32m75.6/75.6 MB\u001b[0m \u001b[31m8.8 MB/s\u001b[0m eta \u001b[36m0:00:00\u001b[0m\n",
      "\u001b[?25hInstalling collected packages: casadi\n",
      "Successfully installed casadi-3.7.2\n",
      "Collecting do_mpc\n",
      "  Downloading do_mpc-5.0.1-py3-none-any.whl.metadata (3.5 kB)\n",
      "Requirement already satisfied: casadi>=3.6.0 in /usr/local/lib/python3.12/dist-packages (from do_mpc) (3.7.2)\n",
      "Requirement already satisfied: scipy in /usr/local/lib/python3.12/dist-packages (from do_mpc) (1.16.2)\n",
      "Requirement already satisfied: numpy in /usr/local/lib/python3.12/dist-packages (from do_mpc) (2.0.2)\n",
      "Requirement already satisfied: matplotlib in /usr/local/lib/python3.12/dist-packages (from do_mpc) (3.10.0)\n",
      "Requirement already satisfied: pandas in /usr/local/lib/python3.12/dist-packages (from do_mpc) (2.2.2)\n",
      "Requirement already satisfied: torch>2.0.0 in /usr/local/lib/python3.12/dist-packages (from do_mpc) (2.8.0+cu126)\n",
      "Requirement already satisfied: filelock in /usr/local/lib/python3.12/dist-packages (from torch>2.0.0->do_mpc) (3.20.0)\n",
      "Requirement already satisfied: typing-extensions>=4.10.0 in /usr/local/lib/python3.12/dist-packages (from torch>2.0.0->do_mpc) (4.15.0)\n",
      "Requirement already satisfied: setuptools in /usr/local/lib/python3.12/dist-packages (from torch>2.0.0->do_mpc) (75.2.0)\n",
      "Requirement already satisfied: sympy>=1.13.3 in /usr/local/lib/python3.12/dist-packages (from torch>2.0.0->do_mpc) (1.13.3)\n",
      "Requirement already satisfied: networkx in /usr/local/lib/python3.12/dist-packages (from torch>2.0.0->do_mpc) (3.5)\n",
      "Requirement already satisfied: jinja2 in /usr/local/lib/python3.12/dist-packages (from torch>2.0.0->do_mpc) (3.1.6)\n",
      "Requirement already satisfied: fsspec in /usr/local/lib/python3.12/dist-packages (from torch>2.0.0->do_mpc) (2025.3.0)\n",
      "Requirement already satisfied: nvidia-cuda-nvrtc-cu12==12.6.77 in /usr/local/lib/python3.12/dist-packages (from torch>2.0.0->do_mpc) (12.6.77)\n",
      "Requirement already satisfied: nvidia-cuda-runtime-cu12==12.6.77 in /usr/local/lib/python3.12/dist-packages (from torch>2.0.0->do_mpc) (12.6.77)\n",
      "Requirement already satisfied: nvidia-cuda-cupti-cu12==12.6.80 in /usr/local/lib/python3.12/dist-packages (from torch>2.0.0->do_mpc) (12.6.80)\n",
      "Requirement already satisfied: nvidia-cudnn-cu12==9.10.2.21 in /usr/local/lib/python3.12/dist-packages (from torch>2.0.0->do_mpc) (9.10.2.21)\n",
      "Requirement already satisfied: nvidia-cublas-cu12==12.6.4.1 in /usr/local/lib/python3.12/dist-packages (from torch>2.0.0->do_mpc) (12.6.4.1)\n",
      "Requirement already satisfied: nvidia-cufft-cu12==11.3.0.4 in /usr/local/lib/python3.12/dist-packages (from torch>2.0.0->do_mpc) (11.3.0.4)\n",
      "Requirement already satisfied: nvidia-curand-cu12==10.3.7.77 in /usr/local/lib/python3.12/dist-packages (from torch>2.0.0->do_mpc) (10.3.7.77)\n",
      "Requirement already satisfied: nvidia-cusolver-cu12==11.7.1.2 in /usr/local/lib/python3.12/dist-packages (from torch>2.0.0->do_mpc) (11.7.1.2)\n",
      "Requirement already satisfied: nvidia-cusparse-cu12==12.5.4.2 in /usr/local/lib/python3.12/dist-packages (from torch>2.0.0->do_mpc) (12.5.4.2)\n",
      "Requirement already satisfied: nvidia-cusparselt-cu12==0.7.1 in /usr/local/lib/python3.12/dist-packages (from torch>2.0.0->do_mpc) (0.7.1)\n",
      "Requirement already satisfied: nvidia-nccl-cu12==2.27.3 in /usr/local/lib/python3.12/dist-packages (from torch>2.0.0->do_mpc) (2.27.3)\n",
      "Requirement already satisfied: nvidia-nvtx-cu12==12.6.77 in /usr/local/lib/python3.12/dist-packages (from torch>2.0.0->do_mpc) (12.6.77)\n",
      "Requirement already satisfied: nvidia-nvjitlink-cu12==12.6.85 in /usr/local/lib/python3.12/dist-packages (from torch>2.0.0->do_mpc) (12.6.85)\n",
      "Requirement already satisfied: nvidia-cufile-cu12==1.11.1.6 in /usr/local/lib/python3.12/dist-packages (from torch>2.0.0->do_mpc) (1.11.1.6)\n",
      "Requirement already satisfied: triton==3.4.0 in /usr/local/lib/python3.12/dist-packages (from torch>2.0.0->do_mpc) (3.4.0)\n",
      "Requirement already satisfied: contourpy>=1.0.1 in /usr/local/lib/python3.12/dist-packages (from matplotlib->do_mpc) (1.3.3)\n",
      "Requirement already satisfied: cycler>=0.10 in /usr/local/lib/python3.12/dist-packages (from matplotlib->do_mpc) (0.12.1)\n",
      "Requirement already satisfied: fonttools>=4.22.0 in /usr/local/lib/python3.12/dist-packages (from matplotlib->do_mpc) (4.60.1)\n",
      "Requirement already satisfied: kiwisolver>=1.3.1 in /usr/local/lib/python3.12/dist-packages (from matplotlib->do_mpc) (1.4.9)\n",
      "Requirement already satisfied: packaging>=20.0 in /usr/local/lib/python3.12/dist-packages (from matplotlib->do_mpc) (25.0)\n",
      "Requirement already satisfied: pillow>=8 in /usr/local/lib/python3.12/dist-packages (from matplotlib->do_mpc) (11.3.0)\n",
      "Requirement already satisfied: pyparsing>=2.3.1 in /usr/local/lib/python3.12/dist-packages (from matplotlib->do_mpc) (3.2.5)\n",
      "Requirement already satisfied: python-dateutil>=2.7 in /usr/local/lib/python3.12/dist-packages (from matplotlib->do_mpc) (2.9.0.post0)\n",
      "Requirement already satisfied: pytz>=2020.1 in /usr/local/lib/python3.12/dist-packages (from pandas->do_mpc) (2025.2)\n",
      "Requirement already satisfied: tzdata>=2022.7 in /usr/local/lib/python3.12/dist-packages (from pandas->do_mpc) (2025.2)\n",
      "Requirement already satisfied: six>=1.5 in /usr/local/lib/python3.12/dist-packages (from python-dateutil>=2.7->matplotlib->do_mpc) (1.17.0)\n",
      "Requirement already satisfied: mpmath<1.4,>=1.1.0 in /usr/local/lib/python3.12/dist-packages (from sympy>=1.13.3->torch>2.0.0->do_mpc) (1.3.0)\n",
      "Requirement already satisfied: MarkupSafe>=2.0 in /usr/local/lib/python3.12/dist-packages (from jinja2->torch>2.0.0->do_mpc) (3.0.3)\n",
      "Downloading do_mpc-5.0.1-py3-none-any.whl (162 kB)\n",
      "\u001b[2K   \u001b[90m━━━━━━━━━━━━━━━━━━━━━━━━━━━━━━━━━━━━━━━━\u001b[0m \u001b[32m162.9/162.9 kB\u001b[0m \u001b[31m2.3 MB/s\u001b[0m eta \u001b[36m0:00:00\u001b[0m\n",
      "\u001b[?25hInstalling collected packages: do_mpc\n",
      "Successfully installed do_mpc-5.0.1\n"
     ]
    },
    {
     "name": "stderr",
     "output_type": "stream",
     "text": [
      "/usr/local/lib/python3.12/dist-packages/do_mpc/sysid/__init__.py:15: UserWarning: The ONNX feature is not available. Please install the full version of do-mpc to access this feature.\n",
      "  warnings.warn('The ONNX feature is not available. Please install the full version of do-mpc to access this feature.')\n",
      "/usr/local/lib/python3.12/dist-packages/do_mpc/opcua/__init__.py:14: UserWarning: The opcua feature is not available. Please install the full version of do-mpc to access this feature.\n",
      "  warnings.warn('The opcua feature is not available. Please install the full version of do-mpc to access this feature.')\n"
     ]
    },
    {
     "name": "stdout",
     "output_type": "stream",
     "text": [
      "Collecting git+https://github.com/vanbreugel-lab/pybounds\n",
      "  Cloning https://github.com/vanbreugel-lab/pybounds to /tmp/pip-req-build-0r1z73kr\n",
      "  Running command git clone --filter=blob:none --quiet https://github.com/vanbreugel-lab/pybounds /tmp/pip-req-build-0r1z73kr\n",
      "  Resolved https://github.com/vanbreugel-lab/pybounds to commit 96f12039ac9e1e3ef4381cd09a026f6bbf70ad5c\n",
      "  Preparing metadata (setup.py) ... \u001b[?25l\u001b[?25hdone\n",
      "Building wheels for collected packages: pybounds\n",
      "  Building wheel for pybounds (setup.py) ... \u001b[?25l\u001b[?25hdone\n",
      "  Created wheel for pybounds: filename=pybounds-0.0.13-py3-none-any.whl size=19546 sha256=3ebc427dda495ef83d306a621fea0c41eaade57a945967751c0b01f8e8bc5bba\n",
      "  Stored in directory: /tmp/pip-ephem-wheel-cache-znsaloxw/wheels/cb/f8/fb/ff1887f9a2f35c3edad7b1acb7da69437c1fd8d885a800578d\n",
      "Successfully built pybounds\n",
      "Installing collected packages: pybounds\n",
      "Successfully installed pybounds-0.0.13\n"
     ]
    }
   ],
   "source": [
    "try:\n",
    "    import casadi\n",
    "except:\n",
    "    !pip install casadi\n",
    "    import casadi\n",
    "\n",
    "try:\n",
    "    import do_mpc\n",
    "except:\n",
    "    !pip install do_mpc\n",
    "    import do_mpc\n",
    "\n",
    "try:\n",
    "    import pybounds\n",
    "except:\n",
    "    #!pip install pybounds\n",
    "    !pip install git+https://github.com/vanbreugel-lab/pybounds\n",
    "    import pybounds"
   ]
  },
  {
   "cell_type": "markdown",
   "id": "7db9afc4-f0db-4e1c-9eb4-8753b03b520e",
   "metadata": {
    "id": "7db9afc4-f0db-4e1c-9eb4-8753b03b520e"
   },
   "source": [
    "### Import plotting utilities and planar drone locally or from github"
   ]
  },
  {
   "cell_type": "code",
   "execution_count": 5,
   "id": "3505415b-84bf-4a4c-9938-a807bfff6c07",
   "metadata": {
    "colab": {
     "base_uri": "https://localhost:8080/"
    },
    "id": "3505415b-84bf-4a4c-9938-a807bfff6c07",
    "outputId": "ba430c4f-056a-4ef5-e16d-0ce20717f86e"
   },
   "outputs": [
    {
     "name": "stdout",
     "output_type": "stream",
     "text": [
      "Fetching from: \n",
      "<Response [200]>\n",
      "Fetching from: \n",
      "<Response [200]>\n",
      "Fetching from: \n",
      "<Response [200]>\n",
      "Fetching from: \n",
      "<Response [200]>\n"
     ]
    }
   ],
   "source": [
    "import sys\n",
    "import requests\n",
    "import importlib\n",
    "\n",
    "def import_local_or_github(package_name, function_name=None, directory=None, giturl=None):\n",
    "    # Import functions directly from github\n",
    "    # Important: note that we use raw.githubusercontent.com, not github.com\n",
    "\n",
    "    try: # to find the file locally\n",
    "        if directory is not None:\n",
    "            if directory not in sys.path:\n",
    "                sys.path.append(directory)\n",
    "\n",
    "        package = importlib.import_module(package_name)\n",
    "        if function_name is not None:\n",
    "            function = getattr(package, function_name)\n",
    "            return function\n",
    "        else:\n",
    "            return package\n",
    "\n",
    "    except: # get the file from github\n",
    "        if giturl is None:\n",
    "            giturl = 'https://raw.githubusercontent.com/florisvb/Nonlinear_and_Data_Driven_Estimation/main/Utility/' + str(package_name) + '.py'\n",
    "\n",
    "        r = requests.get(giturl)\n",
    "        print('Fetching from: ')\n",
    "        print(r)\n",
    "\n",
    "        # Store the file to the colab working directory\n",
    "        with open(package_name+'.py', 'w') as f:\n",
    "            f.write(r.text)\n",
    "        f.close()\n",
    "\n",
    "        # import the function we want from that file\n",
    "        package = importlib.import_module(package_name)\n",
    "        if function_name is not None:\n",
    "            function = getattr(package , function_name)\n",
    "            return function\n",
    "        else:\n",
    "            return package\n",
    "\n",
    "planar_drone = import_local_or_github('planar_drone', directory='../Utility')\n",
    "plot_tme = import_local_or_github('plot_utility', 'plot_tme', directory='../Utility')\n",
    "generate_training_data_utility = import_local_or_github('generate_training_data_utility', directory='../Utility')\n",
    "\n",
    "pysindy_utility = import_local_or_github('pysindy_utility', directory='../Utility')"
   ]
  },
  {
   "cell_type": "markdown",
   "id": "fcb1cb7f-dde4-49bb-9569-b205e8ea4acd",
   "metadata": {
    "id": "fcb1cb7f-dde4-49bb-9569-b205e8ea4acd"
   },
   "source": [
    "# Planar drone dynamics\n",
    "\n",
    "Now we will not include k as a static state. Instead, we will be using SINDy to find all the parameter values, which includes k."
   ]
  },
  {
   "cell_type": "markdown",
   "id": "2a0894d2-a59b-47ee-867a-64b3a3a6d65d",
   "metadata": {
    "id": "2a0894d2-a59b-47ee-867a-64b3a3a6d65d"
   },
   "source": [
    "#### Given the planar drone dynamics\n",
    "\n",
    "$\n",
    "\\mathbf{\\dot{x}} = \\mathbf{f}(\\mathbf{x},\\mathbf{u}) =\n",
    "\\frac{d}{dt}\n",
    "\\begin{bmatrix}\n",
    "\\bbox[yellow]{\\theta} \\\\[0.3em]\n",
    "\\bbox[yellow]{\\dot{\\theta}} \\\\[0.3em]\n",
    "\\bbox[yellow]{x} \\\\[0.3em]\n",
    "\\bbox[yellow]{\\dot{x}} \\\\[0.3em]\n",
    "\\bbox[yellow]{z} \\\\[0.3em]\n",
    "\\bbox[yellow]{\\dot{z}} \\\\[0.3em]\n",
    "\\end{bmatrix} =\n",
    "\\overset{f_0}{\\begin{bmatrix}\n",
    "\\bbox[yellow]{\\dot{\\theta}} \\\\[0.3em]\n",
    "0 \\\\[0.3em]\n",
    "\\bbox[yellow]{\\dot{x}} \\\\[0.3em]\n",
    "0 \\\\[0.3em]\n",
    "\\bbox[yellow]{\\dot{z}} \\\\[0.3em]\n",
    "-\\bbox[lightblue]{g} \\\\[0.3em]\n",
    "\\end{bmatrix}} +\n",
    "\\overset{f_1}{\\begin{bmatrix}\n",
    "0 \\\\[0.3em]\n",
    "\\bbox[lightblue]{l}\\bbox[lightblue]{k}/\\bbox[lightblue]{I_{yy}} \\\\[0.3em]\n",
    "0 \\\\[0.3em]\n",
    "0 \\\\[0.3em]\n",
    "0 \\\\[0.3em]\n",
    "0 \\\\[0.3em]\n",
    "\\end{bmatrix}} \\bbox[lightgreen]{j_1} +\n",
    "\\overset{f_2}{\\begin{bmatrix}\n",
    "0 \\\\[0.3em]\n",
    "0 \\\\[0.3em]\n",
    "0 \\\\[0.3em]\n",
    "-\\bbox[lightblue]{k}\\bbox[yellow]{\\sin\\theta}/\\bbox[lightblue]{m} \\\\[0.3em]\n",
    "0 \\\\[0.3em]\n",
    "\\bbox[lightblue]{k}\\bbox[yellow]{\\cos\\theta}/\\bbox[lightblue]{m}  \\\\[0.3em]\n",
    "\\end{bmatrix}} \\bbox[lightgreen]{j_2}\n",
    "$\n",
    "\n",
    "#### Consider the following sensor combinations:\n",
    "\n",
    "$\n",
    "\\mathbf{y_c} = \\mathbf{{h_c}}(\\mathbf{{x}}, \\mathbf{{u}}) =\n",
    "\\begin{bmatrix}\n",
    "\\bbox[yellow]{\\dot{x}}/\\bbox[yellow]{z} \\\\[0.3em]\n",
    "\\bbox[yellow]{\\theta} \\\\[0.3em]\n",
    "\\bbox[yellow]{\\dot{\\theta}}   \\\\[0.3em]\n",
    "\\ddot{x} = -\\bbox[lightblue]{k} \\sin(\\bbox[yellow]{\\theta}) \\bbox[lightgreen]{j_1} / \\bbox[lightblue]{m}  \\\\[0.3em]\n",
    "\\ddot{z} = -\\bbox[lightblue]{g} + \\bbox[lightblue]{k} \\cos(\\bbox[yellow]{\\theta}) \\bbox[lightgreen]{j_2}/ \\bbox[lightblue]{m}\n",
    "\\end{bmatrix}\n",
    "$"
   ]
  },
  {
   "cell_type": "markdown",
   "id": "fa6181e2-b44d-4c98-a215-86816be62cf8",
   "metadata": {
    "id": "fa6181e2-b44d-4c98-a215-86816be62cf8"
   },
   "source": [
    "# Download, load, clean, and apply noise to data"
   ]
  },
  {
   "cell_type": "code",
   "execution_count": 6,
   "id": "7mM_8zPu5WqW",
   "metadata": {
    "colab": {
     "base_uri": "https://localhost:8080/"
    },
    "id": "7mM_8zPu5WqW",
    "outputId": "fb5a7995-fe51-4207-84f7-7d2ab0a4a9ca"
   },
   "outputs": [
    {
     "name": "stdout",
     "output_type": "stream",
     "text": [
      "Fetching from: https://raw.githubusercontent.com/florisvb/Nonlinear_and_Data_Driven_Estimation/main/Data/planar_drone_trajectories.zip\n",
      "Successfully downloaded planar_drone_trajectories.zip (29316396 bytes)\n",
      "unzipping...\n",
      "Number of trajectories: \n",
      "3001\n",
      "Number of good trajectories: \n",
      "2924\n"
     ]
    }
   ],
   "source": [
    "generate_training_data_utility.download_data('planar_drone_trajectories.zip')\n",
    "traj_list = generate_training_data_utility.load_trajectory_data('planar_drone_trajectories')\n",
    "traj_list = generate_training_data_utility.clean_trajectory_data(traj_list)\n",
    "traj_list = generate_training_data_utility.add_noise_to_trajectory_data(traj_list, 0.02)"
   ]
  },
  {
   "cell_type": "markdown",
   "id": "UxIavkgw7k2t",
   "metadata": {
    "id": "UxIavkgw7k2t"
   },
   "source": [
    "# Compute naive numerical derivatives\n",
    "\n",
    "Note: pysindy can do this for you, but because we have multiple distinct trajectories it is better if we do it externally. Also, that way we can see the derivatives and make sure they are good.\n",
    "\n",
    "There are many ways to do this. Here we use the Savitzky Golay filter, which is a frequency domain sliding polynomial fit.\n",
    "\n",
    "Don't over smooth as that will introduce artificial dynamics.\n",
    "\n",
    "We will calculate the derivatives and save them into each trajectory for access later."
   ]
  },
  {
   "cell_type": "code",
   "execution_count": 7,
   "id": "Fu9e5usL6RF7",
   "metadata": {
    "id": "Fu9e5usL6RF7"
   },
   "outputs": [],
   "source": [
    "state_names =  ['theta', 'theta_dot', 'x', 'x_dot', 'z', 'z_dot']\n",
    "control_names = ['j1', 'j2']"
   ]
  },
  {
   "cell_type": "code",
   "execution_count": 8,
   "id": "bwi4PUx66Qbd",
   "metadata": {
    "id": "bwi4PUx66Qbd"
   },
   "outputs": [],
   "source": [
    "for i, traj in enumerate(traj_list):\n",
    "    for state in state_names:\n",
    "        state_smooth, ddt_state = pynumdiff.savgoldiff(traj[state], 0.1, degree=3, window_size=5, smoothing_win=5)\n",
    "        traj['ddt_' + state] = ddt_state\n",
    "    traj_list[i] = traj"
   ]
  },
  {
   "cell_type": "markdown",
   "id": "ui0jZDs8sL0d",
   "metadata": {
    "id": "ui0jZDs8sL0d"
   },
   "source": [
    "### Plot some of the derivatives\n",
    "\n",
    "Compare the numerical derivative of states with the available states we have. For example, compare the numerical derivative of x with the measurement we have of x. We cannot do this for x_dot, however, since we do not have a measurement of x_ddot.\n",
    "\n",
    "Make sure you are not getting over fitting."
   ]
  },
  {
   "cell_type": "code",
   "execution_count": 9,
   "id": "Ema456TAsJZf",
   "metadata": {
    "colab": {
     "base_uri": "https://localhost:8080/",
     "height": 426
    },
    "id": "Ema456TAsJZf",
    "outputId": "80daf7d7-d6c6-4461-ec75-b872aaa0682b"
   },
   "outputs": [
    {
     "data": {
      "text/plain": [
       "<Axes: xlabel='Time', ylabel='x_dot'>"
      ]
     },
     "execution_count": 9,
     "metadata": {},
     "output_type": "execute_result"
    },
    {
     "data": {
      "image/png": "[encoded data removed]",
      "text/plain": [
       "<Figure size 600x400 with 1 Axes>"
      ]
     },
     "metadata": {},
     "output_type": "display_data"
    }
   ],
   "source": [
    "plot_tme(traj.time, traj['x_dot'], None, traj['ddt_x'], label_var='x_dot')"
   ]
  },
  {
   "cell_type": "code",
   "execution_count": 10,
   "id": "J1ZYlruR-7SL",
   "metadata": {
    "colab": {
     "base_uri": "https://localhost:8080/",
     "height": 426
    },
    "id": "J1ZYlruR-7SL",
    "outputId": "eadc3794-0761-43a9-dc03-7878edd54343"
   },
   "outputs": [
    {
     "data": {
      "text/plain": [
       "<Axes: xlabel='Time', ylabel='theta_dot'>"
      ]
     },
     "execution_count": 10,
     "metadata": {},
     "output_type": "execute_result"
    },
    {
     "data": {
      "image/png": "[encoded data removed]",
      "text/plain": [
       "<Figure size 600x400 with 1 Axes>"
      ]
     },
     "metadata": {},
     "output_type": "display_data"
    }
   ],
   "source": [
    "plot_tme(traj.time, traj['theta_dot'], None, traj['ddt_theta'], label_var='theta_dot')"
   ]
  },
  {
   "cell_type": "code",
   "execution_count": 11,
   "id": "qFkZEG-gG43N",
   "metadata": {
    "colab": {
     "base_uri": "https://localhost:8080/",
     "height": 426
    },
    "id": "qFkZEG-gG43N",
    "outputId": "47a1c130-aa47-4dd0-a8d3-697a8dfdfcb1"
   },
   "outputs": [
    {
     "data": {
      "text/plain": [
       "<Axes: xlabel='Time', ylabel='z_dot'>"
      ]
     },
     "execution_count": 11,
     "metadata": {},
     "output_type": "execute_result"
    },
    {
     "data": {
      "image/png": "[encoded data removed]",
      "text/plain": [
       "<Figure size 600x400 with 1 Axes>"
      ]
     },
     "metadata": {},
     "output_type": "display_data"
    }
   ],
   "source": [
    "plot_tme(traj.time, traj['z_dot'], None, traj['ddt_z'], label_var='z_dot')"
   ]
  },
  {
   "cell_type": "markdown",
   "id": "-2XTjdAf8cAx",
   "metadata": {
    "id": "-2XTjdAf8cAx"
   },
   "source": [
    "# Merge all trajectories\n",
    "\n",
    "And extract the states, controls, and state derivatives."
   ]
  },
  {
   "cell_type": "code",
   "execution_count": 12,
   "id": "D0jmhPvU8VxT",
   "metadata": {
    "id": "D0jmhPvU8VxT"
   },
   "outputs": [],
   "source": [
    "traj_all = pd.concat(traj_list, ignore_index=True)"
   ]
  },
  {
   "cell_type": "code",
   "execution_count": 13,
   "id": "RRCD_dRCHL4a",
   "metadata": {
    "id": "RRCD_dRCHL4a"
   },
   "outputs": [],
   "source": [
    "# extract states and controls\n",
    "X = traj_all[state_names].values\n",
    "U = traj_all[control_names].values\n",
    "\n",
    "# extract derivatives\n",
    "X_dot = traj_all[['ddt_' + state for state in state_names]].values"
   ]
  },
  {
   "cell_type": "markdown",
   "id": "cCcJp3isVzvl",
   "metadata": {
    "id": "cCcJp3isVzvl"
   },
   "source": [
    "# Make a fake time base\n",
    "\n",
    "pysindy expects continuously increasing timestamps, but our trajectories all have their own time bases. Since we calculated our own derivatives this does not pose an issue for pysindy."
   ]
  },
  {
   "cell_type": "code",
   "execution_count": 14,
   "id": "_eM2s2bTVxWM",
   "metadata": {
    "id": "_eM2s2bTVxWM"
   },
   "outputs": [],
   "source": [
    "dt = np.mean(np.diff(traj.time))\n",
    "fake_time = np.arange(0, X.shape[0]*dt, dt)"
   ]
  },
  {
   "cell_type": "markdown",
   "id": "9yt5ovFPU9F2",
   "metadata": {
    "id": "9yt5ovFPU9F2"
   },
   "source": [
    "# Build a SINDy model"
   ]
  },
  {
   "cell_type": "markdown",
   "id": "U9ysf9KkAnAg",
   "metadata": {
    "id": "U9ysf9KkAnAg"
   },
   "source": [
    "### Build a bespoke feature library\n",
    "\n",
    "We can inject some knowledge here, for example:\n",
    "  * let's use $\\sin(\\theta)$ and $\\cos(\\theta)$, but not include $\\theta$ on its own\n",
    "  * to make the library usable with default optimizer licenses, we can restrict it so we only try products of $j_{1,2}$ with $\\sin(\\theta)$ and $\\cos(\\theta)$ and not the other variables"
   ]
  },
  {
   "cell_type": "code",
   "execution_count": 15,
   "id": "dMEznRKRGmUX",
   "metadata": {
    "id": "dMEznRKRGmUX"
   },
   "outputs": [],
   "source": [
    "# First order polynomial library\n",
    "poly_library = ps.PolynomialLibrary(degree=1)\n",
    "\n",
    "# First order polynomial library -- we will use this to only extract the controls\n",
    "# Don't include a bias (a constant) because the first library already has it\n",
    "poly_library_ctrl = ps.PolynomialLibrary(degree=1, include_bias=False)\n",
    "\n",
    "# Custom library that includes sin and cos of variable\n",
    "# Don't include a bias (a constant) because the first library already has it\n",
    "library_functions = [lambda x: np.sin( x ), lambda x: np.cos(x)]\n",
    "library_function_names = [\n",
    "    lambda x: \"sin(\" + x + \")\",\n",
    "    lambda x: \"cos(\" + x + \")\",\n",
    "]\n",
    "sin_cos_library = ps.CustomLibrary(\n",
    "    library_functions=library_functions,\n",
    "    function_names=library_function_names,\n",
    "    include_bias=False\n",
    ")\n",
    "sin_cos_library.library_functions = library_functions\n",
    "sin_cos_library.function_names = library_function_names\n",
    "\n",
    "# Initialize the default inputs, i.e. each library\n",
    "# uses all the input variables, (6 states and 2 controls = 8 inputs and 2 libraries here)\n",
    "\n",
    "# I think this is psindy v 1.0 syntax?\n",
    "#inputs_temp = np.tile([0, 1, 2, 3, 4, 5, 6, 7], 3)\n",
    "#inputs_per_library = np.reshape(inputs_temp, (3, 8))\n",
    "\n",
    "# but this is v. 2.0 syntax\n",
    "inputs_per_library = [[1,2,3,4,5], [6,7], [0]]\n",
    "\n",
    "# Tensor the control library and the sin, cos library together\n",
    "tensor_array = [[0, 1, 1],]\n",
    "\n",
    "# Initialize this generalized library, all the work hidden from the user!\n",
    "generalized_library = ps.GeneralizedLibrary(\n",
    "    [poly_library, poly_library_ctrl, sin_cos_library],\n",
    "    tensor_array=tensor_array,\n",
    "    inputs_per_library=inputs_per_library,\n",
    ")"
   ]
  },
  {
   "cell_type": "markdown",
   "id": "yMDyZMLUBFXO",
   "metadata": {
    "id": "yMDyZMLUBFXO"
   },
   "source": [
    "### Print out the library.. for some reason you have to fit it first\n",
    "\n",
    "Here we use the default sequentially thresholded least squares optimizer (which does not do a good job)."
   ]
  },
  {
   "cell_type": "code",
   "execution_count": 16,
   "id": "PoxiNdN95Qsi",
   "metadata": {
    "colab": {
     "base_uri": "https://localhost:8080/"
    },
    "id": "PoxiNdN95Qsi",
    "outputId": "86dc2f0c-4c59-4efe-df0f-e204f5bcb74b"
   },
   "outputs": [
    {
     "data": {
      "text/plain": [
       "['1',\n",
       " 'theta_dot',\n",
       " 'x',\n",
       " 'x_dot',\n",
       " 'z',\n",
       " 'z_dot',\n",
       " 'j1',\n",
       " 'j2',\n",
       " 'sin(theta)',\n",
       " 'cos(theta)',\n",
       " 'j1 sin(theta)',\n",
       " 'j1 cos(theta)',\n",
       " 'j2 sin(theta)',\n",
       " 'j2 cos(theta)']"
      ]
     },
     "execution_count": 16,
     "metadata": {},
     "output_type": "execute_result"
    }
   ],
   "source": [
    "# Set up optimizer and model\n",
    "optimizer = ps.optimizers.STLSQ()\n",
    "model = ps.SINDy(feature_library=generalized_library, optimizer=optimizer, discrete_time=False)\n",
    "\n",
    "# Fit the model to the data\n",
    "model.fit(X,\n",
    "          t=fake_time,\n",
    "          x_dot=X_dot,\n",
    "          u=U,\n",
    "          feature_names=state_names + control_names)\n",
    "\n",
    "model.get_feature_names()\n",
    "\n",
    "#model.print()"
   ]
  },
  {
   "cell_type": "markdown",
   "id": "tBiJUFPqBRLx",
   "metadata": {
    "id": "tBiJUFPqBRLx"
   },
   "source": [
    "### Now run with MIO optimizer\n",
    "\n",
    "Mixed Integer Optimization allows for a strict sparsity target that will really pare down the total terms that are left.\n",
    "\n",
    "Notice how we have some junk terms, but the structure overall looks pretty good."
   ]
  },
  {
   "cell_type": "code",
   "execution_count": 17,
   "id": "Hei5xhbLl1RK",
   "metadata": {
    "colab": {
     "base_uri": "https://localhost:8080/",
     "height": 185
    },
    "id": "Hei5xhbLl1RK",
    "outputId": "c6c08622-dd0b-420c-efd7-00a2f233a434"
   },
   "outputs": [
    {
     "name": "stdout",
     "output_type": "stream",
     "text": [
      "Restricted license - for non-production use only - expires 2026-11-23\n"
     ]
    },
    {
     "data": {
      "text/html": [
       "<style>#sk-container-id-1 {\n",
       "  /* Definition of color scheme common for light and dark mode */\n",
       "  --sklearn-color-text: #000;\n",
       "  --sklearn-color-text-muted: #666;\n",
       "  --sklearn-color-line: gray;\n",
       "  /* Definition of color scheme for unfitted estimators */\n",
       "  --sklearn-color-unfitted-level-0: #fff5e6;\n",
       "  --sklearn-color-unfitted-level-1: #f6e4d2;\n",
       "  --sklearn-color-unfitted-level-2: #ffe0b3;\n",
       "  --sklearn-color-unfitted-level-3: chocolate;\n",
       "  /* Definition of color scheme for fitted estimators */\n",
       "  --sklearn-color-fitted-level-0: #f0f8ff;\n",
       "  --sklearn-color-fitted-level-1: #d4ebff;\n",
       "  --sklearn-color-fitted-level-2: #b3dbfd;\n",
       "  --sklearn-color-fitted-level-3: cornflowerblue;\n",
       "\n",
       "  /* Specific color for light theme */\n",
       "  --sklearn-color-text-on-default-background: var(--sg-text-color, var(--theme-code-foreground, var(--jp-content-font-color1, black)));\n",
       "  --sklearn-color-background: var(--sg-background-color, var(--theme-background, var(--jp-layout-color0, white)));\n",
       "  --sklearn-color-border-box: var(--sg-text-color, var(--theme-code-foreground, var(--jp-content-font-color1, black)));\n",
       "  --sklearn-color-icon: #696969;\n",
       "\n",
       "  @media (prefers-color-scheme: dark) {\n",
       "    /* Redefinition of color scheme for dark theme */\n",
       "    --sklearn-color-text-on-default-background: var(--sg-text-color, var(--theme-code-foreground, var(--jp-content-font-color1, white)));\n",
       "    --sklearn-color-background: var(--sg-background-color, var(--theme-background, var(--jp-layout-color0, #111)));\n",
       "    --sklearn-color-border-box: var(--sg-text-color, var(--theme-code-foreground, var(--jp-content-font-color1, white)));\n",
       "    --sklearn-color-icon: #878787;\n",
       "  }\n",
       "}\n",
       "\n",
       "#sk-container-id-1 {\n",
       "  color: var(--sklearn-color-text);\n",
       "}\n",
       "\n",
       "#sk-container-id-1 pre {\n",
       "  padding: 0;\n",
       "}\n",
       "\n",
       "#sk-container-id-1 input.sk-hidden--visually {\n",
       "  border: 0;\n",
       "  clip: rect(1px 1px 1px 1px);\n",
       "  clip: rect(1px, 1px, 1px, 1px);\n",
       "  height: 1px;\n",
       "  margin: -1px;\n",
       "  overflow: hidden;\n",
       "  padding: 0;\n",
       "  position: absolute;\n",
       "  width: 1px;\n",
       "}\n",
       "\n",
       "#sk-container-id-1 div.sk-dashed-wrapped {\n",
       "  border: 1px dashed var(--sklearn-color-line);\n",
       "  margin: 0 0.4em 0.5em 0.4em;\n",
       "  box-sizing: border-box;\n",
       "  padding-bottom: 0.4em;\n",
       "  background-color: var(--sklearn-color-background);\n",
       "}\n",
       "\n",
       "#sk-container-id-1 div.sk-container {\n",
       "  /* jupyter's `normalize.less` sets `[hidden] { display: none; }`\n",
       "     but bootstrap.min.css set `[hidden] { display: none !important; }`\n",
       "     so we also need the `!important` here to be able to override the\n",
       "     default hidden behavior on the sphinx rendered scikit-learn.org.\n",
       "     See: https://github.com/scikit-learn/scikit-learn/issues/21755 */\n",
       "  display: inline-block !important;\n",
       "  position: relative;\n",
       "}\n",
       "\n",
       "#sk-container-id-1 div.sk-text-repr-fallback {\n",
       "  display: none;\n",
       "}\n",
       "\n",
       "div.sk-parallel-item,\n",
       "div.sk-serial,\n",
       "div.sk-item {\n",
       "  /* draw centered vertical line to link estimators */\n",
       "  background-image: linear-gradient(var(--sklearn-color-text-on-default-background), var(--sklearn-color-text-on-default-background));\n",
       "  background-size: 2px 100%;\n",
       "  background-repeat: no-repeat;\n",
       "  background-position: center center;\n",
       "}\n",
       "\n",
       "/* Parallel-specific style estimator block */\n",
       "\n",
       "#sk-container-id-1 div.sk-parallel-item::after {\n",
       "  content: \"\";\n",
       "  width: 100%;\n",
       "  border-bottom: 2px solid var(--sklearn-color-text-on-default-background);\n",
       "  flex-grow: 1;\n",
       "}\n",
       "\n",
       "#sk-container-id-1 div.sk-parallel {\n",
       "  display: flex;\n",
       "  align-items: stretch;\n",
       "  justify-content: center;\n",
       "  background-color: var(--sklearn-color-background);\n",
       "  position: relative;\n",
       "}\n",
       "\n",
       "#sk-container-id-1 div.sk-parallel-item {\n",
       "  display: flex;\n",
       "  flex-direction: column;\n",
       "}\n",
       "\n",
       "#sk-container-id-1 div.sk-parallel-item:first-child::after {\n",
       "  align-self: flex-end;\n",
       "  width: 50%;\n",
       "}\n",
       "\n",
       "#sk-container-id-1 div.sk-parallel-item:last-child::after {\n",
       "  align-self: flex-start;\n",
       "  width: 50%;\n",
       "}\n",
       "\n",
       "#sk-container-id-1 div.sk-parallel-item:only-child::after {\n",
       "  width: 0;\n",
       "}\n",
       "\n",
       "/* Serial-specific style estimator block */\n",
       "\n",
       "#sk-container-id-1 div.sk-serial {\n",
       "  display: flex;\n",
       "  flex-direction: column;\n",
       "  align-items: center;\n",
       "  background-color: var(--sklearn-color-background);\n",
       "  padding-right: 1em;\n",
       "  padding-left: 1em;\n",
       "}\n",
       "\n",
       "\n",
       "/* Toggleable style: style used for estimator/Pipeline/ColumnTransformer box that is\n",
       "clickable and can be expanded/collapsed.\n",
       "- Pipeline and ColumnTransformer use this feature and define the default style\n",
       "- Estimators will overwrite some part of the style using the `sk-estimator` class\n",
       "*/\n",
       "\n",
       "/* Pipeline and ColumnTransformer style (default) */\n",
       "\n",
       "#sk-container-id-1 div.sk-toggleable {\n",
       "  /* Default theme specific background. It is overwritten whether we have a\n",
       "  specific estimator or a Pipeline/ColumnTransformer */\n",
       "  background-color: var(--sklearn-color-background);\n",
       "}\n",
       "\n",
       "/* Toggleable label */\n",
       "#sk-container-id-1 label.sk-toggleable__label {\n",
       "  cursor: pointer;\n",
       "  display: flex;\n",
       "  width: 100%;\n",
       "  margin-bottom: 0;\n",
       "  padding: 0.5em;\n",
       "  box-sizing: border-box;\n",
       "  text-align: center;\n",
       "  align-items: start;\n",
       "  justify-content: space-between;\n",
       "  gap: 0.5em;\n",
       "}\n",
       "\n",
       "#sk-container-id-1 label.sk-toggleable__label .caption {\n",
       "  font-size: 0.6rem;\n",
       "  font-weight: lighter;\n",
       "  color: var(--sklearn-color-text-muted);\n",
       "}\n",
       "\n",
       "#sk-container-id-1 label.sk-toggleable__label-arrow:before {\n",
       "  /* Arrow on the left of the label */\n",
       "  content: \"▸\";\n",
       "  float: left;\n",
       "  margin-right: 0.25em;\n",
       "  color: var(--sklearn-color-icon);\n",
       "}\n",
       "\n",
       "#sk-container-id-1 label.sk-toggleable__label-arrow:hover:before {\n",
       "  color: var(--sklearn-color-text);\n",
       "}\n",
       "\n",
       "/* Toggleable content - dropdown */\n",
       "\n",
       "#sk-container-id-1 div.sk-toggleable__content {\n",
       "  max-height: 0;\n",
       "  max-width: 0;\n",
       "  overflow: hidden;\n",
       "  text-align: left;\n",
       "  /* unfitted */\n",
       "  background-color: var(--sklearn-color-unfitted-level-0);\n",
       "}\n",
       "\n",
       "#sk-container-id-1 div.sk-toggleable__content.fitted {\n",
       "  /* fitted */\n",
       "  background-color: var(--sklearn-color-fitted-level-0);\n",
       "}\n",
       "\n",
       "#sk-container-id-1 div.sk-toggleable__content pre {\n",
       "  margin: 0.2em;\n",
       "  border-radius: 0.25em;\n",
       "  color: var(--sklearn-color-text);\n",
       "  /* unfitted */\n",
       "  background-color: var(--sklearn-color-unfitted-level-0);\n",
       "}\n",
       "\n",
       "#sk-container-id-1 div.sk-toggleable__content.fitted pre {\n",
       "  /* unfitted */\n",
       "  background-color: var(--sklearn-color-fitted-level-0);\n",
       "}\n",
       "\n",
       "#sk-container-id-1 input.sk-toggleable__control:checked~div.sk-toggleable__content {\n",
       "  /* Expand drop-down */\n",
       "  max-height: 200px;\n",
       "  max-width: 100%;\n",
       "  overflow: auto;\n",
       "}\n",
       "\n",
       "#sk-container-id-1 input.sk-toggleable__control:checked~label.sk-toggleable__label-arrow:before {\n",
       "  content: \"▾\";\n",
       "}\n",
       "\n",
       "/* Pipeline/ColumnTransformer-specific style */\n",
       "\n",
       "#sk-container-id-1 div.sk-label input.sk-toggleable__control:checked~label.sk-toggleable__label {\n",
       "  color: var(--sklearn-color-text);\n",
       "  background-color: var(--sklearn-color-unfitted-level-2);\n",
       "}\n",
       "\n",
       "#sk-container-id-1 div.sk-label.fitted input.sk-toggleable__control:checked~label.sk-toggleable__label {\n",
       "  background-color: var(--sklearn-color-fitted-level-2);\n",
       "}\n",
       "\n",
       "/* Estimator-specific style */\n",
       "\n",
       "/* Colorize estimator box */\n",
       "#sk-container-id-1 div.sk-estimator input.sk-toggleable__control:checked~label.sk-toggleable__label {\n",
       "  /* unfitted */\n",
       "  background-color: var(--sklearn-color-unfitted-level-2);\n",
       "}\n",
       "\n",
       "#sk-container-id-1 div.sk-estimator.fitted input.sk-toggleable__control:checked~label.sk-toggleable__label {\n",
       "  /* fitted */\n",
       "  background-color: var(--sklearn-color-fitted-level-2);\n",
       "}\n",
       "\n",
       "#sk-container-id-1 div.sk-label label.sk-toggleable__label,\n",
       "#sk-container-id-1 div.sk-label label {\n",
       "  /* The background is the default theme color */\n",
       "  color: var(--sklearn-color-text-on-default-background);\n",
       "}\n",
       "\n",
       "/* On hover, darken the color of the background */\n",
       "#sk-container-id-1 div.sk-label:hover label.sk-toggleable__label {\n",
       "  color: var(--sklearn-color-text);\n",
       "  background-color: var(--sklearn-color-unfitted-level-2);\n",
       "}\n",
       "\n",
       "/* Label box, darken color on hover, fitted */\n",
       "#sk-container-id-1 div.sk-label.fitted:hover label.sk-toggleable__label.fitted {\n",
       "  color: var(--sklearn-color-text);\n",
       "  background-color: var(--sklearn-color-fitted-level-2);\n",
       "}\n",
       "\n",
       "/* Estimator label */\n",
       "\n",
       "#sk-container-id-1 div.sk-label label {\n",
       "  font-family: monospace;\n",
       "  font-weight: bold;\n",
       "  display: inline-block;\n",
       "  line-height: 1.2em;\n",
       "}\n",
       "\n",
       "#sk-container-id-1 div.sk-label-container {\n",
       "  text-align: center;\n",
       "}\n",
       "\n",
       "/* Estimator-specific */\n",
       "#sk-container-id-1 div.sk-estimator {\n",
       "  font-family: monospace;\n",
       "  border: 1px dotted var(--sklearn-color-border-box);\n",
       "  border-radius: 0.25em;\n",
       "  box-sizing: border-box;\n",
       "  margin-bottom: 0.5em;\n",
       "  /* unfitted */\n",
       "  background-color: var(--sklearn-color-unfitted-level-0);\n",
       "}\n",
       "\n",
       "#sk-container-id-1 div.sk-estimator.fitted {\n",
       "  /* fitted */\n",
       "  background-color: var(--sklearn-color-fitted-level-0);\n",
       "}\n",
       "\n",
       "/* on hover */\n",
       "#sk-container-id-1 div.sk-estimator:hover {\n",
       "  /* unfitted */\n",
       "  background-color: var(--sklearn-color-unfitted-level-2);\n",
       "}\n",
       "\n",
       "#sk-container-id-1 div.sk-estimator.fitted:hover {\n",
       "  /* fitted */\n",
       "  background-color: var(--sklearn-color-fitted-level-2);\n",
       "}\n",
       "\n",
       "/* Specification for estimator info (e.g. \"i\" and \"?\") */\n",
       "\n",
       "/* Common style for \"i\" and \"?\" */\n",
       "\n",
       ".sk-estimator-doc-link,\n",
       "a:link.sk-estimator-doc-link,\n",
       "a:visited.sk-estimator-doc-link {\n",
       "  float: right;\n",
       "  font-size: smaller;\n",
       "  line-height: 1em;\n",
       "  font-family: monospace;\n",
       "  background-color: var(--sklearn-color-background);\n",
       "  border-radius: 1em;\n",
       "  height: 1em;\n",
       "  width: 1em;\n",
       "  text-decoration: none !important;\n",
       "  margin-left: 0.5em;\n",
       "  text-align: center;\n",
       "  /* unfitted */\n",
       "  border: var(--sklearn-color-unfitted-level-1) 1pt solid;\n",
       "  color: var(--sklearn-color-unfitted-level-1);\n",
       "}\n",
       "\n",
       ".sk-estimator-doc-link.fitted,\n",
       "a:link.sk-estimator-doc-link.fitted,\n",
       "a:visited.sk-estimator-doc-link.fitted {\n",
       "  /* fitted */\n",
       "  border: var(--sklearn-color-fitted-level-1) 1pt solid;\n",
       "  color: var(--sklearn-color-fitted-level-1);\n",
       "}\n",
       "\n",
       "/* On hover */\n",
       "div.sk-estimator:hover .sk-estimator-doc-link:hover,\n",
       ".sk-estimator-doc-link:hover,\n",
       "div.sk-label-container:hover .sk-estimator-doc-link:hover,\n",
       ".sk-estimator-doc-link:hover {\n",
       "  /* unfitted */\n",
       "  background-color: var(--sklearn-color-unfitted-level-3);\n",
       "  color: var(--sklearn-color-background);\n",
       "  text-decoration: none;\n",
       "}\n",
       "\n",
       "div.sk-estimator.fitted:hover .sk-estimator-doc-link.fitted:hover,\n",
       ".sk-estimator-doc-link.fitted:hover,\n",
       "div.sk-label-container:hover .sk-estimator-doc-link.fitted:hover,\n",
       ".sk-estimator-doc-link.fitted:hover {\n",
       "  /* fitted */\n",
       "  background-color: var(--sklearn-color-fitted-level-3);\n",
       "  color: var(--sklearn-color-background);\n",
       "  text-decoration: none;\n",
       "}\n",
       "\n",
       "/* Span, style for the box shown on hovering the info icon */\n",
       ".sk-estimator-doc-link span {\n",
       "  display: none;\n",
       "  z-index: 9999;\n",
       "  position: relative;\n",
       "  font-weight: normal;\n",
       "  right: .2ex;\n",
       "  padding: .5ex;\n",
       "  margin: .5ex;\n",
       "  width: min-content;\n",
       "  min-width: 20ex;\n",
       "  max-width: 50ex;\n",
       "  color: var(--sklearn-color-text);\n",
       "  box-shadow: 2pt 2pt 4pt #999;\n",
       "  /* unfitted */\n",
       "  background: var(--sklearn-color-unfitted-level-0);\n",
       "  border: .5pt solid var(--sklearn-color-unfitted-level-3);\n",
       "}\n",
       "\n",
       ".sk-estimator-doc-link.fitted span {\n",
       "  /* fitted */\n",
       "  background: var(--sklearn-color-fitted-level-0);\n",
       "  border: var(--sklearn-color-fitted-level-3);\n",
       "}\n",
       "\n",
       ".sk-estimator-doc-link:hover span {\n",
       "  display: block;\n",
       "}\n",
       "\n",
       "/* \"?\"-specific style due to the `<a>` HTML tag */\n",
       "\n",
       "#sk-container-id-1 a.estimator_doc_link {\n",
       "  float: right;\n",
       "  font-size: 1rem;\n",
       "  line-height: 1em;\n",
       "  font-family: monospace;\n",
       "  background-color: var(--sklearn-color-background);\n",
       "  border-radius: 1rem;\n",
       "  height: 1rem;\n",
       "  width: 1rem;\n",
       "  text-decoration: none;\n",
       "  /* unfitted */\n",
       "  color: var(--sklearn-color-unfitted-level-1);\n",
       "  border: var(--sklearn-color-unfitted-level-1) 1pt solid;\n",
       "}\n",
       "\n",
       "#sk-container-id-1 a.estimator_doc_link.fitted {\n",
       "  /* fitted */\n",
       "  border: var(--sklearn-color-fitted-level-1) 1pt solid;\n",
       "  color: var(--sklearn-color-fitted-level-1);\n",
       "}\n",
       "\n",
       "/* On hover */\n",
       "#sk-container-id-1 a.estimator_doc_link:hover {\n",
       "  /* unfitted */\n",
       "  background-color: var(--sklearn-color-unfitted-level-3);\n",
       "  color: var(--sklearn-color-background);\n",
       "  text-decoration: none;\n",
       "}\n",
       "\n",
       "#sk-container-id-1 a.estimator_doc_link.fitted:hover {\n",
       "  /* fitted */\n",
       "  background-color: var(--sklearn-color-fitted-level-3);\n",
       "}\n",
       "</style><div id=\"sk-container-id-1\" class=\"sk-top-container\"><div class=\"sk-text-repr-fallback\"><pre>SINDy(differentiation_method=FiniteDifference(axis=-2),\n",
       "      feature_library=GeneralizedLibrary(inputs_per_library=[[1, 2, 3, 4, 5],\n",
       "                                                             [6, 7], [0]],\n",
       "                                         libraries=[PolynomialLibrary(degree=1),\n",
       "                                                    PolynomialLibrary(degree=1,\n",
       "                                                                      include_bias=False),\n",
       "                                                    CustomLibrary(function_names=[&lt;function &lt;lambda&gt; at 0x78900a1b32e0&gt;,\n",
       "                                                                                  &lt;function &lt;lambda&gt; at 0x78900a1b3380&gt;],\n",
       "                                                                  library_functions=[&lt;function &lt;lambda&gt; at 0x78900a1b31a0&gt;,\n",
       "                                                                                     &lt;function &lt;lambda&gt; at 0x78900a1b3240&gt;])],\n",
       "                                         tensor_array=[[0, 1, 1]]),\n",
       "      optimizer=MIOSR(target_sparsity=9))</pre><b>In a Jupyter environment, please rerun this cell to show the HTML representation or trust the notebook. <br />On GitHub, the HTML representation is unable to render, please try loading this page with nbviewer.org.</b></div><div class=\"sk-container\" hidden><div class=\"sk-item sk-dashed-wrapped\"><div class=\"sk-label-container\"><div class=\"sk-label fitted sk-toggleable\"><input class=\"sk-toggleable__control sk-hidden--visually\" id=\"sk-estimator-id-1\" type=\"checkbox\" ><label for=\"sk-estimator-id-1\" class=\"sk-toggleable__label fitted sk-toggleable__label-arrow\"><div><div>SINDy</div></div><div><span class=\"sk-estimator-doc-link fitted\">i<span>Fitted</span></span></div></label><div class=\"sk-toggleable__content fitted\"><pre>SINDy(differentiation_method=FiniteDifference(axis=-2),\n",
       "      feature_library=GeneralizedLibrary(inputs_per_library=[[1, 2, 3, 4, 5],\n",
       "                                                             [6, 7], [0]],\n",
       "                                         libraries=[PolynomialLibrary(degree=1),\n",
       "                                                    PolynomialLibrary(degree=1,\n",
       "                                                                      include_bias=False),\n",
       "                                                    CustomLibrary(function_names=[&lt;function &lt;lambda&gt; at 0x78900a1b32e0&gt;,\n",
       "                                                                                  &lt;function &lt;lambda&gt; at 0x78900a1b3380&gt;],\n",
       "                                                                  library_functions=[&lt;function &lt;lambda&gt; at 0x78900a1b31a0&gt;,\n",
       "                                                                                     &lt;function &lt;lambda&gt; at 0x78900a1b3240&gt;])],\n",
       "                                         tensor_array=[[0, 1, 1]]),\n",
       "      optimizer=MIOSR(target_sparsity=9))</pre></div> </div></div><div class=\"sk-parallel\"><div class=\"sk-parallel-item\"><div class=\"sk-item\"><div class=\"sk-label-container\"><div class=\"sk-label fitted sk-toggleable\"><input class=\"sk-toggleable__control sk-hidden--visually\" id=\"sk-estimator-id-2\" type=\"checkbox\" ><label for=\"sk-estimator-id-2\" class=\"sk-toggleable__label fitted sk-toggleable__label-arrow\"><div><div>feature_library: GeneralizedLibrary</div></div></label><div class=\"sk-toggleable__content fitted\"><pre>GeneralizedLibrary(inputs_per_library=[[1, 2, 3, 4, 5], [6, 7], [0]],\n",
       "                   libraries=[PolynomialLibrary(degree=1),\n",
       "                              PolynomialLibrary(degree=1, include_bias=False),\n",
       "                              CustomLibrary(function_names=[&lt;function &lt;lambda&gt; at 0x78900a1b32e0&gt;,\n",
       "                                                            &lt;function &lt;lambda&gt; at 0x78900a1b3380&gt;],\n",
       "                                            library_functions=[&lt;function &lt;lambda&gt; at 0x78900a1b31a0&gt;,\n",
       "                                                               &lt;function &lt;lambda&gt; at 0x78900a1b3240&gt;])],\n",
       "                   tensor_array=[[0, 1, 1]])</pre></div> </div></div><div class=\"sk-serial\"><div class=\"sk-item\"><div class=\"sk-estimator fitted sk-toggleable\"><input class=\"sk-toggleable__control sk-hidden--visually\" id=\"sk-estimator-id-3\" type=\"checkbox\" ><label for=\"sk-estimator-id-3\" class=\"sk-toggleable__label fitted sk-toggleable__label-arrow\"><div><div>GeneralizedLibrary</div></div></label><div class=\"sk-toggleable__content fitted\"><pre>GeneralizedLibrary(inputs_per_library=[[1, 2, 3, 4, 5], [6, 7], [0]],\n",
       "                   libraries=[PolynomialLibrary(degree=1),\n",
       "                              PolynomialLibrary(degree=1, include_bias=False),\n",
       "                              CustomLibrary(function_names=[&lt;function &lt;lambda&gt; at 0x78900a1b32e0&gt;,\n",
       "                                                            &lt;function &lt;lambda&gt; at 0x78900a1b3380&gt;],\n",
       "                                            library_functions=[&lt;function &lt;lambda&gt; at 0x78900a1b31a0&gt;,\n",
       "                                                               &lt;function &lt;lambda&gt; at 0x78900a1b3240&gt;])],\n",
       "                   tensor_array=[[0, 1, 1]])</pre></div> </div></div></div></div></div><div class=\"sk-parallel-item\"><div class=\"sk-item\"><div class=\"sk-label-container\"><div class=\"sk-label fitted sk-toggleable\"><input class=\"sk-toggleable__control sk-hidden--visually\" id=\"sk-estimator-id-4\" type=\"checkbox\" ><label for=\"sk-estimator-id-4\" class=\"sk-toggleable__label fitted sk-toggleable__label-arrow\"><div><div>optimizer: MIOSR</div></div></label><div class=\"sk-toggleable__content fitted\"><pre>MIOSR(target_sparsity=9)</pre></div> </div></div><div class=\"sk-serial\"><div class=\"sk-item\"><div class=\"sk-estimator fitted sk-toggleable\"><input class=\"sk-toggleable__control sk-hidden--visually\" id=\"sk-estimator-id-5\" type=\"checkbox\" ><label for=\"sk-estimator-id-5\" class=\"sk-toggleable__label fitted sk-toggleable__label-arrow\"><div><div>MIOSR</div></div></label><div class=\"sk-toggleable__content fitted\"><pre>MIOSR(target_sparsity=9)</pre></div> </div></div></div></div></div></div></div></div></div>"
      ],
      "text/plain": [
       "SINDy(differentiation_method=FiniteDifference(axis=-2),\n",
       "      feature_library=GeneralizedLibrary(inputs_per_library=[[1, 2, 3, 4, 5],\n",
       "                                                             [6, 7], [0]],\n",
       "                                         libraries=[PolynomialLibrary(degree=1),\n",
       "                                                    PolynomialLibrary(degree=1,\n",
       "                                                                      include_bias=False),\n",
       "                                                    CustomLibrary(function_names=[<function <lambda> at 0x78900a1b32e0>,\n",
       "                                                                                  <function <lambda> at 0x78900a1b3380>],\n",
       "                                                                  library_functions=[<function <lambda> at 0x78900a1b31a0>,\n",
       "                                                                                     <function <lambda> at 0x78900a1b3240>])],\n",
       "                                         tensor_array=[[0, 1, 1]]),\n",
       "      optimizer=MIOSR(target_sparsity=9))"
      ]
     },
     "execution_count": 17,
     "metadata": {},
     "output_type": "execute_result"
    }
   ],
   "source": [
    "# Set up optimizer and model\n",
    "optimizer = ps.optimizers.MIOSR(target_sparsity=9)\n",
    "model = ps.SINDy(feature_library=generalized_library, optimizer=optimizer, discrete_time=False)\n",
    "\n",
    "# Fit the model to the data\n",
    "model.fit(X,\n",
    "          t=fake_time,\n",
    "          x_dot=X_dot,\n",
    "          u=U,\n",
    "          feature_names=state_names + control_names)"
   ]
  },
  {
   "cell_type": "code",
   "execution_count": 18,
   "id": "l7ALy2bTITM8",
   "metadata": {
    "colab": {
     "base_uri": "https://localhost:8080/"
    },
    "id": "l7ALy2bTITM8",
    "outputId": "559dad43-ccf9-41d8-d233-daf01d9085af"
   },
   "outputs": [
    {
     "name": "stdout",
     "output_type": "stream",
     "text": [
      "(theta)' = 0.814 theta_dot\n",
      "(theta_dot)' = 1.573 theta_dot + 15.407 j1 + -7.063 sin(theta)\n",
      "(x)' = 0.982 x_dot\n",
      "(x_dot)' = -0.939 j2 sin(theta)\n",
      "(z)' = 0.985 z_dot\n",
      "(z_dot)' = -9.275 1 + 0.947 j2 cos(theta)\n"
     ]
    }
   ],
   "source": [
    "model.print()"
   ]
  },
  {
   "cell_type": "markdown",
   "id": "iHs03MaftVqD",
   "metadata": {
    "id": "iHs03MaftVqD"
   },
   "source": [
    "# Compile the model and save it\n",
    "\n",
    "See `pysindy_fast_inference.ipynb` for break down of code."
   ]
  },
  {
   "cell_type": "code",
   "execution_count": 19,
   "id": "pPG2Vffm9okx",
   "metadata": {
    "id": "pPG2Vffm9okx"
   },
   "outputs": [],
   "source": [
    "theta, theta_dot, x, x_dot, z, z_dot, j1, j2 = sp.symbols('theta, theta_dot, x, x_dot, z, z_dot, j1, j2')\n",
    "symbols = [theta, theta_dot, x, x_dot, z, z_dot, j1, j2]"
   ]
  },
  {
   "cell_type": "code",
   "execution_count": 20,
   "id": "ygOz3bu79ghv",
   "metadata": {
    "id": "ygOz3bu79ghv"
   },
   "outputs": [],
   "source": [
    "lambda_funcs = pysindy_utility.build_lambda_funcs(model.get_feature_names(), symbols)"
   ]
  },
  {
   "cell_type": "code",
   "execution_count": 21,
   "id": "HRGWSaqVDT57",
   "metadata": {
    "id": "HRGWSaqVDT57"
   },
   "outputs": [],
   "source": [
    "sindy_inference_model = pysindy_utility.SINDY_INFERENCE_MODEL(lambda_funcs, model.coefficients())"
   ]
  },
  {
   "cell_type": "code",
   "execution_count": 24,
   "id": "SgjD40o-90JM",
   "metadata": {
    "id": "SgjD40o-90JM"
   },
   "outputs": [],
   "source": [
    "pysindy_utility.save_lambdas_portable(lambda_funcs, model.coefficients(), 'sindy_measurement_model.json')"
   ]
  },
  {
   "cell_type": "markdown",
   "id": "iIClDclcDfFd",
   "metadata": {
    "id": "iIClDclcDfFd"
   },
   "source": [
    "# Evaluate model"
   ]
  },
  {
   "cell_type": "markdown",
   "id": "a7RfEs7vBea3",
   "metadata": {
    "id": "a7RfEs7vBea3"
   },
   "source": [
    "### Compare predicted derivatives to true derivatives\n",
    "\n",
    "Make a true vs predicted plot for each state. Note that this is cheating -- you would not have access to this if all you had was real data."
   ]
  },
  {
   "cell_type": "code",
   "execution_count": 1,
   "id": "w45DG7YyE-JB",
   "metadata": {
    "id": "w45DG7YyE-JB"
   },
   "outputs": [
    {
     "ename": "NameError",
     "evalue": "name 'planar_drone' is not defined",
     "output_type": "error",
     "traceback": [
      "\u001b[0;31m---------------------------------------------------------------------------\u001b[0m",
      "\u001b[0;31mNameError\u001b[0m                                 Traceback (most recent call last)",
      "Cell \u001b[0;32mIn[1], line 2\u001b[0m\n\u001b[1;32m      1\u001b[0m \u001b[38;5;66;03m# Get the real measurement function\u001b[39;00m\n\u001b[0;32m----> 2\u001b[0m h \u001b[38;5;241m=\u001b[39m \u001b[43mplanar_drone\u001b[49m\u001b[38;5;241m.\u001b[39mH(\u001b[38;5;124m'\u001b[39m\u001b[38;5;124mh_camera_imu\u001b[39m\u001b[38;5;124m'\u001b[39m, k\u001b[38;5;241m=\u001b[39m\u001b[38;5;241m1\u001b[39m)\u001b[38;5;241m.\u001b[39mh\n",
      "\u001b[0;31mNameError\u001b[0m: name 'planar_drone' is not defined"
     ]
    }
   ],
   "source": [
    "# Get the real measurement function\n",
    "h = planar_drone.H('h_camera_imu', k=1).h"
   ]
  },
  {
   "cell_type": "code",
   "execution_count": 28,
   "id": "PSzsAoxpNrZL",
   "metadata": {
    "colab": {
     "base_uri": "https://localhost:8080/",
     "height": 465
    },
    "id": "PSzsAoxpNrZL",
    "outputId": "99685b2d-e86e-4a42-9204-5a320a6da732"
   },
   "outputs": [
    {
     "data": {
      "image/png": "[encoded data removed]",
      "text/plain": [
       "<Figure size 640x480 with 6 Axes>"
      ]
     },
     "metadata": {},
     "output_type": "display_data"
    }
   ],
   "source": [
    "fig = plt.figure()\n",
    "\n",
    "# pysindy inference is slow, so don't run on all of the data we have, just a subset is enough to get a sense.\n",
    "N_points = 1000\n",
    "\n",
    "for s in range(6):\n",
    "  ax = fig.add_subplot(2,3,s+1)\n",
    "  ax.set_aspect('equal')\n",
    "\n",
    "  for k in range(0, N_points, 10):\n",
    "\n",
    "    sindy_xdot = sindy_inference_model.predict(X[k:k+1,:], U[k:k+1,:])\n",
    "    true_xdot = f(X[k,:], U[k,:])\n",
    "\n",
    "    ax.plot(sindy_xdot[s], true_xdot[s], '.', color='black')\n",
    "    ax.set_title(state_names[s])"
   ]
  },
  {
   "cell_type": "markdown",
   "id": "wgtWYQcEBStu",
   "metadata": {
    "id": "wgtWYQcEBStu"
   },
   "source": [
    "### Compare predicted derivatives to naive numerical derivatives\n",
    "\n",
    "This is feasible in real life. You can numerically differentiate the data and compare the the SINDy model predictions.\n",
    "\n",
    "As expected, the 2nd derivatives are not great."
   ]
  },
  {
   "cell_type": "code",
   "execution_count": 29,
   "id": "xFTw6Dvm-FIX",
   "metadata": {
    "colab": {
     "base_uri": "https://localhost:8080/",
     "height": 471
    },
    "id": "xFTw6Dvm-FIX",
    "outputId": "807d6e69-552a-499d-8a3e-7708f078fedd"
   },
   "outputs": [
    {
     "data": {
      "image/png": "[encoded data removed]",
      "text/plain": [
       "<Figure size 640x480 with 6 Axes>"
      ]
     },
     "metadata": {},
     "output_type": "display_data"
    }
   ],
   "source": [
    "fig = plt.figure()\n",
    "\n",
    "for s in range(6):\n",
    "  ax = fig.add_subplot(2,3,s+1)\n",
    "  ax.set_aspect('equal')\n",
    "\n",
    "  _, ddt_state = pynumdiff.savgoldiff(X[:,s], dt, degree=3, window_size=9, smoothing_win=9)\n",
    "\n",
    "  for k in range(0, N_points, 10):\n",
    "\n",
    "    sindy_xdot = sindy_inference_model.predict(X[k:k+1,:], U[k:k+1,:])\n",
    "\n",
    "    ax.plot(sindy_xdot[s], ddt_state[k], '.', color='black')\n",
    "    ax.set_title(state_names[s])"
   ]
  },
  {
   "cell_type": "markdown",
   "id": "hc4e_8-eJ1H1",
   "metadata": {
    "id": "hc4e_8-eJ1H1"
   },
   "source": [
    "# Exercises:\n",
    "\n",
    "1. Try some of the other optimizers in pysindy:\n",
    "  * STLSQ\n",
    "  * SSR\n",
    "2. Make the SINDy library more exhaustive\n",
    "  * Note: to use MIOSR with a bigger library you will need to register for a gurobipy license (free for academic email on academic network)."
   ]
  },
  {
   "cell_type": "code",
   "execution_count": null,
   "id": "H9qBvjKbAiTu",
   "metadata": {
    "id": "H9qBvjKbAiTu"
   },
   "outputs": [],
   "source": []
  }
 ],
 "metadata": {
  "colab": {
   "provenance": []
  },
  "kernelspec": {
   "display_name": "PY38",
   "language": "python",
   "name": "py38"
  },
  "language_info": {
   "codemirror_mode": {
    "name": "ipython",
    "version": 3
   },
   "file_extension": ".py",
   "mimetype": "text/x-python",
   "name": "python",
   "nbconvert_exporter": "python",
   "pygments_lexer": "ipython3",
   "version": "3.8.6"
  }
 },
 "nbformat": 4,
 "nbformat_minor": 5
}
