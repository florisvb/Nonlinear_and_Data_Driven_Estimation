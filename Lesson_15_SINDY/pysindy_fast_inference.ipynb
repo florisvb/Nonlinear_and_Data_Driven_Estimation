{
  "nbformat": 4,
  "nbformat_minor": 0,
  "metadata": {
    "colab": {
      "provenance": []
    },
    "kernelspec": {
      "name": "python3",
      "display_name": "Python 3"
    },
    "language_info": {
      "name": "python"
    }
  },
  "cells": [
    {
      "cell_type": "code",
      "execution_count": 2,
      "metadata": {
        "colab": {
          "base_uri": "https://localhost:8080/"
        },
        "id": "BHIlx6Hv-t9d",
        "outputId": "82dcedd2-aff0-4b36-b7af-6eea875fa515"
      },
      "outputs": [
        {
          "output_type": "stream",
          "name": "stdout",
          "text": [
            "Collecting pysindy\n",
            "  Downloading pysindy-2.0.0-py3-none-any.whl.metadata (23 kB)\n",
            "Requirement already satisfied: scikit-learn!=1.5.0,!=1.6.0,!=1.7.1,>=1.1 in /usr/local/lib/python3.12/dist-packages (from pysindy) (1.6.1)\n",
            "Requirement already satisfied: numpy>=2.0 in /usr/local/lib/python3.12/dist-packages (from pysindy) (2.0.2)\n",
            "Collecting derivative>=0.6.2 (from pysindy)\n",
            "  Downloading derivative-0.6.3-py3-none-any.whl.metadata (6.6 kB)\n",
            "Requirement already satisfied: scipy in /usr/local/lib/python3.12/dist-packages (from pysindy) (1.16.2)\n",
            "Requirement already satisfied: typing_extensions in /usr/local/lib/python3.12/dist-packages (from pysindy) (4.15.0)\n",
            "Requirement already satisfied: importlib-metadata>=7.1.0 in /usr/local/lib/python3.12/dist-packages (from derivative>=0.6.2->pysindy) (8.7.0)\n",
            "Requirement already satisfied: joblib>=1.2.0 in /usr/local/lib/python3.12/dist-packages (from scikit-learn!=1.5.0,!=1.6.0,!=1.7.1,>=1.1->pysindy) (1.5.2)\n",
            "Requirement already satisfied: threadpoolctl>=3.1.0 in /usr/local/lib/python3.12/dist-packages (from scikit-learn!=1.5.0,!=1.6.0,!=1.7.1,>=1.1->pysindy) (3.6.0)\n",
            "Requirement already satisfied: zipp>=3.20 in /usr/local/lib/python3.12/dist-packages (from importlib-metadata>=7.1.0->derivative>=0.6.2->pysindy) (3.23.0)\n",
            "Downloading pysindy-2.0.0-py3-none-any.whl (127 kB)\n",
            "\u001b[2K   \u001b[90m━━━━━━━━━━━━━━━━━━━━━━━━━━━━━━━━━━━━━━━━\u001b[0m \u001b[32m127.8/127.8 kB\u001b[0m \u001b[31m4.5 MB/s\u001b[0m eta \u001b[36m0:00:00\u001b[0m\n",
            "\u001b[?25hDownloading derivative-0.6.3-py3-none-any.whl (14 kB)\n",
            "Installing collected packages: derivative, pysindy\n",
            "Successfully installed derivative-0.6.3 pysindy-2.0.0\n"
          ]
        }
      ],
      "source": [
        "!pip install pysindy"
      ]
    },
    {
      "cell_type": "markdown",
      "source": [
        "# Run the basic pysindy example"
      ],
      "metadata": {
        "id": "sqKOg-moAjIx"
      }
    },
    {
      "cell_type": "code",
      "source": [
        "import numpy as np\n",
        "import pysindy as ps"
      ],
      "metadata": {
        "id": "wdipxe7f-v-6"
      },
      "execution_count": 3,
      "outputs": []
    },
    {
      "cell_type": "code",
      "source": [
        "t = np.linspace(0, 1, 100)\n",
        "x = 3 * np.exp(-2 * t)\n",
        "y = 0.5 * np.exp(t)\n",
        "X = np.stack((x, y), axis=-1)  # First column is x, second is y\n",
        "\n",
        "model = ps.SINDy()\n",
        "model.fit(X, t=t, feature_names=[\"x\", \"y\"])\n",
        "model.print()"
      ],
      "metadata": {
        "colab": {
          "base_uri": "https://localhost:8080/"
        },
        "id": "8bm7-1-y-6b1",
        "outputId": "31c03a2b-75ac-4b97-eac3-99cb1bcc54a9"
      },
      "execution_count": 4,
      "outputs": [
        {
          "output_type": "stream",
          "name": "stdout",
          "text": [
            "(x)' = -2.000 x\n",
            "(y)' = 1.000 y\n"
          ]
        }
      ]
    },
    {
      "cell_type": "markdown",
      "source": [
        "### Do inference.. it is very slow"
      ],
      "metadata": {
        "id": "uL9Yq_7rAlD1"
      }
    },
    {
      "cell_type": "code",
      "source": [
        "%timeit model.predict(np.atleast_2d(np.random.random(2)))"
      ],
      "metadata": {
        "colab": {
          "base_uri": "https://localhost:8080/"
        },
        "id": "urNHzEfM-7Gn",
        "outputId": "2f7b9ed0-17d2-4de5-d5a6-e7b93ed9cc68"
      },
      "execution_count": 6,
      "outputs": [
        {
          "output_type": "stream",
          "name": "stdout",
          "text": [
            "1.89 ms ± 157 µs per loop (mean ± std. dev. of 7 runs, 100 loops each)\n"
          ]
        }
      ]
    },
    {
      "cell_type": "markdown",
      "source": [
        "# Helper functions for making fast sindy model and saving to json\n",
        "\n",
        "Note: Claude AI wrote most of this for me at my direction."
      ],
      "metadata": {
        "id": "S4fhmhZWAnNb"
      }
    },
    {
      "cell_type": "code",
      "source": [
        "import sympy as sp\n",
        "import json"
      ],
      "metadata": {
        "id": "BsoWRDdy_c6q"
      },
      "execution_count": 17,
      "outputs": []
    },
    {
      "cell_type": "code",
      "source": [
        "# Build fast lambda functions: mostly written by Claude\n",
        "def build_lambda_funcs(feature_names, symbols):\n",
        "    # replace ' ' with multiplication\n",
        "    for i, feature in enumerate(feature_names):\n",
        "      feature = feature.replace(' ', '*')\n",
        "      feature_names[i] = feature\n",
        "\n",
        "    # Parse feature names into SymPy expressions\n",
        "    sympy_exprs = []\n",
        "    for name in feature_names:\n",
        "          expr = sp.sympify(name.replace('^', '**').replace(' ', '*'))\n",
        "          sympy_exprs.append(expr)\n",
        "\n",
        "    # Convert to fast lambda functions\n",
        "    lambda_funcs = [sp.lambdify(symbols, expr, 'numpy') for expr in sympy_exprs]\n",
        "\n",
        "    return lambda_funcs\n",
        "\n",
        "# When saving: mostly written by Claude\n",
        "def save_sindy_portable(lambda_funcs, coefficients, filename):\n",
        "    func_strings = []\n",
        "    for i, func in enumerate(lambda_funcs):\n",
        "        try:\n",
        "            source = inspect.getsource(func).strip()\n",
        "        except:\n",
        "            import dill\n",
        "            source = dill.source.getsource(func).strip()\n",
        "        func_strings.append(source)\n",
        "\n",
        "    data = {\n",
        "        'function_strings': func_strings,\n",
        "        'coefficients': coefficients.tolist() if hasattr(coefficients, 'tolist') else coefficients\n",
        "    }\n",
        "\n",
        "    with open(filename, 'w') as f:\n",
        "        json.dump(data, f, indent=2)\n",
        "\n",
        "# When loading: mostly written by Claude\n",
        "def load_sindy_portable(filename):\n",
        "    with open(filename, 'r') as f:\n",
        "        data = json.load(f)\n",
        "\n",
        "    # Create comprehensive namespace with all common math functions\n",
        "    namespace = {\n",
        "        'np': np,\n",
        "        'numpy': np,\n",
        "        'sin': np.sin,\n",
        "        'cos': np.cos,\n",
        "        'tan': np.tan,\n",
        "        'exp': np.exp,\n",
        "        'log': np.log,\n",
        "        'sqrt': np.sqrt,\n",
        "        'abs': np.abs,\n",
        "        'sinh': np.sinh,\n",
        "        'cosh': np.cosh,\n",
        "        'tanh': np.tanh,\n",
        "        'arcsin': np.arcsin,\n",
        "        'arccos': np.arccos,\n",
        "        'arctan': np.arctan,\n",
        "        'arctan2': np.arctan2,\n",
        "        'pi': np.pi,\n",
        "        'e': np.e,\n",
        "    }\n",
        "\n",
        "    # Recreate functions\n",
        "    lambda_funcs = []\n",
        "    for func_str in data['function_strings']:\n",
        "        # Use exec for function definitions\n",
        "        exec(func_str, namespace)\n",
        "\n",
        "        # Extract the function from namespace\n",
        "        if func_str.strip().startswith('lambda'):\n",
        "            # It's a lambda expression\n",
        "            lambda_funcs.append(eval(func_str, namespace))\n",
        "        else:\n",
        "            # It's a def function - extract function name\n",
        "            func_name = func_str.split('(')[0].replace('def', '').strip()\n",
        "            lambda_funcs.append(namespace[func_name])\n",
        "\n",
        "    coefficients = np.array(data['coefficients'])\n",
        "    return lambda_funcs, coefficients\n",
        "\n",
        "# Assemble an inference model\n",
        "class SINDY_INFERENCE_MODEL:\n",
        "    def __init__(self, lambda_funcs, coefficients):\n",
        "        self.lambda_funcs = lambda_funcs\n",
        "        self.coefficients = coefficients\n",
        "\n",
        "    def predict(self, x, u=None):\n",
        "        if u is not None:\n",
        "            cols = np.hstack([np.ravel(x), np.ravel(u)])\n",
        "        else:\n",
        "            cols = np.ravel(x)\n",
        "\n",
        "        results = np.array([func(*cols) for func in self.lambda_funcs])\n",
        "        v = self.coefficients@np.atleast_2d(results).T\n",
        "        return v"
      ],
      "metadata": {
        "id": "YaR1l3bf_CtF"
      },
      "execution_count": 33,
      "outputs": []
    },
    {
      "cell_type": "markdown",
      "source": [
        "### Build lambda functions"
      ],
      "metadata": {
        "id": "KEvw_rPuAwUF"
      }
    },
    {
      "cell_type": "code",
      "source": [
        "x, y = sp.symbols('x y')\n",
        "symbols = [x, y]\n",
        "lambda_funcs = build_lambda_funcs(model.get_feature_names(), symbols)"
      ],
      "metadata": {
        "id": "YOYXMCgr_K__"
      },
      "execution_count": 45,
      "outputs": []
    },
    {
      "cell_type": "markdown",
      "source": [
        "### Wrap the lambda functions and run inference\n",
        "\n",
        "It is acceptably faster."
      ],
      "metadata": {
        "id": "Tk1Y2GxXA9vO"
      }
    },
    {
      "cell_type": "code",
      "source": [
        "sindy_inference_model = SINDY_INFERENCE_MODEL(lambda_funcs, model.coefficients())"
      ],
      "metadata": {
        "id": "DAGH-2I6Ayad"
      },
      "execution_count": 46,
      "outputs": []
    },
    {
      "cell_type": "code",
      "source": [
        "%timeit sindy_inference_model.predict(np.atleast_2d(np.random.random(2)))"
      ],
      "metadata": {
        "colab": {
          "base_uri": "https://localhost:8080/"
        },
        "id": "4HyfPOPLA0R9",
        "outputId": "e79dc2cb-1b73-4fe3-ec90-ad6215f81b7b"
      },
      "execution_count": 47,
      "outputs": [
        {
          "output_type": "stream",
          "name": "stdout",
          "text": [
            "16.8 µs ± 991 ns per loop (mean ± std. dev. of 7 runs, 10000 loops each)\n"
          ]
        }
      ]
    },
    {
      "cell_type": "markdown",
      "source": [
        "# Save the model as json, reload it, and use it.\n",
        "\n",
        "This makes the model very portable across python versions, platforms, etc."
      ],
      "metadata": {
        "id": "rnYjSu_cA4QL"
      }
    },
    {
      "cell_type": "code",
      "source": [
        "save_sindy_portable(lambda_funcs, model.coefficients(), 'sindy_model.json')"
      ],
      "metadata": {
        "id": "Qi5j4E5B_fWV"
      },
      "execution_count": 48,
      "outputs": []
    },
    {
      "cell_type": "code",
      "source": [
        "# remove this from the namespace to make sure we're not cheating\n",
        "del(lambda_funcs)"
      ],
      "metadata": {
        "id": "PNjAPkqo_sI0"
      },
      "execution_count": 49,
      "outputs": []
    },
    {
      "cell_type": "code",
      "source": [
        "lambda_funcs, coefficients = load_sindy_portable('sindy_model.json')"
      ],
      "metadata": {
        "id": "IsnnxcXO_zZC"
      },
      "execution_count": 50,
      "outputs": []
    },
    {
      "cell_type": "code",
      "source": [
        "sindy_inference_model = SINDY_INFERENCE_MODEL(lambda_funcs, coefficients)"
      ],
      "metadata": {
        "id": "HXsjLy3E_0Zq"
      },
      "execution_count": 51,
      "outputs": []
    },
    {
      "cell_type": "code",
      "source": [
        "%timeit sindy_inference_model.predict(np.atleast_2d(np.random.random(2)))"
      ],
      "metadata": {
        "colab": {
          "base_uri": "https://localhost:8080/"
        },
        "id": "KfqqqEPcAQtR",
        "outputId": "1016d1ef-1c3a-4ec1-a023-fe2c1925531e"
      },
      "execution_count": 52,
      "outputs": [
        {
          "output_type": "stream",
          "name": "stdout",
          "text": [
            "20.4 µs ± 3.99 µs per loop (mean ± std. dev. of 7 runs, 100000 loops each)\n"
          ]
        }
      ]
    },
    {
      "cell_type": "code",
      "source": [],
      "metadata": {
        "id": "crNfdkeoAg4o"
      },
      "execution_count": null,
      "outputs": []
    }
  ]
}