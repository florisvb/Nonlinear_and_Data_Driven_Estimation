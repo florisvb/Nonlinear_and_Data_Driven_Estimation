{
 "cells": [
  {
   "cell_type": "markdown",
   "metadata": {
    "id": "bglPttkiWXRA"
   },
   "source": [
    "# Symbolic nonlinear observability"
   ]
  },
  {
   "cell_type": "code",
   "execution_count": 20,
   "metadata": {
    "id": "IkancjAOWXRA"
   },
   "outputs": [],
   "source": [
    "import numpy as np\n",
    "import sympy as sp\n",
    "from IPython.display import display"
   ]
  },
  {
   "cell_type": "code",
   "execution_count": 4,
   "metadata": {
    "id": "2UBK5zzMWXRB"
   },
   "outputs": [],
   "source": [
    "# Import functions directly from github\n",
    "# Important: note that we use raw.githubusercontent.com, not github.com\n",
    "\n",
    "import requests\n",
    "url = 'https://raw.githubusercontent.com/florisvb/Nonlinear_and_Data_Driven_Estimation/main/Utility/symbolic_derivatives.py'\n",
    "r = requests.get(url)\n",
    "\n",
    "# Store the file to the colab working directory\n",
    "with open('symbolic_derivatives.py', 'w') as f:\n",
    "    f.write(r.text)\n",
    "\n",
    "# import the function we want from that file\n",
    "import symbolic_derivatives"
   ]
  },
  {
   "cell_type": "markdown",
   "metadata": {
    "id": "2vaALLzyxulW"
   },
   "source": [
    "# Example: downward facing constant altitude monocular camera\n",
    "\n",
    "Here we have a single camera pointed down, moving laterally at constant altitude.\n",
    "\n",
    "$\n",
    "\\mathbf{\\dot{x}} = \\mathbf{f}(\\mathbf{x},\\mathbf{u}) =\n",
    "\\frac{d}{dt}\n",
    "\\begin{bmatrix}\n",
    "\\bbox[yellow]{\\dot{x}} \\\\[0.3em]\n",
    "\\bbox[yellow]{z} \\\\[0.3em]\n",
    "\\end{bmatrix} =\n",
    "\\begin{bmatrix}\n",
    "\\bbox[yellow]{g} \\\\[0.3em]\n",
    "\\bbox[yellow]{z} \\\\[0.3em]\n",
    "\\end{bmatrix} =\n",
    "\\overset{f_0}{\\begin{bmatrix}\n",
    "0 \\\\[0.3em]\n",
    "0\n",
    "\\end{bmatrix}} +\n",
    "\\overset{f_1}{\\begin{bmatrix}\n",
    "1 \\\\[0.3em]\n",
    "0\n",
    "\\end{bmatrix}} \\bbox[lightgreen]{u}\n",
    "$\n",
    "\n",
    "We have 1 measurement, the ventral optic flow. We can also assume we have lateral acceleration measurements, but in this case the acceleration is entirely defined by the control inputs we don't have to add it explicitly.\n",
    "\n",
    "$\n",
    "\\mathbf{y} = \\mathbf{{h}}(\\mathbf{{x}}, \\mathbf{{u}}) =\n",
    "\\begin{bmatrix}\n",
    "\\bbox[yellow]{g/z} \\\\[0.3em]\n",
    "\\end{bmatrix}\n",
    "$"
   ]
  },
  {
   "cell_type": "markdown",
   "metadata": {
    "id": "Pt25BkHpWXRB"
   },
   "source": [
    "# Define states and dynamics in control affine form"
   ]
  },
  {
   "cell_type": "code",
   "execution_count": 6,
   "metadata": {
    "id": "HDy84Qd-WXRB"
   },
   "outputs": [],
   "source": [
    "g, z = sp.symbols(['g', 'z'])\n",
    "x = [g, z]\n",
    "\n",
    "f_0 = sp.Matrix([0,\n",
    "                 0])\n",
    "f_1 = sp.Matrix([1,\n",
    "                 0])"
   ]
  },
  {
   "cell_type": "markdown",
   "metadata": {
    "id": "j9ZSeLxHWXRB"
   },
   "source": [
    "# Define measurements"
   ]
  },
  {
   "cell_type": "code",
   "execution_count": 8,
   "metadata": {
    "id": "2Pfy5vtBWXRB"
   },
   "outputs": [],
   "source": [
    "h = sp.Matrix([g/z])"
   ]
  },
  {
   "cell_type": "markdown",
   "metadata": {
    "id": "D8IlQWSKWXRB"
   },
   "source": [
    "# Calculate each term in G\n",
    "\n",
    "$G = [h, L_{f_0}h, L_{f1}h]$"
   ]
  },
  {
   "cell_type": "code",
   "execution_count": 27,
   "metadata": {
    "colab": {
     "base_uri": "https://localhost:8080/",
     "height": 79
    },
    "id": "B-d7DZVuWXRC",
    "outputId": "55c89479-84ac-44ff-da90-c152c4a10f92"
   },
   "outputs": [
    {
     "data": {
      "text/latex": [
       "$\\displaystyle \\left[\\begin{matrix}0\\end{matrix}\\right]$"
      ],
      "text/plain": [
       "Matrix([[0]])"
      ]
     },
     "metadata": {},
     "output_type": "display_data"
    },
    {
     "name": "stdout",
     "output_type": "stream",
     "text": [
      "\n"
     ]
    },
    {
     "data": {
      "text/latex": [
       "$\\displaystyle \\left[\\begin{matrix}\\frac{1}{z}\\end{matrix}\\right]$"
      ],
      "text/plain": [
       "Matrix([[1/z]])"
      ]
     },
     "metadata": {},
     "output_type": "display_data"
    }
   ],
   "source": [
    "# Take the derivative of h with respect to x along the vector f_0\n",
    "L_f0_h = symbolic_derivatives.directional_derivative(h, x, f_0)\n",
    "display(L_f0_h)\n",
    "\n",
    "print('')\n",
    "\n",
    "# Take the derivative of h with respect to x along the vector f_1\n",
    "L_f1_h = symbolic_derivatives.directional_derivative(h, x, f_1)\n",
    "display(L_f1_h)"
   ]
  },
  {
   "cell_type": "markdown",
   "metadata": {
    "id": "HmSi6kJgWXRC"
   },
   "source": [
    "# Assemble G, take Jacobian"
   ]
  },
  {
   "cell_type": "code",
   "execution_count": 28,
   "metadata": {
    "colab": {
     "base_uri": "https://localhost:8080/",
     "height": 78
    },
    "id": "v2TI7G9XWXRC",
    "outputId": "5d15a7d7-2bff-438b-e686-9ef962e152e7",
    "scrolled": true
   },
   "outputs": [
    {
     "data": {
      "text/latex": [
       "$\\displaystyle \\left[\\begin{matrix}\\frac{g}{z}\\\\0\\\\\\frac{1}{z}\\end{matrix}\\right]$"
      ],
      "text/plain": [
       "Matrix([\n",
       "[g/z],\n",
       "[  0],\n",
       "[1/z]])"
      ]
     },
     "metadata": {},
     "output_type": "display_data"
    }
   ],
   "source": [
    "G = sp.Matrix([h, L_f0_h, L_f1_h])\n",
    "display(G)"
   ]
  },
  {
   "cell_type": "code",
   "execution_count": 29,
   "metadata": {
    "colab": {
     "base_uri": "https://localhost:8080/",
     "height": 78
    },
    "id": "x6ST5FJIWXRC",
    "outputId": "9e30dc6a-7fce-440c-de18-0fcc7cce526f"
   },
   "outputs": [
    {
     "data": {
      "text/latex": [
       "$\\displaystyle \\left[\\begin{matrix}\\frac{1}{z} & - \\frac{g}{z^{2}}\\\\0 & 0\\\\0 & - \\frac{1}{z^{2}}\\end{matrix}\\right]$"
      ],
      "text/plain": [
       "Matrix([\n",
       "[1/z, -g/z**2],\n",
       "[  0,       0],\n",
       "[  0, -1/z**2]])"
      ]
     },
     "execution_count": 29,
     "metadata": {},
     "output_type": "execute_result"
    }
   ],
   "source": [
    "G.jacobian(x)"
   ]
  },
  {
   "cell_type": "markdown",
   "metadata": {
    "id": "kQvQZ1xpWXRC"
   },
   "source": [
    "# Check the rank of G for a given operating point, $x_0$"
   ]
  },
  {
   "cell_type": "code",
   "execution_count": 33,
   "metadata": {
    "colab": {
     "base_uri": "https://localhost:8080/",
     "height": 132
    },
    "id": "JIz4kztyWXRC",
    "outputId": "01355e88-6af8-43de-f58b-ef6cc32046dc"
   },
   "outputs": [
    {
     "data": {
      "text/latex": [
       "$\\displaystyle \\left[\\begin{matrix}\\frac{1}{2} & - \\frac{1}{4}\\\\0 & 0\\\\0 & - \\frac{1}{4}\\end{matrix}\\right]$"
      ],
      "text/plain": [
       "Matrix([\n",
       "[1/2, -1/4],\n",
       "[  0,    0],\n",
       "[  0, -1/4]])"
      ]
     },
     "metadata": {},
     "output_type": "display_data"
    },
    {
     "name": "stdout",
     "output_type": "stream",
     "text": [
      "\n",
      "Rank of G:\n"
     ]
    },
    {
     "data": {
      "text/plain": [
       "2"
      ]
     },
     "execution_count": 33,
     "metadata": {},
     "output_type": "execute_result"
    }
   ],
   "source": [
    "x0 = {g: 1, z: 2}\n",
    "display(G.jacobian(x).subs(x0))\n",
    "\n",
    "print('')\n",
    "print('Rank of G:')\n",
    "G.jacobian(x).subs(x0).rank()"
   ]
  },
  {
   "cell_type": "markdown",
   "metadata": {
    "id": "QfGgIGlyWXRD"
   },
   "source": [
    "# Shortcut function to get G:"
   ]
  },
  {
   "cell_type": "markdown",
   "metadata": {
    "id": "lw7B1XCFWXRD"
   },
   "source": [
    "### First derivatives"
   ]
  },
  {
   "cell_type": "code",
   "execution_count": 39,
   "metadata": {
    "colab": {
     "base_uri": "https://localhost:8080/",
     "height": 261
    },
    "id": "exWQHbZ1WXRD",
    "outputId": "d8fa6305-e287-46f0-ec21-c212535df25e"
   },
   "outputs": [
    {
     "data": {
      "text/latex": [
       "$\\displaystyle \\left[\\begin{matrix}\\frac{g}{z}\\\\0\\\\\\frac{1}{z}\\\\\\frac{g}{z}\\\\0\\\\\\frac{1}{z}\\\\0\\\\0\\\\0\\\\\\frac{1}{z}\\\\0\\\\0\\end{matrix}\\right]$"
      ],
      "text/plain": [
       "Matrix([\n",
       "[g/z],\n",
       "[  0],\n",
       "[1/z],\n",
       "[g/z],\n",
       "[  0],\n",
       "[1/z],\n",
       "[  0],\n",
       "[  0],\n",
       "[  0],\n",
       "[1/z],\n",
       "[  0],\n",
       "[  0]])"
      ]
     },
     "metadata": {},
     "output_type": "display_data"
    }
   ],
   "source": [
    "# First derivatives\n",
    "G1 =  symbolic_derivatives.get_bigO(h, x,[f_0, f_1])\n",
    "\n",
    "# Second derivatives\n",
    "G2 =  symbolic_derivatives.get_bigO(sp.Matrix.vstack(*G1), x, [f_0, f_1] )\n",
    "\n",
    "# Both first and second derivatives\n",
    "G = sp.Matrix.vstack(*G1, *G2)\n",
    "display(G)"
   ]
  },
  {
   "cell_type": "markdown",
   "metadata": {
    "id": "uLjYLzml1Yu9"
   },
   "source": [
    "# Exercises:\n",
    "\n",
    "1. Is the system observable with no controls (i.e. $u=0$)?\n",
    "2. Is the system observable with control? (i.e. $u\\neq0$)?\n",
    "3. How many derivatives are needed, 1 or 2?\n",
    "3. Apply the symbolic approach to the planar drone example with the measurements below. What is necessary in order for $z$ to be observable?"
   ]
  },
  {
   "cell_type": "code",
   "execution_count": null,
   "metadata": {
    "id": "Rlol_eMyWXRD"
   },
   "outputs": [],
   "source": []
  }
 ],
 "metadata": {
  "colab": {
   "provenance": []
  },
  "kernelspec": {
   "display_name": "PY38",
   "language": "python",
   "name": "py38"
  },
  "language_info": {
   "codemirror_mode": {
    "name": "ipython",
    "version": 3
   },
   "file_extension": ".py",
   "mimetype": "text/x-python",
   "name": "python",
   "nbconvert_exporter": "python",
   "pygments_lexer": "ipython3",
   "version": "3.8.6"
  }
 },
 "nbformat": 4,
 "nbformat_minor": 4
}
