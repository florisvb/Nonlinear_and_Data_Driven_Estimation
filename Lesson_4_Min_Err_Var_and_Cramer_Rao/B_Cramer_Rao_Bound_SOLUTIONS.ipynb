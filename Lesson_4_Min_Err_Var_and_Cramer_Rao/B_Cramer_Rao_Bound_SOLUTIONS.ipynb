{
  "cells": [
    {
      "cell_type": "code",
      "execution_count": 1,
      "metadata": {
        "id": "5adnveKNMoUc"
      },
      "outputs": [],
      "source": [
        "import numpy as np\n",
        "import scipy.stats\n",
        "import matplotlib.pyplot as plt"
      ]
    },
    {
      "cell_type": "code",
      "execution_count": 2,
      "metadata": {
        "id": "DiB5BoxUMoUd",
        "outputId": "cebe223c-c88b-4b01-9f32-40f7a261a1a3",
        "colab": {
          "base_uri": "https://localhost:8080/"
        }
      },
      "outputs": [
        {
          "output_type": "stream",
          "name": "stdout",
          "text": [
            "Fetching from: \n",
            "<Response [200]>\n"
          ]
        }
      ],
      "source": [
        "import sys\n",
        "import requests\n",
        "import importlib\n",
        "\n",
        "def import_local_or_github(package_name, function_name=None, directory=None, giturl=None):\n",
        "    # Import functions directly from github\n",
        "    # Important: note that we use raw.githubusercontent.com, not github.com\n",
        "\n",
        "    try: # to find the file locally\n",
        "        if directory is not None:\n",
        "            if directory not in sys.path:\n",
        "                sys.path.append(directory)\n",
        "\n",
        "        package = importlib.import_module(package_name)\n",
        "        if function_name is not None:\n",
        "            function = getattr(package, function_name)\n",
        "            return function\n",
        "        else:\n",
        "            return package\n",
        "\n",
        "    except: # get the file from github\n",
        "        if giturl is None:\n",
        "            giturl = 'https://raw.githubusercontent.com/florisvb/Nonlinear_and_Data_Driven_Estimation/main/Utility/' + str(package_name) + '.py'\n",
        "\n",
        "        r = requests.get(giturl)\n",
        "        print('Fetching from: ')\n",
        "        print(r)\n",
        "\n",
        "        # Store the file to the colab working directory\n",
        "        with open(package_name+'.py', 'w') as f:\n",
        "            f.write(r.text)\n",
        "        f.close()\n",
        "\n",
        "        # import the function we want from that file\n",
        "        package = importlib.import_module(package_name)\n",
        "        if function_name is not None:\n",
        "            function = getattr(package , function_name)\n",
        "            return function\n",
        "        else:\n",
        "            return package\n",
        "\n",
        "plot_tme = import_local_or_github('plot_utility', 'plot_tme', directory='../Utility')"
      ]
    },
    {
      "cell_type": "code",
      "execution_count": 3,
      "metadata": {
        "id": "W-NdgZO8MoUd"
      },
      "outputs": [],
      "source": [
        "inv = np.linalg.inv"
      ]
    },
    {
      "cell_type": "markdown",
      "metadata": {
        "id": "Y_6M6cszMoUd"
      },
      "source": [
        "# Generate sample time series data\n",
        "\n",
        "Same as Linear Least Squares example, without the exponential."
      ]
    },
    {
      "cell_type": "code",
      "execution_count": 4,
      "metadata": {
        "id": "aIJqZp2pMoUe"
      },
      "outputs": [],
      "source": [
        "t = np.linspace(0, 3, 60)\n",
        "x = np.array([[1, 1, 2]]).T\n",
        "H = np.vstack([t, np.sin(t), np.cos(2*t)]).T\n",
        "y = H@x"
      ]
    },
    {
      "cell_type": "markdown",
      "metadata": {
        "id": "EqSQH6ePMoUe"
      },
      "source": [
        "# Two sensors"
      ]
    },
    {
      "cell_type": "code",
      "execution_count": 16,
      "metadata": {
        "id": "_gtKSepXMoUe"
      },
      "outputs": [],
      "source": [
        "noise_mean = 0\n",
        "\n",
        "noise_std_1 = 2\n",
        "noise_std_2 = 0.5\n",
        "\n",
        "v = []\n",
        "v_std = []\n",
        "noise_i = 1\n",
        "n_chunks = 0\n",
        "while len(v)<len(t):\n",
        "    if noise_i == 1:\n",
        "        noise_i = 2\n",
        "        noise_std = noise_std_2\n",
        "        chunk_size = 10\n",
        "    else:\n",
        "        noise_i = 1\n",
        "        noise_std = noise_std_1\n",
        "        chunk_size = 10\n",
        "\n",
        "    v_std = np.hstack( (v_std, [noise_std]*chunk_size) )\n",
        "    v = np.hstack( (v, np.random.normal(noise_mean, noise_std, chunk_size)) )\n",
        "    n_chunks += 1\n",
        "\n",
        "v_std = v_std[0:len(t)]\n",
        "v = v[0:len(t)]\n",
        "\n",
        "v_std = np.column_stack(v_std).T\n",
        "v = np.column_stack(v).T\n",
        "\n",
        "y_tilde = y+v"
      ]
    },
    {
      "cell_type": "code",
      "execution_count": 17,
      "metadata": {
        "id": "CG5yiLihMoUe",
        "outputId": "cf73806e-e099-40bd-cb03-16f8308074a0",
        "colab": {
          "base_uri": "https://localhost:8080/"
        }
      },
      "outputs": [
        {
          "output_type": "execute_result",
          "data": {
            "text/plain": [
              "6"
            ]
          },
          "metadata": {},
          "execution_count": 17
        }
      ],
      "source": [
        "n_chunks"
      ]
    },
    {
      "cell_type": "markdown",
      "metadata": {
        "id": "3jDL0Ks0MoUe"
      },
      "source": [
        "# Plotting"
      ]
    },
    {
      "cell_type": "code",
      "execution_count": 18,
      "metadata": {
        "id": "LCij8tfMMoUe",
        "outputId": "b2728e93-8598-4dfe-d1ab-d1833aac589e",
        "colab": {
          "base_uri": "https://localhost:8080/",
          "height": 430
        }
      },
      "outputs": [
        {
          "output_type": "execute_result",
          "data": {
            "text/plain": [
              "<Axes: xlabel='Time', ylabel='y'>"
            ]
          },
          "metadata": {},
          "execution_count": 18
        },
        {
          "output_type": "display_data",
          "data": {
            "text/plain": [
              "<Figure size 600x400 with 1 Axes>"
            ],
            "image/png": "[encoded data removed]"
          },
          "metadata": {}
        }
      ],
      "source": [
        "plot_tme(t, y, y_tilde)"
      ]
    },
    {
      "cell_type": "markdown",
      "metadata": {
        "id": "MXRuol6MMoUf"
      },
      "source": [
        "# Candidate models"
      ]
    },
    {
      "cell_type": "code",
      "execution_count": 19,
      "metadata": {
        "id": "1HeIQeRLMoUf"
      },
      "outputs": [],
      "source": [
        "model_1_H = np.vstack([t, np.sin(t), np.cos(2*t)]).T"
      ]
    },
    {
      "cell_type": "markdown",
      "metadata": {
        "id": "lSpobfhLMoUf"
      },
      "source": [
        "# Minimum Variance Estimate: Gauss-Markov Theorem\n",
        "\n",
        "$\\mathbf{\\hat{x}}=(H^{\\top}R^{-1}H)^{-1}H^{\\top}R^{-1}\\mathbf{\\tilde{y}}$"
      ]
    },
    {
      "cell_type": "code",
      "execution_count": 20,
      "metadata": {
        "id": "VIAYw-T7MoUf",
        "outputId": "2d1ad60b-ded4-4fa1-d570-441020e4ed7a",
        "colab": {
          "base_uri": "https://localhost:8080/"
        }
      },
      "outputs": [
        {
          "output_type": "stream",
          "name": "stdout",
          "text": [
            "[[0.25 0.   0.   ... 0.   0.   0.  ]\n",
            " [0.   0.25 0.   ... 0.   0.   0.  ]\n",
            " [0.   0.   0.25 ... 0.   0.   0.  ]\n",
            " ...\n",
            " [0.   0.   0.   ... 4.   0.   0.  ]\n",
            " [0.   0.   0.   ... 0.   4.   0.  ]\n",
            " [0.   0.   0.   ... 0.   0.   4.  ]]\n"
          ]
        }
      ],
      "source": [
        "R = np.diag( np.ravel(v_std)**2)\n",
        "print(R)"
      ]
    },
    {
      "cell_type": "markdown",
      "metadata": {
        "id": "-ODAgfEZMoUf"
      },
      "source": [
        "### Model 1"
      ]
    },
    {
      "cell_type": "code",
      "execution_count": 21,
      "metadata": {
        "id": "mSvCrhwxMoUf"
      },
      "outputs": [],
      "source": [
        "x_1_hat = inv(model_1_H.T@inv(R)@model_1_H)@model_1_H.T@inv(R)@y_tilde"
      ]
    },
    {
      "cell_type": "code",
      "execution_count": 22,
      "metadata": {
        "id": "XTDyzJSYMoUf",
        "outputId": "37a8cc13-9bf4-4d1a-87a6-a9e331d797bd",
        "colab": {
          "base_uri": "https://localhost:8080/",
          "height": 430
        }
      },
      "outputs": [
        {
          "output_type": "execute_result",
          "data": {
            "text/plain": [
              "<Axes: xlabel='Time', ylabel='y'>"
            ]
          },
          "metadata": {},
          "execution_count": 22
        },
        {
          "output_type": "display_data",
          "data": {
            "text/plain": [
              "<Figure size 600x400 with 1 Axes>"
            ],
            "image/png": "[encoded data removed]"
          },
          "metadata": {}
        }
      ],
      "source": [
        "y_1_hat = model_1_H@x_1_hat\n",
        "plot_tme(t, y, y_tilde, y_1_hat)"
      ]
    },
    {
      "cell_type": "code",
      "execution_count": 23,
      "metadata": {
        "id": "oGAUiQJJMoUf",
        "outputId": "5336d690-292c-4304-e5c5-284ef2a7c1d8",
        "colab": {
          "base_uri": "https://localhost:8080/"
        }
      },
      "outputs": [
        {
          "output_type": "stream",
          "name": "stdout",
          "text": [
            "[[-0.09306875]\n",
            " [ 0.2247612 ]\n",
            " [ 0.19125467]]\n"
          ]
        }
      ],
      "source": [
        "x_error = x_1_hat - x\n",
        "print(x_error)"
      ]
    },
    {
      "cell_type": "markdown",
      "metadata": {
        "id": "uCaRwlbsMoUf"
      },
      "source": [
        "# Covariance of x error"
      ]
    },
    {
      "cell_type": "code",
      "execution_count": 24,
      "metadata": {
        "id": "yA5RcEeJMoUf",
        "outputId": "3b388450-4d9f-46e9-d5ea-7186fa840d07",
        "colab": {
          "base_uri": "https://localhost:8080/"
        }
      },
      "outputs": [
        {
          "output_type": "stream",
          "name": "stdout",
          "text": [
            "[[ 0.00866179 -0.02091824 -0.01779983]\n",
            " [-0.02091824  0.0505176   0.04298663]\n",
            " [-0.01779983  0.04298663  0.03657835]]\n"
          ]
        }
      ],
      "source": [
        "P = x_error@x_error.T\n",
        "print(P)"
      ]
    },
    {
      "cell_type": "markdown",
      "metadata": {
        "id": "X9dpxLTyMoUf"
      },
      "source": [
        "# Cramer Rao Bound"
      ]
    },
    {
      "cell_type": "code",
      "execution_count": 25,
      "metadata": {
        "id": "EaxTG4HfMoUf",
        "outputId": "e2037264-4068-43a1-bb8d-57b61ecb3c74",
        "colab": {
          "base_uri": "https://localhost:8080/"
        }
      },
      "outputs": [
        {
          "output_type": "stream",
          "name": "stdout",
          "text": [
            "[[ 0.0187074  -0.0382313  -0.00475858]\n",
            " [-0.0382313   0.09765801  0.01904516]\n",
            " [-0.00475858  0.01904516  0.0216108 ]]\n"
          ]
        }
      ],
      "source": [
        "CRB = inv(model_1_H.T@inv(R)@model_1_H)\n",
        "print(CRB)"
      ]
    },
    {
      "cell_type": "code",
      "execution_count": 26,
      "metadata": {
        "id": "7ichGzK7MoUf",
        "outputId": "060eab60-c7d9-4387-c1e0-31714f98911f",
        "colab": {
          "base_uri": "https://localhost:8080/",
          "height": 488
        }
      },
      "outputs": [
        {
          "output_type": "execute_result",
          "data": {
            "text/plain": [
              "Text(0, 0.5, 'error variance')"
            ]
          },
          "metadata": {},
          "execution_count": 26
        },
        {
          "output_type": "display_data",
          "data": {
            "text/plain": [
              "<Figure size 640x480 with 1 Axes>"
            ],
            "image/png": "[encoded data removed]"
          },
          "metadata": {}
        }
      ],
      "source": [
        "plt.plot(np.diag(P), 'o', color='red')\n",
        "plt.plot(np.diag(CRB), 'o', color='black')\n",
        "\n",
        "plt.xlabel('parameter number')\n",
        "plt.ylabel('error variance')"
      ]
    },
    {
      "cell_type": "markdown",
      "metadata": {
        "id": "3xcW10SoMoUf"
      },
      "source": [
        "# Exercises\n",
        "\n",
        "1. Theory says that the diagonal elements of P (red points) should be equal to (or bigger than) the diagonal elements of CRB (black points) (provided enough data or replicates). Are they?\n",
        "2. Rerun the code from the first cell (the data generation step). How do the diagonal elements compare now?\n",
        "3. Put all the steps from data generation to calculating P and CRB into a single function (skip plotting). Run the function many (1000) times. How do the diagonal elements compare now?"
      ]
    },
    {
      "cell_type": "code",
      "source": [
        "def do_mev_crb():\n",
        "  t = np.linspace(0, 3, 60)\n",
        "\n",
        "  x = np.array([[1, 1, 2]]).T\n",
        "  H = np.vstack([t, np.sin(t), np.cos(2*t)]).T\n",
        "  y = H@x\n",
        "\n",
        "  noise_mean = 0\n",
        "\n",
        "  noise_std_1 = 2\n",
        "  noise_std_2 = 0.5\n",
        "\n",
        "  v = []\n",
        "  v_std = []\n",
        "  noise_i = 1\n",
        "  n_chunks = 0\n",
        "  while len(v)<len(t):\n",
        "      if noise_i == 1:\n",
        "          noise_i = 2\n",
        "          noise_std = noise_std_2\n",
        "          chunk_size = 10\n",
        "      else:\n",
        "          noise_i = 1\n",
        "          noise_std = noise_std_1\n",
        "          chunk_size = 10\n",
        "\n",
        "      v_std = np.hstack( (v_std, [noise_std]*chunk_size) )\n",
        "      v = np.hstack( (v, np.random.normal(noise_mean, noise_std, chunk_size)) )\n",
        "      n_chunks += 1\n",
        "\n",
        "  v_std = v_std[0:len(t)]\n",
        "  v = v[0:len(t)]\n",
        "\n",
        "  v_std = np.column_stack(v_std).T\n",
        "  v = np.column_stack(v).T\n",
        "\n",
        "  y_tilde = y+v\n",
        "\n",
        "  model_1_H = np.vstack([t, np.sin(t), np.cos(2*t)]).T\n",
        "  R = np.diag( np.ravel(v_std)**2)\n",
        "\n",
        "  x_1_hat = inv(model_1_H.T@inv(R)@model_1_H)@model_1_H.T@inv(R)@y_tilde\n",
        "\n",
        "  y_1_hat = model_1_H@x_1_hat\n",
        "\n",
        "  x_error = x_1_hat - x\n",
        "\n",
        "  P = x_error@x_error.T\n",
        "\n",
        "  return P"
      ],
      "metadata": {
        "id": "52I6tXf2VTid"
      },
      "execution_count": 27,
      "outputs": []
    },
    {
      "cell_type": "code",
      "source": [
        "Ps = []\n",
        "for i in range(1000):\n",
        "  P = do_mev_crb()\n",
        "  Ps.append(P)\n",
        ""
      ],
      "metadata": {
        "id": "Me0FZb7wWI-N"
      },
      "execution_count": 28,
      "outputs": []
    },
    {
      "cell_type": "code",
      "source": [
        "Pmean = np.mean(Ps, axis=0)"
      ],
      "metadata": {
        "id": "IroEqtBdWSEb"
      },
      "execution_count": 30,
      "outputs": []
    },
    {
      "cell_type": "code",
      "source": [
        "Pmean"
      ],
      "metadata": {
        "id": "V_zQBG7yWTCk",
        "outputId": "568cd224-f2ee-4e6e-f04c-2bb64a220dc3",
        "colab": {
          "base_uri": "https://localhost:8080/"
        }
      },
      "execution_count": 31,
      "outputs": [
        {
          "output_type": "execute_result",
          "data": {
            "text/plain": [
              "array([[ 0.01971151, -0.04073535, -0.00538992],\n",
              "       [-0.04073535,  0.10367345,  0.02094285],\n",
              "       [-0.00538992,  0.02094285,  0.02356847]])"
            ]
          },
          "metadata": {},
          "execution_count": 31
        }
      ]
    },
    {
      "cell_type": "code",
      "source": [
        "plt.plot(np.diag(Pmean), 'o', color='red')\n",
        "plt.plot(np.diag(CRB), 'o', color='black')\n",
        "\n",
        "plt.xlabel('parameter number')\n",
        "plt.ylabel('error variance')"
      ],
      "metadata": {
        "id": "tpRNOa6GWbH8",
        "outputId": "684f095a-567f-4981-bbcb-af5735803970",
        "colab": {
          "base_uri": "https://localhost:8080/",
          "height": 486
        }
      },
      "execution_count": 32,
      "outputs": [
        {
          "output_type": "execute_result",
          "data": {
            "text/plain": [
              "Text(0, 0.5, 'error variance')"
            ]
          },
          "metadata": {},
          "execution_count": 32
        },
        {
          "output_type": "display_data",
          "data": {
            "text/plain": [
              "<Figure size 640x480 with 1 Axes>"
            ],
            "image/png": "[encoded data removed]"
          },
          "metadata": {}
        }
      ]
    },
    {
      "cell_type": "code",
      "source": [],
      "metadata": {
        "id": "Dv891C9sWg1k"
      },
      "execution_count": null,
      "outputs": []
    }
  ],
  "metadata": {
    "kernelspec": {
      "display_name": "PY38",
      "language": "python",
      "name": "py38"
    },
    "language_info": {
      "codemirror_mode": {
        "name": "ipython",
        "version": 3
      },
      "file_extension": ".py",
      "mimetype": "text/x-python",
      "name": "python",
      "nbconvert_exporter": "python",
      "pygments_lexer": "ipython3",
      "version": "3.8.6"
    },
    "colab": {
      "provenance": []
    }
  },
  "nbformat": 4,
  "nbformat_minor": 0
}