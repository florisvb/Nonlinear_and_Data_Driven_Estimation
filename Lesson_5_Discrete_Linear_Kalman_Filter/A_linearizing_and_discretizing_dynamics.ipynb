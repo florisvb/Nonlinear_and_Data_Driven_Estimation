{
 "cells": [
  {
   "cell_type": "code",
   "execution_count": 8,
   "id": "a969f402-9690-4a2a-af50-b0873f1a8c22",
   "metadata": {},
   "outputs": [],
   "source": [
    "import numpy as np\n",
    "import matplotlib.pyplot as plt\n",
    "\n",
    "from scipy.integrate import odeint\n",
    "import scipy.optimize\n",
    "\n",
    "import sympy as sp"
   ]
  },
  {
   "cell_type": "markdown",
   "id": "7db9afc4-f0db-4e1c-9eb4-8753b03b520e",
   "metadata": {},
   "source": [
    "### Import plotting utilities and planar drone locally or from github"
   ]
  },
  {
   "cell_type": "code",
   "execution_count": 2,
   "id": "3505415b-84bf-4a4c-9938-a807bfff6c07",
   "metadata": {},
   "outputs": [
    {
     "name": "stderr",
     "output_type": "stream",
     "text": [
      "/home/caveman/PY38/lib/python3.8/site-packages/do_mpc/sysid/__init__.py:15: UserWarning: The ONNX feature is not available. Please install the full version of do-mpc to access this feature.\n",
      "  warnings.warn('The ONNX feature is not available. Please install the full version of do-mpc to access this feature.')\n",
      "/home/caveman/PY38/lib/python3.8/site-packages/do_mpc/opcua/__init__.py:14: UserWarning: The opcua feature is not available. Please install the full version of do-mpc to access this feature.\n",
      "  warnings.warn('The opcua feature is not available. Please install the full version of do-mpc to access this feature.')\n"
     ]
    }
   ],
   "source": [
    "import sys\n",
    "import requests\n",
    "import importlib\n",
    "\n",
    "def import_local_or_github(package_name, function_name=None, directory=None, giturl=None):\n",
    "    # Import functions directly from github\n",
    "    # Important: note that we use raw.githubusercontent.com, not github.com\n",
    "\n",
    "    try: # to find the file locally\n",
    "        if directory is not None:\n",
    "            if directory not in sys.path:\n",
    "                sys.path.append(directory)\n",
    "    \n",
    "        package = importlib.import_module(package_name)\n",
    "        if function_name is not None:\n",
    "            function = getattr(package, function_name)\n",
    "            return function\n",
    "        else:\n",
    "            return package\n",
    "\n",
    "    except: # get the file from github\n",
    "        if giturl is None:\n",
    "            giturl = 'https://raw.githubusercontent.com/florisvb/Nonlinear_and_Data_Driven_Estimation/main/Utility/' + str(package_name) + '.py'\n",
    "        \n",
    "        r = requests.get(giturl)\n",
    "        print('Fetching from: ')\n",
    "        print(r)\n",
    "    \n",
    "        # Store the file to the colab working directory\n",
    "        with open(package_name+'.py', 'w') as f:\n",
    "            f.write(r.text)\n",
    "        f.close()\n",
    "    \n",
    "        # import the function we want from that file\n",
    "        package = importlib.import_module(package_name)\n",
    "        if function_name is not None:\n",
    "            function = getattr(package, function_name)\n",
    "            return function\n",
    "        else:\n",
    "            return package\n",
    "\n",
    "planar_drone = import_local_or_github('planar_drone', directory='../Utility')\n",
    "plot_tme = import_local_or_github('plot_utility', 'plot_tme', directory='../Utility')"
   ]
  },
  {
   "cell_type": "markdown",
   "id": "fcb1cb7f-dde4-49bb-9569-b205e8ea4acd",
   "metadata": {},
   "source": [
    "# Planar drone dynamics\n",
    "\n",
    "Now all the drone dynamics are in the helper file, `planar_drone.py`"
   ]
  },
  {
   "cell_type": "markdown",
   "id": "2a0894d2-a59b-47ee-867a-64b3a3a6d65d",
   "metadata": {},
   "source": [
    "$\n",
    "\\mathbf{\\dot{x}} = \\mathbf{f}(\\mathbf{x},\\mathbf{u}) =\n",
    "\\frac{d}{dt}\n",
    "\\begin{bmatrix}\n",
    "\\bbox[yellow]{\\theta} \\\\[0.3em]\n",
    "\\bbox[yellow]{\\dot{\\theta}} \\\\[0.3em]\n",
    "\\bbox[yellow]{x} \\\\[0.3em]\n",
    "\\bbox[yellow]{\\dot{x}} \\\\[0.3em]\n",
    "\\bbox[yellow]{z} \\\\[0.3em]\n",
    "\\bbox[yellow]{\\dot{z}} \\\\[0.3em]\n",
    "\\bbox[pink]{k}\n",
    "\\end{bmatrix} = \n",
    "\\overset{f_0}{\\begin{bmatrix}\n",
    "\\bbox[yellow]{\\dot{\\theta}} \\\\[0.3em]\n",
    "0 \\\\[0.3em]\n",
    "\\bbox[yellow]{\\dot{x}} \\\\[0.3em]\n",
    "0 \\\\[0.3em]\n",
    "\\bbox[yellow]{\\dot{z}} \\\\[0.3em]\n",
    "-\\bbox[lightblue]{g} \\\\[0.3em]\n",
    "0\n",
    "\\end{bmatrix}} + \n",
    "\\overset{f_1}{\\begin{bmatrix}\n",
    "0 \\\\[0.3em]\n",
    "\\bbox[lightblue]{l}\\bbox[pink]{k}/\\bbox[lightblue]{I_{yy}} \\\\[0.3em]\n",
    "0 \\\\[0.3em]\n",
    "0 \\\\[0.3em]\n",
    "0 \\\\[0.3em]\n",
    "0 \\\\[0.3em]\n",
    "0\n",
    "\\end{bmatrix}} \\bbox[lightgreen]{j_1} + \n",
    "\\overset{f_2}{\\begin{bmatrix}\n",
    "0 \\\\[0.3em]\n",
    "0 \\\\[0.3em]\n",
    "0 \\\\[0.3em]\n",
    "-\\bbox[pink]{k}\\bbox[yellow]{\\sin\\theta}/\\bbox[lightblue]{m} \\\\[0.3em]\n",
    "0 \\\\[0.3em]\n",
    "\\bbox[pink]{k}\\bbox[yellow]{\\cos\\theta}/\\bbox[lightblue]{m}  \\\\[0.3em]\n",
    "0\n",
    "\\end{bmatrix}} \\bbox[lightgreen]{j_2}\n",
    "$\n",
    "\n",
    "We begin assuming that we have the following measurements, which could come from a tilt sensor (for theta), gps (for x, z), and a good model of the motors (for k). \n",
    "\n",
    "\n",
    "\n",
    "$\n",
    "\\mathbf{y} = \\mathbf{{h}}(\\mathbf{{x}}, \\mathbf{{u}}) =\n",
    "\\begin{bmatrix}\n",
    "\\bbox[yellow]{\\theta} \\\\[0.3em]\n",
    "\\bbox[yellow]{x} \\\\[0.3em]\n",
    "\\bbox[yellow]{z} \\\\[0.3em]\n",
    "\\bbox[pink]{k} \n",
    "\\end{bmatrix}\n",
    "$"
   ]
  },
  {
   "cell_type": "markdown",
   "id": "fa6181e2-b44d-4c98-a215-86816be62cf8",
   "metadata": {},
   "source": [
    "# Dynamics and measurement functions"
   ]
  },
  {
   "cell_type": "code",
   "execution_count": 3,
   "id": "e43df23c-4300-4b42-ab16-6ee4f6803a71",
   "metadata": {},
   "outputs": [],
   "source": [
    "f = planar_drone.f\n",
    "h = planar_drone.h_gps"
   ]
  },
  {
   "cell_type": "code",
   "execution_count": 4,
   "id": "a82d7ffe-b6a8-4855-9552-7fab83a5c62d",
   "metadata": {},
   "outputs": [
    {
     "name": "stdout",
     "output_type": "stream",
     "text": [
      "states:\n",
      "['theta', 'theta_dot', 'x', 'x_dot', 'z', 'z_dot', 'k']\n",
      "\n",
      "measurements:\n",
      "['theta', 'x', 'z', 'k']\n"
     ]
    }
   ],
   "source": [
    "print('states:')\n",
    "print(f(None, None, return_state_names=True))\n",
    "print()\n",
    "print('measurements:')\n",
    "print(h(None, None, return_measurement_names=True))"
   ]
  },
  {
   "cell_type": "markdown",
   "id": "5dd87695-8d84-4cb7-a25a-1c12ea60baa3",
   "metadata": {},
   "source": [
    "# Run MPC simulation"
   ]
  },
  {
   "cell_type": "code",
   "execution_count": 5,
   "id": "8fc046e8-c308-4d23-b6c7-10ee7531ecf9",
   "metadata": {},
   "outputs": [],
   "source": [
    "t_sim, x_sim, u_sim, y_sim, simulator = planar_drone.simulate_drone(h=h, tsim_length=20, dt=0.1)"
   ]
  },
  {
   "cell_type": "markdown",
   "id": "162c8d6b-9272-41da-9bf2-bb4b23f86402",
   "metadata": {},
   "source": [
    "### plot the x, z trajectory"
   ]
  },
  {
   "cell_type": "code",
   "execution_count": 9,
   "id": "1d8028b0-bf2c-4b07-8513-7346cabf258f",
   "metadata": {},
   "outputs": [
    {
     "data": {
      "text/plain": [
       "Text(0, 0.5, 'z pos')"
      ]
     },
     "execution_count": 9,
     "metadata": {},
     "output_type": "execute_result"
    },
    {
     "data": {
      "image/png": "[encoded data removed]",
      "text/plain": [
       "<Figure size 640x480 with 1 Axes>"
      ]
     },
     "metadata": {},
     "output_type": "display_data"
    }
   ],
   "source": [
    "fig = plt.figure()\n",
    "ax = fig.add_subplot(111)\n",
    "\n",
    "ax.plot(x_sim['x'], x_sim['z'])\n",
    "\n",
    "ax.set_xlabel('x pos')\n",
    "ax.set_ylabel('z pos')"
   ]
  },
  {
   "cell_type": "markdown",
   "id": "c3d3b527-5010-4732-87ca-bf49afb16a36",
   "metadata": {},
   "source": [
    "# Simulate noisy measurements\n",
    "\n",
    "Choose noise properties for each sensor, and apply the noise to each measurement stream"
   ]
  },
  {
   "cell_type": "code",
   "execution_count": 10,
   "id": "5291a705-c078-44e5-8d5f-b7ff0fa7c609",
   "metadata": {},
   "outputs": [],
   "source": [
    "measurement_noise_stds = {'theta': 0.1, \n",
    "                          'x': 0.2, \n",
    "                          'z': 0.4, \n",
    "                          'k': 0.01}"
   ]
  },
  {
   "cell_type": "code",
   "execution_count": 11,
   "id": "3bf8ff54-7f8d-4175-8710-c5e7775e71c0",
   "metadata": {},
   "outputs": [],
   "source": [
    "y_noisy = {key: y_sim[key] + np.random.normal(0, measurement_noise_stds[key], len(y_sim[key])) for key in y_sim.keys()}"
   ]
  },
  {
   "cell_type": "markdown",
   "id": "5dc718d5-ca5d-4cfb-b999-d96e1bbc5ff1",
   "metadata": {},
   "source": [
    "### Plot some noisy measurements"
   ]
  },
  {
   "cell_type": "code",
   "execution_count": 12,
   "id": "275626b2-6791-481a-86cd-5ebd4f316fd3",
   "metadata": {},
   "outputs": [
    {
     "data": {
      "text/plain": [
       "<Axes: xlabel='Time', ylabel='x'>"
      ]
     },
     "execution_count": 12,
     "metadata": {},
     "output_type": "execute_result"
    },
    {
     "data": {
      "image/png": "[encoded data removed]",
      "text/plain": [
       "<Figure size 600x400 with 1 Axes>"
      ]
     },
     "metadata": {},
     "output_type": "display_data"
    }
   ],
   "source": [
    "plot_tme(t_sim, y_sim['x'], y_noisy['x'], label_var='x')"
   ]
  },
  {
   "cell_type": "markdown",
   "id": "07e91aa6-ee77-4ad2-b75d-d5c04175f825",
   "metadata": {},
   "source": [
    "# Prepare for a linear discrete time kalman filter"
   ]
  },
  {
   "cell_type": "markdown",
   "id": "22b09bd7-fe05-4fe7-9f66-41651018c38b",
   "metadata": {},
   "source": [
    "### Linearize the dynamics and measurement function\n",
    "\n",
    "We need linearized dynamics of the form:\n",
    "\n",
    "$\n",
    "\\mathbf{x_{k+1}} = A\\mathbf{x_k} + B\\mathbf{u_k} \n",
    "$\n",
    "\n",
    "$\n",
    "\\mathbf{y_k} = C\\mathbf{x_k} + D\\mathbf{u_k} \n",
    "$\n",
    "\n",
    "We will do that numerically using the following helper functions."
   ]
  },
  {
   "cell_type": "markdown",
   "id": "2d470215-94a6-4a3c-966a-6a4170035fbd",
   "metadata": {},
   "source": [
    "### Linearization functions"
   ]
  },
  {
   "cell_type": "code",
   "execution_count": 13,
   "id": "3f53acf0-a32b-45f8-b007-2fff79f74c60",
   "metadata": {},
   "outputs": [],
   "source": [
    "# Discretize continuous dynamics with the Runge-Kutta 4th order method (RK4)\n",
    "def rk4_discretize(f, x, u, dt):\n",
    "    \"\"\"\n",
    "    Discretizes the continuous-time dynamics using the Runge-Kutta 4th order method (RK4).\n",
    "\n",
    "    :param f: Function that defines the system dynamics (dx/dt = f(x, u))\n",
    "              f should accept the current state `x` and input `u` and return the state derivatives.\n",
    "    :param x: Current state (numpy array), representing the state at time t\n",
    "    :param u: Control input (numpy array), control applied at time t\n",
    "    :param dt: Time step (float), the discretization time step\n",
    "\n",
    "    :return: Discretized state at time t+dt (numpy array)\n",
    "    \"\"\"\n",
    "\n",
    "    # Step 1: Compute k1, the first estimate of the state change (function evaluation at time t)\n",
    "    k1 = f(x, u)  # k1 is the rate of change at the current state\n",
    "\n",
    "    # Step 2: Compute k2, estimate of state change at time t + dt/2, based on k1\n",
    "    # Perturb x by half the step size (dt/2) in the direction of k1\n",
    "    k2 = f(x + 0.5 * dt * k1, u)  # k2 is the rate of change at t + dt/2\n",
    "\n",
    "    # Step 3: Compute k3, another estimate of state change at time t + dt/2, based on k2\n",
    "    # Perturb x by half the step size (dt/2) in the direction of k2\n",
    "    k3 = f(x + 0.5 * dt * k2, u)  # k3 is the rate of change at t + dt/2 (but using k2)\n",
    "\n",
    "    # Step 4: Compute k4, estimate of state change at time t + dt, based on k3\n",
    "    # Perturb x by the full time step (dt) in the direction of k3\n",
    "    k4 = f(x + dt * k3, u)  # k4 is the rate of change at t + dt\n",
    "\n",
    "    # Step 5: Compute the weighted sum of the estimates (k1, k2, k3, k4) to update x\n",
    "    # The final estimate is a weighted average of all k's\n",
    "    x_next = x + (dt / 6) * (k1 + 2 * k2 + 2 * k3 + k4)\n",
    "\n",
    "    return x_next"
   ]
  },
  {
   "cell_type": "code",
   "execution_count": 14,
   "id": "af6ccdc3-018d-4710-b4e9-1216e9417aa6",
   "metadata": {},
   "outputs": [],
   "source": [
    "# Linearize with a numerical jacobian\n",
    "def jacobian_numerical(f, x0, u0, epsilon=0.001):\n",
    "    \n",
    "    # Get A\n",
    "    Aj = []\n",
    "    for i in range(len(f(x0,u0))):\n",
    "        \n",
    "        def f_scalar(x,u,i):\n",
    "            x_new = f(x, u)\n",
    "            return np.ravel(x_new)[i]\n",
    "        \n",
    "        j = scipy.optimize.approx_fprime(x0, f_scalar, epsilon, u0, i)\n",
    "        Aj.append(j)\n",
    "        \n",
    "    # Get B\n",
    "    Bj = []\n",
    "    for i in range(len(f(x0,u0))):\n",
    "        \n",
    "        def f_scalar(u,x,i):\n",
    "            x_new = f(x, u)\n",
    "            return np.ravel(x_new)[i]\n",
    "        \n",
    "        j = scipy.optimize.approx_fprime(u0, f_scalar, epsilon, x0, i)\n",
    "        Bj.append(j)\n",
    "    \n",
    "    return np.array(np.vstack(Aj)), np.array(np.vstack(Bj))"
   ]
  },
  {
   "cell_type": "markdown",
   "id": "838e73fb-988e-4cc9-86c8-f22e96f12646",
   "metadata": {},
   "source": [
    "### Choose an operating point\n",
    "\n",
    "We can only choose one operating point, typically choose the stable equilibrium where the dynamics will spend most of the time. "
   ]
  },
  {
   "cell_type": "code",
   "execution_count": 16,
   "id": "ef0e977b-a662-4dfe-879b-0f0f4be3d28f",
   "metadata": {},
   "outputs": [
    {
     "name": "stdout",
     "output_type": "stream",
     "text": [
      "states:\n",
      "['theta', 'theta_dot', 'x', 'x_dot', 'z', 'z_dot', 'k']\n"
     ]
    }
   ],
   "source": [
    "# for reference see the states again\n",
    "print('states:')\n",
    "print(f(None, None, return_state_names=True))"
   ]
  },
  {
   "cell_type": "code",
   "execution_count": 17,
   "id": "4984531d-96d2-4024-917a-5699b953048a",
   "metadata": {},
   "outputs": [],
   "source": [
    "# initial condition for planar drone in hover mode\n",
    "x0 = np.array([0, 0, 0, 0, 1, 0, 1])\n",
    "u0 = np.array([0, 0])"
   ]
  },
  {
   "cell_type": "markdown",
   "id": "5386841b-a82b-4c2c-b70e-f616e90e08c3",
   "metadata": {},
   "source": [
    "### Discretize and linearize the dynamics"
   ]
  },
  {
   "cell_type": "code",
   "execution_count": 18,
   "id": "e0232700-b2cf-4a12-a651-c0beabc046a9",
   "metadata": {},
   "outputs": [],
   "source": [
    "def f_discrete(x, u):\n",
    "    dt = 0.1\n",
    "    return rk4_discretize(f, x, u, dt)"
   ]
  },
  {
   "cell_type": "code",
   "execution_count": 19,
   "id": "47950805-7d26-4f81-96af-124798e1c0a7",
   "metadata": {},
   "outputs": [
    {
     "name": "stdout",
     "output_type": "stream",
     "text": [
      "A:\n",
      " [[1.  0.1 0.  0.  0.  0.  0. ]\n",
      "  [0.  1.  0.  0.  0.  0.  0. ]\n",
      "  [0.  0.  1.  0.1 0.  0.  0. ]\n",
      "  [0.  0.  0.  1.  0.  0.  0. ]\n",
      "  [0.  0.  0.  0.  1.  0.1 0. ]\n",
      "  [0.  0.  0.  0.  0.  1.  0. ]\n",
      " [0.  0.  0.  0.  0.  0.  1. ]]\n",
      "\n",
      "B:\n",
      " [[0.125 0.   ]\n",
      "  [2.5   0.   ]\n",
      "  [0.    0.   ]\n",
      "  [0.    0.   ]\n",
      "  [0.    0.005]\n",
      "  [0.    0.1  ]\n",
      " [0.    0.   ]]\n"
     ]
    }
   ],
   "source": [
    "A, B = jacobian_numerical(f_discrete, x0, u0, epsilon=1e-6)\n",
    "\n",
    "print('A:')\n",
    "sp.pretty_print( np.round(A, 3) )\n",
    "\n",
    "print('')\n",
    "print('B:')\n",
    "sp.pretty_print( np.round(B, 3) )"
   ]
  },
  {
   "cell_type": "markdown",
   "id": "534160b9-477a-4c93-a160-9a13ec79de02",
   "metadata": {},
   "source": [
    "### Linearize the measurements\n",
    "\n",
    "Note: the measurements function is not specified as continuous or discrete, it does not need to be discretized."
   ]
  },
  {
   "cell_type": "code",
   "execution_count": 20,
   "id": "03a05f0f-0997-485b-a96a-8422ecab7bc0",
   "metadata": {},
   "outputs": [
    {
     "name": "stdout",
     "output_type": "stream",
     "text": [
      "C:\n",
      "[[1. 0. 0. 0. 0. 0. 0.] \n",
      " [0. 0. 1. 0. 0. 0. 0.] \n",
      " [0. 0. 0. 0. 1. 0. 0.] \n",
      " [0. 0. 0. 0. 0. 0. 1.]]\n",
      "\n",
      "D:\n",
      " [[0. 0.]\n",
      "  [0. 0.]\n",
      "  [0. 0.]\n",
      " [0. 0.]]\n"
     ]
    }
   ],
   "source": [
    "C, D = jacobian_numerical(h, x0, u0, epsilon=1e-6)\n",
    "\n",
    "print('C:')\n",
    "sp.pretty_print( np.round(C, 3) )\n",
    "\n",
    "print('')\n",
    "print('D:')\n",
    "sp.pretty_print( np.round(D, 3) )"
   ]
  },
  {
   "cell_type": "markdown",
   "id": "1793c3bd-1b07-4341-919c-90441c462e86",
   "metadata": {},
   "source": [
    "### Define the measurement covariance matrix R\n",
    "\n",
    "$R = \n",
    "\\begin{bmatrix}\n",
    "1 & 0 & 0 & 0 \\\\\n",
    "0 & 1 & 0 & 0 \\\\\n",
    "0 & 0 & 1 & 0 \\\\\n",
    "0 & 0 & 0 & 1 \\\\\n",
    "\\end{bmatrix}\n",
    "\\begin{bmatrix}\n",
    "\\sigma_\\theta^2 \\\\\n",
    "\\sigma_x^2 \\\\\n",
    "\\sigma_z^2 \\\\\n",
    "\\sigma_k^2\n",
    "\\end{bmatrix} = \n",
    "\\begin{bmatrix}\n",
    "\\sigma_\\theta^2 & 0 & 0 & 0 \\\\\n",
    "0 & \\sigma_x^2 & 0 & 0 \\\\\n",
    "0 & 0 & \\sigma_z^2 & 0 \\\\\n",
    "0 & 0 & 0 & \\sigma_k^2 \\\\\n",
    "\\end{bmatrix}\n",
    "$"
   ]
  },
  {
   "cell_type": "code",
   "execution_count": 21,
   "id": "7c415374-4e89-4f05-8b8b-d8f03043ff92",
   "metadata": {},
   "outputs": [
    {
     "name": "stdout",
     "output_type": "stream",
     "text": [
      "R:\n",
      " [[1.0e-02 0.0e+00 0.0e+00 0.0e+00]\n",
      "  [0.0e+00 4.0e-02 0.0e+00 0.0e+00]\n",
      "  [0.0e+00 0.0e+00 1.6e-01 0.0e+00]\n",
      " [0.0e+00 0.0e+00 0.0e+00 1.0e-04]]\n"
     ]
    }
   ],
   "source": [
    "R = np.diag( list(measurement_noise_stds.values()) )**2\n",
    "\n",
    "print('R:')\n",
    "sp.pretty_print( np.round(R, 4) )"
   ]
  },
  {
   "cell_type": "markdown",
   "id": "c6d9db7a-3c4e-46db-8e44-43397504c52f",
   "metadata": {},
   "source": [
    "# Define the process covariance matrix Q\n",
    "\n",
    "The diagonal of Q corresponds to the variance of the model for each state. In this case, we can set it to a small value, but equal across states. "
   ]
  },
  {
   "cell_type": "code",
   "execution_count": 22,
   "id": "0f0b534a-4d52-43fd-bed7-61f867ce9cb0",
   "metadata": {},
   "outputs": [
    {
     "name": "stdout",
     "output_type": "stream",
     "text": [
      "R:\n",
      " [[0.0001 0.     0.     0.    ]\n",
      "  [0.     0.0001 0.     0.    ]\n",
      "  [0.     0.     0.0001 0.    ]\n",
      " [0.     0.     0.     0.0001]]\n"
     ]
    }
   ],
   "source": [
    "Q = np.diag([1e-4]*4)\n",
    "\n",
    "print('R:')\n",
    "sp.pretty_print( np.round(Q, 4) )"
   ]
  },
  {
   "cell_type": "markdown",
   "id": "7f9e19f1-336e-47a8-95a0-6922219f2599",
   "metadata": {},
   "source": [
    "# Exercises:\n",
    "\n",
    "Save the following to disk:\n",
    "  * $A, B, C, D, R, Q$ matrices defined above\n",
    "  * t_sim, x_sim, y_sim, u_sim\n",
    "\n",
    "Hint 1: Lesson 1 showed you how to save `t_sim, x_sim, y_sim, u_sim` to disk. \n",
    "\n",
    "Hint 2: For `A, B, C, D, R, Q`, consider using `pickle` (or `dill`). Ask AI for help."
   ]
  },
  {
   "cell_type": "code",
   "execution_count": null,
   "id": "321d5ea4-cc5e-4543-9b27-c20fc48c6aad",
   "metadata": {},
   "outputs": [],
   "source": []
  }
 ],
 "metadata": {
  "kernelspec": {
   "display_name": "PY38",
   "language": "python",
   "name": "py38"
  },
  "language_info": {
   "codemirror_mode": {
    "name": "ipython",
    "version": 3
   },
   "file_extension": ".py",
   "mimetype": "text/x-python",
   "name": "python",
   "nbconvert_exporter": "python",
   "pygments_lexer": "ipython3",
   "version": "3.8.6"
  }
 },
 "nbformat": 4,
 "nbformat_minor": 5
}
