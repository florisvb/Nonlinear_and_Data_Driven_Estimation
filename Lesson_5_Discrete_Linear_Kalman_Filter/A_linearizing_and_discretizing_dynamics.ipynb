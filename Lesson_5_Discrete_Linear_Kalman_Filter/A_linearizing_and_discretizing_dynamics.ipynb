{
  "cells": [
    {
      "cell_type": "code",
      "execution_count": 1,
      "id": "a969f402-9690-4a2a-af50-b0873f1a8c22",
      "metadata": {
        "id": "a969f402-9690-4a2a-af50-b0873f1a8c22"
      },
      "outputs": [],
      "source": [
        "import numpy as np\n",
        "import matplotlib.pyplot as plt\n",
        "\n",
        "from scipy.integrate import odeint\n",
        "import scipy.optimize\n",
        "\n",
        "import sympy as sp"
      ]
    },
    {
      "cell_type": "markdown",
      "source": [
        "# Import model predictive control stuff"
      ],
      "metadata": {
        "id": "wkrKrIC2RTWQ"
      },
      "id": "wkrKrIC2RTWQ"
    },
    {
      "cell_type": "code",
      "source": [
        "try:\n",
        "    import casadi\n",
        "except:\n",
        "    !pip install casadi\n",
        "    import casadi\n",
        "\n",
        "try:\n",
        "    import do_mpc\n",
        "except:\n",
        "    !pip install do_mpc\n",
        "    import do_mpc\n",
        "\n",
        "try:\n",
        "    import pybounds\n",
        "except:\n",
        "    #!pip install pybounds\n",
        "    !pip install git+https://github.com/vanbreugel-lab/pybounds\n",
        "    import pybounds"
      ],
      "metadata": {
        "id": "mKE-NBjERS0d",
        "outputId": "4aed2133-64a1-4ea2-d06f-b64dc6a652ff",
        "colab": {
          "base_uri": "https://localhost:8080/"
        }
      },
      "id": "mKE-NBjERS0d",
      "execution_count": 2,
      "outputs": [
        {
          "output_type": "stream",
          "name": "stdout",
          "text": [
            "Collecting casadi\n",
            "  Downloading casadi-3.7.2-cp312-none-manylinux2014_x86_64.whl.metadata (2.2 kB)\n",
            "Requirement already satisfied: numpy in /usr/local/lib/python3.12/dist-packages (from casadi) (2.0.2)\n",
            "Downloading casadi-3.7.2-cp312-none-manylinux2014_x86_64.whl (75.6 MB)\n",
            "\u001b[2K   \u001b[90m━━━━━━━━━━━━━━━━━━━━━━━━━━━━━━━━━━━━━━━━\u001b[0m \u001b[32m75.6/75.6 MB\u001b[0m \u001b[31m9.5 MB/s\u001b[0m eta \u001b[36m0:00:00\u001b[0m\n",
            "\u001b[?25hInstalling collected packages: casadi\n",
            "Successfully installed casadi-3.7.2\n",
            "Collecting do_mpc\n",
            "  Downloading do_mpc-5.0.1-py3-none-any.whl.metadata (3.5 kB)\n",
            "Requirement already satisfied: casadi>=3.6.0 in /usr/local/lib/python3.12/dist-packages (from do_mpc) (3.7.2)\n",
            "Requirement already satisfied: scipy in /usr/local/lib/python3.12/dist-packages (from do_mpc) (1.16.1)\n",
            "Requirement already satisfied: numpy in /usr/local/lib/python3.12/dist-packages (from do_mpc) (2.0.2)\n",
            "Requirement already satisfied: matplotlib in /usr/local/lib/python3.12/dist-packages (from do_mpc) (3.10.0)\n",
            "Requirement already satisfied: pandas in /usr/local/lib/python3.12/dist-packages (from do_mpc) (2.2.2)\n",
            "Requirement already satisfied: torch>2.0.0 in /usr/local/lib/python3.12/dist-packages (from do_mpc) (2.8.0+cu126)\n",
            "Requirement already satisfied: filelock in /usr/local/lib/python3.12/dist-packages (from torch>2.0.0->do_mpc) (3.19.1)\n",
            "Requirement already satisfied: typing-extensions>=4.10.0 in /usr/local/lib/python3.12/dist-packages (from torch>2.0.0->do_mpc) (4.15.0)\n",
            "Requirement already satisfied: setuptools in /usr/local/lib/python3.12/dist-packages (from torch>2.0.0->do_mpc) (75.2.0)\n",
            "Requirement already satisfied: sympy>=1.13.3 in /usr/local/lib/python3.12/dist-packages (from torch>2.0.0->do_mpc) (1.13.3)\n",
            "Requirement already satisfied: networkx in /usr/local/lib/python3.12/dist-packages (from torch>2.0.0->do_mpc) (3.5)\n",
            "Requirement already satisfied: jinja2 in /usr/local/lib/python3.12/dist-packages (from torch>2.0.0->do_mpc) (3.1.6)\n",
            "Requirement already satisfied: fsspec in /usr/local/lib/python3.12/dist-packages (from torch>2.0.0->do_mpc) (2025.3.0)\n",
            "Requirement already satisfied: nvidia-cuda-nvrtc-cu12==12.6.77 in /usr/local/lib/python3.12/dist-packages (from torch>2.0.0->do_mpc) (12.6.77)\n",
            "Requirement already satisfied: nvidia-cuda-runtime-cu12==12.6.77 in /usr/local/lib/python3.12/dist-packages (from torch>2.0.0->do_mpc) (12.6.77)\n",
            "Requirement already satisfied: nvidia-cuda-cupti-cu12==12.6.80 in /usr/local/lib/python3.12/dist-packages (from torch>2.0.0->do_mpc) (12.6.80)\n",
            "Requirement already satisfied: nvidia-cudnn-cu12==9.10.2.21 in /usr/local/lib/python3.12/dist-packages (from torch>2.0.0->do_mpc) (9.10.2.21)\n",
            "Requirement already satisfied: nvidia-cublas-cu12==12.6.4.1 in /usr/local/lib/python3.12/dist-packages (from torch>2.0.0->do_mpc) (12.6.4.1)\n",
            "Requirement already satisfied: nvidia-cufft-cu12==11.3.0.4 in /usr/local/lib/python3.12/dist-packages (from torch>2.0.0->do_mpc) (11.3.0.4)\n",
            "Requirement already satisfied: nvidia-curand-cu12==10.3.7.77 in /usr/local/lib/python3.12/dist-packages (from torch>2.0.0->do_mpc) (10.3.7.77)\n",
            "Requirement already satisfied: nvidia-cusolver-cu12==11.7.1.2 in /usr/local/lib/python3.12/dist-packages (from torch>2.0.0->do_mpc) (11.7.1.2)\n",
            "Requirement already satisfied: nvidia-cusparse-cu12==12.5.4.2 in /usr/local/lib/python3.12/dist-packages (from torch>2.0.0->do_mpc) (12.5.4.2)\n",
            "Requirement already satisfied: nvidia-cusparselt-cu12==0.7.1 in /usr/local/lib/python3.12/dist-packages (from torch>2.0.0->do_mpc) (0.7.1)\n",
            "Requirement already satisfied: nvidia-nccl-cu12==2.27.3 in /usr/local/lib/python3.12/dist-packages (from torch>2.0.0->do_mpc) (2.27.3)\n",
            "Requirement already satisfied: nvidia-nvtx-cu12==12.6.77 in /usr/local/lib/python3.12/dist-packages (from torch>2.0.0->do_mpc) (12.6.77)\n",
            "Requirement already satisfied: nvidia-nvjitlink-cu12==12.6.85 in /usr/local/lib/python3.12/dist-packages (from torch>2.0.0->do_mpc) (12.6.85)\n",
            "Requirement already satisfied: nvidia-cufile-cu12==1.11.1.6 in /usr/local/lib/python3.12/dist-packages (from torch>2.0.0->do_mpc) (1.11.1.6)\n",
            "Requirement already satisfied: triton==3.4.0 in /usr/local/lib/python3.12/dist-packages (from torch>2.0.0->do_mpc) (3.4.0)\n",
            "Requirement already satisfied: contourpy>=1.0.1 in /usr/local/lib/python3.12/dist-packages (from matplotlib->do_mpc) (1.3.3)\n",
            "Requirement already satisfied: cycler>=0.10 in /usr/local/lib/python3.12/dist-packages (from matplotlib->do_mpc) (0.12.1)\n",
            "Requirement already satisfied: fonttools>=4.22.0 in /usr/local/lib/python3.12/dist-packages (from matplotlib->do_mpc) (4.59.2)\n",
            "Requirement already satisfied: kiwisolver>=1.3.1 in /usr/local/lib/python3.12/dist-packages (from matplotlib->do_mpc) (1.4.9)\n",
            "Requirement already satisfied: packaging>=20.0 in /usr/local/lib/python3.12/dist-packages (from matplotlib->do_mpc) (25.0)\n",
            "Requirement already satisfied: pillow>=8 in /usr/local/lib/python3.12/dist-packages (from matplotlib->do_mpc) (11.3.0)\n",
            "Requirement already satisfied: pyparsing>=2.3.1 in /usr/local/lib/python3.12/dist-packages (from matplotlib->do_mpc) (3.2.3)\n",
            "Requirement already satisfied: python-dateutil>=2.7 in /usr/local/lib/python3.12/dist-packages (from matplotlib->do_mpc) (2.9.0.post0)\n",
            "Requirement already satisfied: pytz>=2020.1 in /usr/local/lib/python3.12/dist-packages (from pandas->do_mpc) (2025.2)\n",
            "Requirement already satisfied: tzdata>=2022.7 in /usr/local/lib/python3.12/dist-packages (from pandas->do_mpc) (2025.2)\n",
            "Requirement already satisfied: six>=1.5 in /usr/local/lib/python3.12/dist-packages (from python-dateutil>=2.7->matplotlib->do_mpc) (1.17.0)\n",
            "Requirement already satisfied: mpmath<1.4,>=1.1.0 in /usr/local/lib/python3.12/dist-packages (from sympy>=1.13.3->torch>2.0.0->do_mpc) (1.3.0)\n",
            "Requirement already satisfied: MarkupSafe>=2.0 in /usr/local/lib/python3.12/dist-packages (from jinja2->torch>2.0.0->do_mpc) (3.0.2)\n",
            "Downloading do_mpc-5.0.1-py3-none-any.whl (162 kB)\n",
            "\u001b[2K   \u001b[90m━━━━━━━━━━━━━━━━━━━━━━━━━━━━━━━━━━━━━━━━\u001b[0m \u001b[32m162.9/162.9 kB\u001b[0m \u001b[31m3.9 MB/s\u001b[0m eta \u001b[36m0:00:00\u001b[0m\n",
            "\u001b[?25hInstalling collected packages: do_mpc\n",
            "Successfully installed do_mpc-5.0.1\n"
          ]
        },
        {
          "output_type": "stream",
          "name": "stderr",
          "text": [
            "/usr/local/lib/python3.12/dist-packages/do_mpc/sysid/__init__.py:15: UserWarning: The ONNX feature is not available. Please install the full version of do-mpc to access this feature.\n",
            "  warnings.warn('The ONNX feature is not available. Please install the full version of do-mpc to access this feature.')\n",
            "/usr/local/lib/python3.12/dist-packages/do_mpc/opcua/__init__.py:14: UserWarning: The opcua feature is not available. Please install the full version of do-mpc to access this feature.\n",
            "  warnings.warn('The opcua feature is not available. Please install the full version of do-mpc to access this feature.')\n"
          ]
        },
        {
          "output_type": "stream",
          "name": "stdout",
          "text": [
            "Collecting git+https://github.com/vanbreugel-lab/pybounds\n",
            "  Cloning https://github.com/vanbreugel-lab/pybounds to /tmp/pip-req-build-s0e4mm0c\n",
            "  Running command git clone --filter=blob:none --quiet https://github.com/vanbreugel-lab/pybounds /tmp/pip-req-build-s0e4mm0c\n",
            "  Resolved https://github.com/vanbreugel-lab/pybounds to commit a2a55f7d1bcb0962b780d9973b2bc2ada29589de\n",
            "  Preparing metadata (setup.py) ... \u001b[?25l\u001b[?25hdone\n",
            "Building wheels for collected packages: pybounds\n",
            "  Building wheel for pybounds (setup.py) ... \u001b[?25l\u001b[?25hdone\n",
            "  Created wheel for pybounds: filename=pybounds-0.0.13-py3-none-any.whl size=19534 sha256=b3546407626afe893f940e33c6259a82c043750fa5c62b08027043e18d1749d1\n",
            "  Stored in directory: /tmp/pip-ephem-wheel-cache-85c0ghqp/wheels/cb/f8/fb/ff1887f9a2f35c3edad7b1acb7da69437c1fd8d885a800578d\n",
            "Successfully built pybounds\n",
            "Installing collected packages: pybounds\n",
            "Successfully installed pybounds-0.0.13\n"
          ]
        }
      ]
    },
    {
      "cell_type": "markdown",
      "id": "7db9afc4-f0db-4e1c-9eb4-8753b03b520e",
      "metadata": {
        "id": "7db9afc4-f0db-4e1c-9eb4-8753b03b520e"
      },
      "source": [
        "### Import plotting utilities and planar drone locally or from github"
      ]
    },
    {
      "cell_type": "code",
      "execution_count": 3,
      "id": "3505415b-84bf-4a4c-9938-a807bfff6c07",
      "metadata": {
        "id": "3505415b-84bf-4a4c-9938-a807bfff6c07",
        "outputId": "3a197ce0-b4a2-4cc9-a19c-806cf58bc40d",
        "colab": {
          "base_uri": "https://localhost:8080/"
        }
      },
      "outputs": [
        {
          "output_type": "stream",
          "name": "stdout",
          "text": [
            "Fetching from: \n",
            "<Response [200]>\n",
            "Fetching from: \n",
            "<Response [200]>\n"
          ]
        }
      ],
      "source": [
        "import sys\n",
        "import requests\n",
        "import importlib\n",
        "\n",
        "def import_local_or_github(package_name, function_name=None, directory=None, giturl=None):\n",
        "    # Import functions directly from github\n",
        "    # Important: note that we use raw.githubusercontent.com, not github.com\n",
        "\n",
        "    try: # to find the file locally\n",
        "        if directory is not None:\n",
        "            if directory not in sys.path:\n",
        "                sys.path.append(directory)\n",
        "\n",
        "        package = importlib.import_module(package_name)\n",
        "        if function_name is not None:\n",
        "            function = getattr(package, function_name)\n",
        "            return function\n",
        "        else:\n",
        "            return package\n",
        "\n",
        "    except: # get the file from github\n",
        "        if giturl is None:\n",
        "            giturl = 'https://raw.githubusercontent.com/florisvb/Nonlinear_and_Data_Driven_Estimation/main/Utility/' + str(package_name) + '.py'\n",
        "\n",
        "        r = requests.get(giturl)\n",
        "        print('Fetching from: ')\n",
        "        print(r)\n",
        "\n",
        "        # Store the file to the colab working directory\n",
        "        with open(package_name+'.py', 'w') as f:\n",
        "            f.write(r.text)\n",
        "        f.close()\n",
        "\n",
        "        # import the function we want from that file\n",
        "        package = importlib.import_module(package_name)\n",
        "        if function_name is not None:\n",
        "            function = getattr(package, function_name)\n",
        "            return function\n",
        "        else:\n",
        "            return package\n",
        "\n",
        "planar_drone = import_local_or_github('planar_drone', directory='../Utility')\n",
        "plot_tme = import_local_or_github('plot_utility', 'plot_tme', directory='../Utility')"
      ]
    },
    {
      "cell_type": "markdown",
      "id": "fcb1cb7f-dde4-49bb-9569-b205e8ea4acd",
      "metadata": {
        "id": "fcb1cb7f-dde4-49bb-9569-b205e8ea4acd"
      },
      "source": [
        "# Planar drone dynamics\n",
        "\n",
        "Now all the drone dynamics are in the helper file, `planar_drone.py`"
      ]
    },
    {
      "cell_type": "markdown",
      "id": "2a0894d2-a59b-47ee-867a-64b3a3a6d65d",
      "metadata": {
        "id": "2a0894d2-a59b-47ee-867a-64b3a3a6d65d"
      },
      "source": [
        "$\n",
        "\\mathbf{\\dot{x}} = \\mathbf{f}(\\mathbf{x},\\mathbf{u}) =\n",
        "\\frac{d}{dt}\n",
        "\\begin{bmatrix}\n",
        "\\bbox[yellow]{\\theta} \\\\[0.3em]\n",
        "\\bbox[yellow]{\\dot{\\theta}} \\\\[0.3em]\n",
        "\\bbox[yellow]{x} \\\\[0.3em]\n",
        "\\bbox[yellow]{\\dot{x}} \\\\[0.3em]\n",
        "\\bbox[yellow]{z} \\\\[0.3em]\n",
        "\\bbox[yellow]{\\dot{z}} \\\\[0.3em]\n",
        "\\bbox[pink]{k}\n",
        "\\end{bmatrix} =\n",
        "\\overset{f_0}{\\begin{bmatrix}\n",
        "\\bbox[yellow]{\\dot{\\theta}} \\\\[0.3em]\n",
        "0 \\\\[0.3em]\n",
        "\\bbox[yellow]{\\dot{x}} \\\\[0.3em]\n",
        "0 \\\\[0.3em]\n",
        "\\bbox[yellow]{\\dot{z}} \\\\[0.3em]\n",
        "-\\bbox[lightblue]{g} \\\\[0.3em]\n",
        "0\n",
        "\\end{bmatrix}} +\n",
        "\\overset{f_1}{\\begin{bmatrix}\n",
        "0 \\\\[0.3em]\n",
        "\\bbox[lightblue]{l}\\bbox[pink]{k}/\\bbox[lightblue]{I_{yy}} \\\\[0.3em]\n",
        "0 \\\\[0.3em]\n",
        "0 \\\\[0.3em]\n",
        "0 \\\\[0.3em]\n",
        "0 \\\\[0.3em]\n",
        "0\n",
        "\\end{bmatrix}} \\bbox[lightgreen]{j_1} +\n",
        "\\overset{f_2}{\\begin{bmatrix}\n",
        "0 \\\\[0.3em]\n",
        "0 \\\\[0.3em]\n",
        "0 \\\\[0.3em]\n",
        "-\\bbox[pink]{k}\\bbox[yellow]{\\sin\\theta}/\\bbox[lightblue]{m} \\\\[0.3em]\n",
        "0 \\\\[0.3em]\n",
        "\\bbox[pink]{k}\\bbox[yellow]{\\cos\\theta}/\\bbox[lightblue]{m}  \\\\[0.3em]\n",
        "0\n",
        "\\end{bmatrix}} \\bbox[lightgreen]{j_2}\n",
        "$\n",
        "\n",
        "We begin assuming that we have the following measurements, which could come from a tilt sensor (for theta), gps (for x, z), and a good model of the motors (for k).\n",
        "\n",
        "\n",
        "\n",
        "$\n",
        "\\mathbf{y} = \\mathbf{{h}}(\\mathbf{{x}}, \\mathbf{{u}}) =\n",
        "\\begin{bmatrix}\n",
        "\\bbox[yellow]{\\theta} \\\\[0.3em]\n",
        "\\bbox[yellow]{x} \\\\[0.3em]\n",
        "\\bbox[yellow]{z} \\\\[0.3em]\n",
        "\\bbox[pink]{k}\n",
        "\\end{bmatrix}\n",
        "$"
      ]
    },
    {
      "cell_type": "markdown",
      "id": "fa6181e2-b44d-4c98-a215-86816be62cf8",
      "metadata": {
        "id": "fa6181e2-b44d-4c98-a215-86816be62cf8"
      },
      "source": [
        "# Dynamics and measurement functions"
      ]
    },
    {
      "cell_type": "code",
      "execution_count": 5,
      "id": "e43df23c-4300-4b42-ab16-6ee4f6803a71",
      "metadata": {
        "id": "e43df23c-4300-4b42-ab16-6ee4f6803a71"
      },
      "outputs": [],
      "source": [
        "f = planar_drone.F().f # this funny notation lets us remove k from the state later\n",
        "h = planar_drone.H('h_gps').h # this funny notation lets us remove k from the state later, and choose different h functions"
      ]
    },
    {
      "cell_type": "code",
      "execution_count": 6,
      "id": "a82d7ffe-b6a8-4855-9552-7fab83a5c62d",
      "metadata": {
        "id": "a82d7ffe-b6a8-4855-9552-7fab83a5c62d",
        "outputId": "1c40ce6a-3084-4fc0-8318-7ae6f9d78510",
        "colab": {
          "base_uri": "https://localhost:8080/"
        }
      },
      "outputs": [
        {
          "output_type": "stream",
          "name": "stdout",
          "text": [
            "states:\n",
            "['theta', 'theta_dot', 'x', 'x_dot', 'z', 'z_dot', 'k']\n",
            "\n",
            "measurements:\n",
            "['theta', 'x', 'z', 'k']\n"
          ]
        }
      ],
      "source": [
        "print('states:')\n",
        "print(f(None, None, return_state_names=True))\n",
        "print()\n",
        "print('measurements:')\n",
        "print(h(None, None, return_measurement_names=True))"
      ]
    },
    {
      "cell_type": "markdown",
      "id": "5dd87695-8d84-4cb7-a25a-1c12ea60baa3",
      "metadata": {
        "id": "5dd87695-8d84-4cb7-a25a-1c12ea60baa3"
      },
      "source": [
        "# Run MPC simulation"
      ]
    },
    {
      "cell_type": "code",
      "execution_count": 9,
      "id": "8fc046e8-c308-4d23-b6c7-10ee7531ecf9",
      "metadata": {
        "id": "8fc046e8-c308-4d23-b6c7-10ee7531ecf9"
      },
      "outputs": [],
      "source": [
        "t_sim, x_sim, u_sim, y_sim, simulator = planar_drone.simulate_drone(f, h, tsim_length=20, dt=0.1)"
      ]
    },
    {
      "cell_type": "markdown",
      "id": "162c8d6b-9272-41da-9bf2-bb4b23f86402",
      "metadata": {
        "id": "162c8d6b-9272-41da-9bf2-bb4b23f86402"
      },
      "source": [
        "### plot the x, z trajectory"
      ]
    },
    {
      "cell_type": "code",
      "execution_count": 10,
      "id": "1d8028b0-bf2c-4b07-8513-7346cabf258f",
      "metadata": {
        "id": "1d8028b0-bf2c-4b07-8513-7346cabf258f",
        "outputId": "5bddd3d9-2d7f-4c80-d5a3-c6c1f11e8335",
        "colab": {
          "base_uri": "https://localhost:8080/",
          "height": 487
        }
      },
      "outputs": [
        {
          "output_type": "execute_result",
          "data": {
            "text/plain": [
              "Text(0, 0.5, 'z pos')"
            ]
          },
          "metadata": {},
          "execution_count": 10
        },
        {
          "output_type": "display_data",
          "data": {
            "text/plain": [
              "<Figure size 640x480 with 1 Axes>"
            ],
            "image/png": "[encoded data removed]"
          },
          "metadata": {}
        }
      ],
      "source": [
        "fig = plt.figure()\n",
        "ax = fig.add_subplot(111)\n",
        "\n",
        "ax.plot(x_sim['x'], x_sim['z'])\n",
        "\n",
        "ax.set_xlabel('x pos')\n",
        "ax.set_ylabel('z pos')"
      ]
    },
    {
      "cell_type": "markdown",
      "id": "c3d3b527-5010-4732-87ca-bf49afb16a36",
      "metadata": {
        "id": "c3d3b527-5010-4732-87ca-bf49afb16a36"
      },
      "source": [
        "# Simulate noisy measurements\n",
        "\n",
        "Choose noise properties for each sensor, and apply the noise to each measurement stream"
      ]
    },
    {
      "cell_type": "code",
      "execution_count": 11,
      "id": "5291a705-c078-44e5-8d5f-b7ff0fa7c609",
      "metadata": {
        "id": "5291a705-c078-44e5-8d5f-b7ff0fa7c609"
      },
      "outputs": [],
      "source": [
        "measurement_noise_stds = {'theta': 0.1,\n",
        "                          'x': 0.2,\n",
        "                          'z': 0.4,\n",
        "                          'k': 0.01}"
      ]
    },
    {
      "cell_type": "code",
      "execution_count": 12,
      "id": "3bf8ff54-7f8d-4175-8710-c5e7775e71c0",
      "metadata": {
        "id": "3bf8ff54-7f8d-4175-8710-c5e7775e71c0"
      },
      "outputs": [],
      "source": [
        "y_noisy = {key: y_sim[key] + np.random.normal(0, measurement_noise_stds[key], len(y_sim[key])) for key in y_sim.keys()}"
      ]
    },
    {
      "cell_type": "markdown",
      "id": "5dc718d5-ca5d-4cfb-b999-d96e1bbc5ff1",
      "metadata": {
        "id": "5dc718d5-ca5d-4cfb-b999-d96e1bbc5ff1"
      },
      "source": [
        "### Plot some noisy measurements"
      ]
    },
    {
      "cell_type": "code",
      "execution_count": 13,
      "id": "275626b2-6791-481a-86cd-5ebd4f316fd3",
      "metadata": {
        "id": "275626b2-6791-481a-86cd-5ebd4f316fd3",
        "outputId": "79630c43-22cb-4658-fdb3-642c6d4d6b21",
        "colab": {
          "base_uri": "https://localhost:8080/",
          "height": 426
        }
      },
      "outputs": [
        {
          "output_type": "execute_result",
          "data": {
            "text/plain": [
              "<Axes: xlabel='Time', ylabel='x'>"
            ]
          },
          "metadata": {},
          "execution_count": 13
        },
        {
          "output_type": "display_data",
          "data": {
            "text/plain": [
              "<Figure size 600x400 with 1 Axes>"
            ],
            "image/png": "[encoded data removed]"
          },
          "metadata": {}
        }
      ],
      "source": [
        "plot_tme(t_sim, y_sim['x'], y_noisy['x'], label_var='x')"
      ]
    },
    {
      "cell_type": "markdown",
      "id": "07e91aa6-ee77-4ad2-b75d-d5c04175f825",
      "metadata": {
        "id": "07e91aa6-ee77-4ad2-b75d-d5c04175f825"
      },
      "source": [
        "# Prepare for a linear discrete time kalman filter"
      ]
    },
    {
      "cell_type": "markdown",
      "id": "22b09bd7-fe05-4fe7-9f66-41651018c38b",
      "metadata": {
        "id": "22b09bd7-fe05-4fe7-9f66-41651018c38b"
      },
      "source": [
        "### Linearize the dynamics and measurement function\n",
        "\n",
        "We need linearized dynamics of the form:\n",
        "\n",
        "$\n",
        "\\mathbf{x_{k+1}} = A\\mathbf{x_k} + B\\mathbf{u_k}\n",
        "$\n",
        "\n",
        "$\n",
        "\\mathbf{y_k} = C\\mathbf{x_k} + D\\mathbf{u_k}\n",
        "$\n",
        "\n",
        "We will do that numerically using the following helper functions."
      ]
    },
    {
      "cell_type": "markdown",
      "id": "2d470215-94a6-4a3c-966a-6a4170035fbd",
      "metadata": {
        "id": "2d470215-94a6-4a3c-966a-6a4170035fbd"
      },
      "source": [
        "### Linearization functions"
      ]
    },
    {
      "cell_type": "code",
      "execution_count": 14,
      "id": "3f53acf0-a32b-45f8-b007-2fff79f74c60",
      "metadata": {
        "id": "3f53acf0-a32b-45f8-b007-2fff79f74c60"
      },
      "outputs": [],
      "source": [
        "# Discretize continuous dynamics with the Runge-Kutta 4th order method (RK4)\n",
        "def rk4_discretize(f, x, u, dt):\n",
        "    \"\"\"\n",
        "    Discretizes the continuous-time dynamics using the Runge-Kutta 4th order method (RK4).\n",
        "\n",
        "    :param f: Function that defines the system dynamics (dx/dt = f(x, u))\n",
        "              f should accept the current state `x` and input `u` and return the state derivatives.\n",
        "    :param x: Current state (numpy array), representing the state at time t\n",
        "    :param u: Control input (numpy array), control applied at time t\n",
        "    :param dt: Time step (float), the discretization time step\n",
        "\n",
        "    :return: Discretized state at time t+dt (numpy array)\n",
        "    \"\"\"\n",
        "\n",
        "    # Step 1: Compute k1, the first estimate of the state change (function evaluation at time t)\n",
        "    k1 = f(x, u)  # k1 is the rate of change at the current state\n",
        "\n",
        "    # Step 2: Compute k2, estimate of state change at time t + dt/2, based on k1\n",
        "    # Perturb x by half the step size (dt/2) in the direction of k1\n",
        "    k2 = f(x + 0.5 * dt * k1, u)  # k2 is the rate of change at t + dt/2\n",
        "\n",
        "    # Step 3: Compute k3, another estimate of state change at time t + dt/2, based on k2\n",
        "    # Perturb x by half the step size (dt/2) in the direction of k2\n",
        "    k3 = f(x + 0.5 * dt * k2, u)  # k3 is the rate of change at t + dt/2 (but using k2)\n",
        "\n",
        "    # Step 4: Compute k4, estimate of state change at time t + dt, based on k3\n",
        "    # Perturb x by the full time step (dt) in the direction of k3\n",
        "    k4 = f(x + dt * k3, u)  # k4 is the rate of change at t + dt\n",
        "\n",
        "    # Step 5: Compute the weighted sum of the estimates (k1, k2, k3, k4) to update x\n",
        "    # The final estimate is a weighted average of all k's\n",
        "    x_next = x + (dt / 6) * (k1 + 2 * k2 + 2 * k3 + k4)\n",
        "\n",
        "    return x_next"
      ]
    },
    {
      "cell_type": "code",
      "execution_count": 15,
      "id": "af6ccdc3-018d-4710-b4e9-1216e9417aa6",
      "metadata": {
        "id": "af6ccdc3-018d-4710-b4e9-1216e9417aa6"
      },
      "outputs": [],
      "source": [
        "# Linearize with a numerical jacobian\n",
        "def jacobian_numerical(f, x0, u0, epsilon=0.001):\n",
        "\n",
        "    # Get A\n",
        "    Aj = []\n",
        "    for i in range(len(f(x0,u0))):\n",
        "\n",
        "        def f_scalar(x,u,i):\n",
        "            x_new = f(x, u)\n",
        "            return np.ravel(x_new)[i]\n",
        "\n",
        "        j = scipy.optimize.approx_fprime(x0, f_scalar, epsilon, u0, i)\n",
        "        Aj.append(j)\n",
        "\n",
        "    # Get B\n",
        "    Bj = []\n",
        "    for i in range(len(f(x0,u0))):\n",
        "\n",
        "        def f_scalar(u,x,i):\n",
        "            x_new = f(x, u)\n",
        "            return np.ravel(x_new)[i]\n",
        "\n",
        "        j = scipy.optimize.approx_fprime(u0, f_scalar, epsilon, x0, i)\n",
        "        Bj.append(j)\n",
        "\n",
        "    return np.array(np.vstack(Aj)), np.array(np.vstack(Bj))"
      ]
    },
    {
      "cell_type": "markdown",
      "id": "838e73fb-988e-4cc9-86c8-f22e96f12646",
      "metadata": {
        "id": "838e73fb-988e-4cc9-86c8-f22e96f12646"
      },
      "source": [
        "### Choose an operating point\n",
        "\n",
        "We can only choose one operating point, typically choose the stable equilibrium where the dynamics will spend most of the time."
      ]
    },
    {
      "cell_type": "code",
      "execution_count": 16,
      "id": "ef0e977b-a662-4dfe-879b-0f0f4be3d28f",
      "metadata": {
        "id": "ef0e977b-a662-4dfe-879b-0f0f4be3d28f",
        "outputId": "0e1c06fa-b474-4801-f038-7414c772ac49",
        "colab": {
          "base_uri": "https://localhost:8080/"
        }
      },
      "outputs": [
        {
          "output_type": "stream",
          "name": "stdout",
          "text": [
            "states:\n",
            "['theta', 'theta_dot', 'x', 'x_dot', 'z', 'z_dot', 'k']\n"
          ]
        }
      ],
      "source": [
        "# for reference see the states again\n",
        "print('states:')\n",
        "print(f(None, None, return_state_names=True))"
      ]
    },
    {
      "cell_type": "code",
      "execution_count": 17,
      "id": "4984531d-96d2-4024-917a-5699b953048a",
      "metadata": {
        "id": "4984531d-96d2-4024-917a-5699b953048a"
      },
      "outputs": [],
      "source": [
        "# initial condition for planar drone in hover mode\n",
        "x0 = np.array([0, 0, 0, 0, 1, 0, 1])\n",
        "u0 = np.array([0, 0])"
      ]
    },
    {
      "cell_type": "markdown",
      "id": "5386841b-a82b-4c2c-b70e-f616e90e08c3",
      "metadata": {
        "id": "5386841b-a82b-4c2c-b70e-f616e90e08c3"
      },
      "source": [
        "### Discretize and linearize the dynamics"
      ]
    },
    {
      "cell_type": "code",
      "execution_count": 18,
      "id": "e0232700-b2cf-4a12-a651-c0beabc046a9",
      "metadata": {
        "id": "e0232700-b2cf-4a12-a651-c0beabc046a9"
      },
      "outputs": [],
      "source": [
        "def f_discrete(x, u):\n",
        "    dt = 0.1\n",
        "    return rk4_discretize(f, x, u, dt)"
      ]
    },
    {
      "cell_type": "code",
      "execution_count": 19,
      "id": "47950805-7d26-4f81-96af-124798e1c0a7",
      "metadata": {
        "id": "47950805-7d26-4f81-96af-124798e1c0a7",
        "outputId": "13035d8b-433e-4896-a786-ceb2c4c289e5",
        "colab": {
          "base_uri": "https://localhost:8080/"
        }
      },
      "outputs": [
        {
          "output_type": "stream",
          "name": "stdout",
          "text": [
            "A:\n",
            "[[1.  0.1 0.  0.  0.  0.  0. ] \n",
            " [0.  1.  0.  0.  0.  0.  0. ] \n",
            " [0.  0.  1.  0.1 0.  0.  0. ] \n",
            " [0.  0.  0.  1.  0.  0.  0. ] \n",
            " [0.  0.  0.  0.  1.  0.1 0. ] \n",
            " [0.  0.  0.  0.  0.  1.  0. ] \n",
            " [0.  0.  0.  0.  0.  0.  1. ]]\n",
            "\n",
            "B:\n",
            "[[0.125 0.   ] \n",
            " [2.5   0.   ] \n",
            " [0.    0.   ] \n",
            " [0.    0.   ] \n",
            " [0.    0.005] \n",
            " [0.    0.1  ] \n",
            " [0.    0.   ]]\n"
          ]
        }
      ],
      "source": [
        "A, B = jacobian_numerical(f_discrete, x0, u0, epsilon=1e-6)\n",
        "\n",
        "print('A:')\n",
        "sp.pretty_print( np.round(A, 3) )\n",
        "\n",
        "print('')\n",
        "print('B:')\n",
        "sp.pretty_print( np.round(B, 3) )"
      ]
    },
    {
      "cell_type": "markdown",
      "id": "534160b9-477a-4c93-a160-9a13ec79de02",
      "metadata": {
        "id": "534160b9-477a-4c93-a160-9a13ec79de02"
      },
      "source": [
        "### Linearize the measurements\n",
        "\n",
        "Note: the measurements function is not specified as continuous or discrete, it does not need to be discretized."
      ]
    },
    {
      "cell_type": "code",
      "execution_count": 20,
      "id": "03a05f0f-0997-485b-a96a-8422ecab7bc0",
      "metadata": {
        "id": "03a05f0f-0997-485b-a96a-8422ecab7bc0",
        "outputId": "f29c3a14-7eaa-437e-9a6a-49e15b56400f",
        "colab": {
          "base_uri": "https://localhost:8080/"
        }
      },
      "outputs": [
        {
          "output_type": "stream",
          "name": "stdout",
          "text": [
            "C:\n",
            "[[1. 0. 0. 0. 0. 0. 0.] \n",
            " [0. 0. 1. 0. 0. 0. 0.] \n",
            " [0. 0. 0. 0. 1. 0. 0.] \n",
            " [0. 0. 0. 0. 0. 0. 1.]]\n",
            "\n",
            "D:\n",
            "[[0. 0.] \n",
            " [0. 0.] \n",
            " [0. 0.] \n",
            " [0. 0.]]\n"
          ]
        }
      ],
      "source": [
        "C, D = jacobian_numerical(h, x0, u0, epsilon=1e-6)\n",
        "\n",
        "print('C:')\n",
        "sp.pretty_print( np.round(C, 3) )\n",
        "\n",
        "print('')\n",
        "print('D:')\n",
        "sp.pretty_print( np.round(D, 3) )"
      ]
    },
    {
      "cell_type": "markdown",
      "id": "1793c3bd-1b07-4341-919c-90441c462e86",
      "metadata": {
        "id": "1793c3bd-1b07-4341-919c-90441c462e86"
      },
      "source": [
        "### Define the measurement covariance matrix R\n",
        "\n",
        "$R =\n",
        "\\begin{bmatrix}\n",
        "1 & 0 & 0 & 0 \\\\\n",
        "0 & 1 & 0 & 0 \\\\\n",
        "0 & 0 & 1 & 0 \\\\\n",
        "0 & 0 & 0 & 1 \\\\\n",
        "\\end{bmatrix}\n",
        "\\begin{bmatrix}\n",
        "\\sigma_\\theta^2 \\\\\n",
        "\\sigma_x^2 \\\\\n",
        "\\sigma_z^2 \\\\\n",
        "\\sigma_k^2\n",
        "\\end{bmatrix} =\n",
        "\\begin{bmatrix}\n",
        "\\sigma_\\theta^2 & 0 & 0 & 0 \\\\\n",
        "0 & \\sigma_x^2 & 0 & 0 \\\\\n",
        "0 & 0 & \\sigma_z^2 & 0 \\\\\n",
        "0 & 0 & 0 & \\sigma_k^2 \\\\\n",
        "\\end{bmatrix}\n",
        "$"
      ]
    },
    {
      "cell_type": "code",
      "execution_count": 21,
      "id": "7c415374-4e89-4f05-8b8b-d8f03043ff92",
      "metadata": {
        "id": "7c415374-4e89-4f05-8b8b-d8f03043ff92",
        "outputId": "edeea455-9cae-4c73-feec-2847cd5c2f8a",
        "colab": {
          "base_uri": "https://localhost:8080/"
        }
      },
      "outputs": [
        {
          "output_type": "stream",
          "name": "stdout",
          "text": [
            "R:\n",
            "[[1.0e-02 0.0e+00 0.0e+00 0.0e+00] \n",
            " [0.0e+00 4.0e-02 0.0e+00 0.0e+00] \n",
            " [0.0e+00 0.0e+00 1.6e-01 0.0e+00] \n",
            " [0.0e+00 0.0e+00 0.0e+00 1.0e-04]]\n"
          ]
        }
      ],
      "source": [
        "R = np.diag( list(measurement_noise_stds.values()) )**2\n",
        "\n",
        "print('R:')\n",
        "sp.pretty_print( np.round(R, 4) )"
      ]
    },
    {
      "cell_type": "markdown",
      "id": "c6d9db7a-3c4e-46db-8e44-43397504c52f",
      "metadata": {
        "id": "c6d9db7a-3c4e-46db-8e44-43397504c52f"
      },
      "source": [
        "# Define the process covariance matrix Q\n",
        "\n",
        "The diagonal of Q corresponds to the variance of the model for each state. In this case, we can set it to a small value, but equal across states."
      ]
    },
    {
      "cell_type": "code",
      "execution_count": 22,
      "id": "0f0b534a-4d52-43fd-bed7-61f867ce9cb0",
      "metadata": {
        "id": "0f0b534a-4d52-43fd-bed7-61f867ce9cb0",
        "outputId": "0c8173c6-f875-4acc-8b2c-5da52a239361",
        "colab": {
          "base_uri": "https://localhost:8080/"
        }
      },
      "outputs": [
        {
          "output_type": "stream",
          "name": "stdout",
          "text": [
            "R:\n",
            "[[0.0001 0.     0.     0.    ] \n",
            " [0.     0.0001 0.     0.    ] \n",
            " [0.     0.     0.0001 0.    ] \n",
            " [0.     0.     0.     0.0001]]\n"
          ]
        }
      ],
      "source": [
        "Q = np.diag([1e-4]*4)\n",
        "\n",
        "print('R:')\n",
        "sp.pretty_print( np.round(Q, 4) )"
      ]
    },
    {
      "cell_type": "markdown",
      "id": "7f9e19f1-336e-47a8-95a0-6922219f2599",
      "metadata": {
        "id": "7f9e19f1-336e-47a8-95a0-6922219f2599"
      },
      "source": [
        "# Exercises:\n",
        "\n",
        "Save the following to disk:\n",
        "  * $A, B, C, D, R, Q$ matrices defined above\n",
        "  * t_sim, x_sim, y_sim, u_sim\n",
        "\n",
        "Hint 1: Lesson 1 showed you how to save `t_sim, x_sim, y_sim, u_sim` to disk.\n",
        "\n",
        "Hint 2: For `A, B, C, D, R, Q`, consider using `pickle` (or `dill`). Ask AI for help."
      ]
    },
    {
      "cell_type": "code",
      "execution_count": 22,
      "id": "321d5ea4-cc5e-4543-9b27-c20fc48c6aad",
      "metadata": {
        "id": "321d5ea4-cc5e-4543-9b27-c20fc48c6aad"
      },
      "outputs": [],
      "source": []
    }
  ],
  "metadata": {
    "kernelspec": {
      "display_name": "PY38",
      "language": "python",
      "name": "py38"
    },
    "language_info": {
      "codemirror_mode": {
        "name": "ipython",
        "version": 3
      },
      "file_extension": ".py",
      "mimetype": "text/x-python",
      "name": "python",
      "nbconvert_exporter": "python",
      "pygments_lexer": "ipython3",
      "version": "3.8.6"
    },
    "colab": {
      "provenance": []
    }
  },
  "nbformat": 4,
  "nbformat_minor": 5
}