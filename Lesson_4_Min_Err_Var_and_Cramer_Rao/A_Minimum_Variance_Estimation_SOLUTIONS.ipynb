{
  "cells": [
    {
      "cell_type": "code",
      "execution_count": 1,
      "metadata": {
        "id": "tyqwrxgFkl58"
      },
      "outputs": [],
      "source": [
        "import numpy as np\n",
        "import scipy.stats\n",
        "import matplotlib.pyplot as plt"
      ]
    },
    {
      "cell_type": "code",
      "execution_count": 2,
      "metadata": {
        "id": "qQcwO9rckl59",
        "outputId": "60212647-c590-47fd-9d18-40879659c47c",
        "colab": {
          "base_uri": "https://localhost:8080/"
        }
      },
      "outputs": [
        {
          "output_type": "stream",
          "name": "stdout",
          "text": [
            "Fetching from: \n",
            "<Response [200]>\n"
          ]
        }
      ],
      "source": [
        "import sys\n",
        "import requests\n",
        "import importlib\n",
        "\n",
        "def import_local_or_github(package_name, function_name=None, directory=None, giturl=None):\n",
        "    # Import functions directly from github\n",
        "    # Important: note that we use raw.githubusercontent.com, not github.com\n",
        "\n",
        "    try: # to find the file locally\n",
        "        if directory is not None:\n",
        "            if directory not in sys.path:\n",
        "                sys.path.append(directory)\n",
        "\n",
        "        package = importlib.import_module(package_name)\n",
        "        if function_name is not None:\n",
        "            function = getattr(package, function_name)\n",
        "            return function\n",
        "        else:\n",
        "            return package\n",
        "\n",
        "    except: # get the file from github\n",
        "        if giturl is None:\n",
        "            giturl = 'https://raw.githubusercontent.com/florisvb/Nonlinear_and_Data_Driven_Estimation/main/Utility/' + str(package_name) + '.py'\n",
        "\n",
        "        r = requests.get(giturl)\n",
        "        print('Fetching from: ')\n",
        "        print(r)\n",
        "\n",
        "        # Store the file to the colab working directory\n",
        "        with open(package_name+'.py', 'w') as f:\n",
        "            f.write(r.text)\n",
        "        f.close()\n",
        "\n",
        "        # import the function we want from that file\n",
        "        package = importlib.import_module(package_name)\n",
        "        if function_name is not None:\n",
        "            function = getattr(package , function_name)\n",
        "            return function\n",
        "        else:\n",
        "            return package\n",
        "\n",
        "plot_tme = import_local_or_github('plot_utility', 'plot_tme', directory='../Utility')"
      ]
    },
    {
      "cell_type": "code",
      "execution_count": 3,
      "metadata": {
        "id": "KK7maF0Mkl59"
      },
      "outputs": [],
      "source": [
        "inv = np.linalg.inv"
      ]
    },
    {
      "cell_type": "markdown",
      "metadata": {
        "id": "6mxl3hJukl5-"
      },
      "source": [
        "# Generate sample time series data\n",
        "\n",
        "Same as Linear Least Squares example."
      ]
    },
    {
      "cell_type": "code",
      "execution_count": 4,
      "metadata": {
        "id": "2qbnrntzkl5-"
      },
      "outputs": [],
      "source": [
        "t = np.linspace(0, 3, 600)\n",
        "x = np.array([[1, 1, 2, -0.4e-4]]).T\n",
        "H = np.vstack([t, np.sin(t), np.cos(2*t), np.exp(t)]).T\n",
        "y = H@x"
      ]
    },
    {
      "cell_type": "markdown",
      "metadata": {
        "id": "iheTjqgRkl5-"
      },
      "source": [
        "# Two sensors"
      ]
    },
    {
      "cell_type": "code",
      "execution_count": 5,
      "metadata": {
        "id": "RMPkL1Chkl5_"
      },
      "outputs": [],
      "source": [
        "noise_mean = 0\n",
        "\n",
        "noise_std_1 = 20\n",
        "noise_std_2 = 0.5\n",
        "\n",
        "v = []\n",
        "v_std = []\n",
        "noise_i = 1\n",
        "n_chunks = 0\n",
        "while len(v)<len(t):\n",
        "    if noise_i == 1:\n",
        "        noise_i = 2\n",
        "        noise_std = noise_std_2\n",
        "        chunk_size = 50\n",
        "    else:\n",
        "        noise_i = 1\n",
        "        noise_std = noise_std_1\n",
        "        chunk_size = 150\n",
        "\n",
        "    v_std = np.hstack( (v_std, [noise_std]*chunk_size) )\n",
        "    v = np.hstack( (v, np.random.normal(noise_mean, noise_std, chunk_size)) )\n",
        "    n_chunks += 1\n",
        "\n",
        "v_std = v_std[0:len(t)]\n",
        "v = v[0:len(t)]\n",
        "\n",
        "v_std = np.column_stack(v_std).T\n",
        "v = np.column_stack(v).T\n",
        "\n",
        "y_tilde = y+v"
      ]
    },
    {
      "cell_type": "code",
      "execution_count": 6,
      "metadata": {
        "id": "2h_z3WdVkl5_",
        "outputId": "1f4c10b9-b7cc-4052-d174-358cd1cc2b1d",
        "colab": {
          "base_uri": "https://localhost:8080/"
        }
      },
      "outputs": [
        {
          "output_type": "execute_result",
          "data": {
            "text/plain": [
              "6"
            ]
          },
          "metadata": {},
          "execution_count": 6
        }
      ],
      "source": [
        "n_chunks"
      ]
    },
    {
      "cell_type": "markdown",
      "metadata": {
        "id": "r2LO17Cjkl6A"
      },
      "source": [
        "# Plotting"
      ]
    },
    {
      "cell_type": "code",
      "execution_count": 7,
      "metadata": {
        "id": "a3-IzNbdkl6A",
        "outputId": "a034cc09-9319-4d76-a4c2-735eacdbbb1b",
        "colab": {
          "base_uri": "https://localhost:8080/",
          "height": 426
        }
      },
      "outputs": [
        {
          "output_type": "execute_result",
          "data": {
            "text/plain": [
              "<Axes: xlabel='Time', ylabel='y'>"
            ]
          },
          "metadata": {},
          "execution_count": 7
        },
        {
          "output_type": "display_data",
          "data": {
            "text/plain": [
              "<Figure size 600x400 with 1 Axes>"
            ],
            "image/png": "[encoded data removed]"
          },
          "metadata": {}
        }
      ],
      "source": [
        "plot_tme(t, y, y_tilde)"
      ]
    },
    {
      "cell_type": "markdown",
      "metadata": {
        "id": "47n7jME3kl6A"
      },
      "source": [
        "# Candidate models"
      ]
    },
    {
      "cell_type": "code",
      "execution_count": 8,
      "metadata": {
        "id": "Mto4CzVOkl6A"
      },
      "outputs": [],
      "source": [
        "model_1_H = np.vstack([t, np.sin(t), np.cos(2*t)]).T"
      ]
    },
    {
      "cell_type": "markdown",
      "metadata": {
        "id": "UoxEnYtlkl6A"
      },
      "source": [
        "# Minimum Variance Estimate: Gauss-Markov Theorem\n",
        "\n",
        "$\\mathbf{\\hat{x}}=(H^{\\top}R^{-1}H)^{-1}H^{\\top}R^{-1}\\mathbf{\\tilde{y}}$"
      ]
    },
    {
      "cell_type": "code",
      "execution_count": 9,
      "metadata": {
        "id": "2AnMC45Gkl6A",
        "outputId": "94ef9df7-7e24-4d8d-dded-092694acdd55",
        "colab": {
          "base_uri": "https://localhost:8080/"
        }
      },
      "outputs": [
        {
          "output_type": "stream",
          "name": "stdout",
          "text": [
            "[[2.5e-01 0.0e+00 0.0e+00 ... 0.0e+00 0.0e+00 0.0e+00]\n",
            " [0.0e+00 2.5e-01 0.0e+00 ... 0.0e+00 0.0e+00 0.0e+00]\n",
            " [0.0e+00 0.0e+00 2.5e-01 ... 0.0e+00 0.0e+00 0.0e+00]\n",
            " ...\n",
            " [0.0e+00 0.0e+00 0.0e+00 ... 4.0e+02 0.0e+00 0.0e+00]\n",
            " [0.0e+00 0.0e+00 0.0e+00 ... 0.0e+00 4.0e+02 0.0e+00]\n",
            " [0.0e+00 0.0e+00 0.0e+00 ... 0.0e+00 0.0e+00 4.0e+02]]\n"
          ]
        }
      ],
      "source": [
        "R = np.diag( np.ravel(v_std)**2)\n",
        "print(R)"
      ]
    },
    {
      "cell_type": "code",
      "source": [
        "y_tilde.shape"
      ],
      "metadata": {
        "id": "u8b0Qq2cl05K",
        "outputId": "fc94f63f-33ec-4ee5-9acc-552e106eba83",
        "colab": {
          "base_uri": "https://localhost:8080/"
        }
      },
      "execution_count": 10,
      "outputs": [
        {
          "output_type": "execute_result",
          "data": {
            "text/plain": [
              "(600, 1)"
            ]
          },
          "metadata": {},
          "execution_count": 10
        }
      ]
    },
    {
      "cell_type": "code",
      "source": [
        "R.shape"
      ],
      "metadata": {
        "id": "f-vCQXDul5FC",
        "outputId": "cf8eac8e-5f87-490f-8f42-65cf1a4b2a78",
        "colab": {
          "base_uri": "https://localhost:8080/"
        }
      },
      "execution_count": 11,
      "outputs": [
        {
          "output_type": "execute_result",
          "data": {
            "text/plain": [
              "(600, 600)"
            ]
          },
          "metadata": {},
          "execution_count": 11
        }
      ]
    },
    {
      "cell_type": "markdown",
      "metadata": {
        "id": "j0520-i6kl6B"
      },
      "source": [
        "### Model 1"
      ]
    },
    {
      "cell_type": "code",
      "execution_count": 12,
      "metadata": {
        "id": "lPWSp4aKkl6B"
      },
      "outputs": [],
      "source": [
        "x_1_hat = inv(model_1_H.T@inv(R)@model_1_H)@model_1_H.T@inv(R)@y_tilde"
      ]
    },
    {
      "cell_type": "code",
      "source": [
        "x_1_hat"
      ],
      "metadata": {
        "id": "wDtBStfdl-dr",
        "outputId": "bb1c5d45-f067-4032-c43d-40de6245b320",
        "colab": {
          "base_uri": "https://localhost:8080/"
        }
      },
      "execution_count": 13,
      "outputs": [
        {
          "output_type": "execute_result",
          "data": {
            "text/plain": [
              "array([[1.09219916],\n",
              "       [0.95508517],\n",
              "       [2.05202969]])"
            ]
          },
          "metadata": {},
          "execution_count": 13
        }
      ]
    },
    {
      "cell_type": "code",
      "execution_count": 14,
      "metadata": {
        "id": "AbEi8xL7kl6B",
        "outputId": "47eef399-c57d-4d18-93a6-59f3dd1dc915",
        "colab": {
          "base_uri": "https://localhost:8080/",
          "height": 426
        }
      },
      "outputs": [
        {
          "output_type": "execute_result",
          "data": {
            "text/plain": [
              "<Axes: xlabel='Time', ylabel='y'>"
            ]
          },
          "metadata": {},
          "execution_count": 14
        },
        {
          "output_type": "display_data",
          "data": {
            "text/plain": [
              "<Figure size 600x400 with 1 Axes>"
            ],
            "image/png": "[encoded data removed]"
          },
          "metadata": {}
        }
      ],
      "source": [
        "y_1_hat = model_1_H@x_1_hat\n",
        "plot_tme(t, y, y_tilde, y_1_hat)"
      ]
    },
    {
      "cell_type": "code",
      "execution_count": 15,
      "metadata": {
        "id": "-81XfGiXkl6B",
        "outputId": "ad142f77-7c2c-4697-e1a6-46eeff625882",
        "colab": {
          "base_uri": "https://localhost:8080/"
        }
      },
      "outputs": [
        {
          "output_type": "stream",
          "name": "stdout",
          "text": [
            "[[ 0.09219916]\n",
            " [-0.04491483]\n",
            " [ 0.05202969]]\n"
          ]
        }
      ],
      "source": [
        "x_error = x_1_hat - x[0:3]\n",
        "print(x_error)"
      ]
    },
    {
      "cell_type": "markdown",
      "metadata": {
        "id": "V4eIIrBrkl6B"
      },
      "source": [
        "# Residuals"
      ]
    },
    {
      "cell_type": "code",
      "execution_count": 16,
      "metadata": {
        "id": "AD5E2pjjkl6B",
        "outputId": "97bcc6c4-8a44-44af-945f-3e22943200f9",
        "colab": {
          "base_uri": "https://localhost:8080/",
          "height": 426
        }
      },
      "outputs": [
        {
          "output_type": "execute_result",
          "data": {
            "text/plain": [
              "<Axes: xlabel='Time', ylabel='y'>"
            ]
          },
          "metadata": {},
          "execution_count": 16
        },
        {
          "output_type": "display_data",
          "data": {
            "text/plain": [
              "<Figure size 600x400 with 1 Axes>"
            ],
            "image/png": "[encoded data removed]"
          },
          "metadata": {}
        }
      ],
      "source": [
        "residuals_1 = y_tilde - y_1_hat\n",
        "plot_tme(t, np.ones_like(t)*np.mean(residuals_1), residuals_1)"
      ]
    },
    {
      "cell_type": "markdown",
      "metadata": {
        "id": "7-_pkasbkl6C"
      },
      "source": [
        "# Histogram of residuals"
      ]
    },
    {
      "cell_type": "code",
      "execution_count": 17,
      "metadata": {
        "id": "IDEwlTtWkl6C"
      },
      "outputs": [],
      "source": [
        "N1 = scipy.stats.norm(noise_mean, noise_std_1)\n",
        "xr = np.linspace(-100, 100, 1000)\n",
        "pdf1 = N1.pdf(xr)\n",
        "\n",
        "N2 = scipy.stats.norm(noise_mean, noise_std_2)\n",
        "pdf2 = N2.pdf(xr)\n",
        "\n",
        "pdf = (pdf1*3 + pdf2*1) / 4"
      ]
    },
    {
      "cell_type": "code",
      "execution_count": 18,
      "metadata": {
        "id": "sFO_U_YTkl6C",
        "outputId": "59574e23-3e63-4b50-eeb3-5a33bf8ac737",
        "colab": {
          "base_uri": "https://localhost:8080/",
          "height": 458
        }
      },
      "outputs": [
        {
          "output_type": "execute_result",
          "data": {
            "text/plain": [
              "[<matplotlib.lines.Line2D at 0x7bfc7064c740>]"
            ]
          },
          "metadata": {},
          "execution_count": 18
        },
        {
          "output_type": "display_data",
          "data": {
            "text/plain": [
              "<Figure size 640x480 with 1 Axes>"
            ],
            "image/png": "[encoded data removed]"
          },
          "metadata": {}
        }
      ],
      "source": [
        "plt.hist(residuals_1, density=True, bins=100)\n",
        "plt.plot(xr, pdf, color='red')"
      ]
    },
    {
      "cell_type": "markdown",
      "metadata": {
        "id": "sqKoelPUkl6C"
      },
      "source": [
        "# Exercises\n",
        "\n",
        "1. Use the wrong R for the minimum variance estimate. Do the errors in the estimate of x get worse?"
      ]
    },
    {
      "cell_type": "markdown",
      "source": [
        "# Solution"
      ],
      "metadata": {
        "id": "nsJezpxEn-Ne"
      }
    },
    {
      "cell_type": "code",
      "source": [
        "R = np.eye(len(y_tilde))"
      ],
      "metadata": {
        "id": "S5oI-QFon8fj"
      },
      "execution_count": 27,
      "outputs": []
    },
    {
      "cell_type": "code",
      "source": [
        "R.shape"
      ],
      "metadata": {
        "id": "WXHBvhGNoFuv",
        "outputId": "7bdd0a9c-bb1d-432a-f1b0-f18dcc414fa5",
        "colab": {
          "base_uri": "https://localhost:8080/"
        }
      },
      "execution_count": 28,
      "outputs": [
        {
          "output_type": "execute_result",
          "data": {
            "text/plain": [
              "(600, 600)"
            ]
          },
          "metadata": {},
          "execution_count": 28
        }
      ]
    },
    {
      "cell_type": "code",
      "source": [
        "x_1_hat_R1 = inv(model_1_H.T@inv(R)@model_1_H)@model_1_H.T@inv(R)@y_tilde"
      ],
      "metadata": {
        "id": "0iXnaQaKoGZ2"
      },
      "execution_count": 29,
      "outputs": []
    },
    {
      "cell_type": "code",
      "source": [
        "x_1_hat_R1"
      ],
      "metadata": {
        "id": "SCZiSE10oODG",
        "outputId": "022837f4-ae5a-4fba-cf84-2f862b708b87",
        "colab": {
          "base_uri": "https://localhost:8080/"
        }
      },
      "execution_count": 30,
      "outputs": [
        {
          "output_type": "execute_result",
          "data": {
            "text/plain": [
              "array([[0.71427138],\n",
              "       [1.09578105],\n",
              "       [3.1878323 ]])"
            ]
          },
          "metadata": {},
          "execution_count": 30
        }
      ]
    },
    {
      "cell_type": "code",
      "source": [
        "diag = (np.random.normal(0,10,len(y_tilde)))**2\n",
        "R = np.diag(diag)"
      ],
      "metadata": {
        "id": "Cai5JTmfoh_c"
      },
      "execution_count": 34,
      "outputs": []
    },
    {
      "cell_type": "code",
      "source": [
        "R.shape"
      ],
      "metadata": {
        "id": "LQD6tCy4oPOy",
        "outputId": "7f644da5-a4e9-4b6e-c43f-45243e166946",
        "colab": {
          "base_uri": "https://localhost:8080/"
        }
      },
      "execution_count": 35,
      "outputs": [
        {
          "output_type": "execute_result",
          "data": {
            "text/plain": [
              "(600, 600)"
            ]
          },
          "metadata": {},
          "execution_count": 35
        }
      ]
    },
    {
      "cell_type": "code",
      "source": [
        "x_1_hat_R1 = inv(model_1_H.T@inv(R)@model_1_H)@model_1_H.T@inv(R)@y_tilde"
      ],
      "metadata": {
        "id": "5e2i8xfGoz8Z"
      },
      "execution_count": 36,
      "outputs": []
    },
    {
      "cell_type": "code",
      "source": [
        "x_1_hat_R1"
      ],
      "metadata": {
        "id": "WH2GdGGco1HU",
        "outputId": "7be60e41-46df-424b-d477-981762af8f5e",
        "colab": {
          "base_uri": "https://localhost:8080/"
        }
      },
      "execution_count": 37,
      "outputs": [
        {
          "output_type": "execute_result",
          "data": {
            "text/plain": [
              "array([[-0.31508177],\n",
              "       [18.03478262],\n",
              "       [15.54521244]])"
            ]
          },
          "metadata": {},
          "execution_count": 37
        }
      ]
    },
    {
      "cell_type": "code",
      "source": [],
      "metadata": {
        "id": "8DsTB887o18L"
      },
      "execution_count": null,
      "outputs": []
    }
  ],
  "metadata": {
    "kernelspec": {
      "display_name": "PY38",
      "language": "python",
      "name": "py38"
    },
    "language_info": {
      "codemirror_mode": {
        "name": "ipython",
        "version": 3
      },
      "file_extension": ".py",
      "mimetype": "text/x-python",
      "name": "python",
      "nbconvert_exporter": "python",
      "pygments_lexer": "ipython3",
      "version": "3.8.6"
    },
    "colab": {
      "provenance": []
    }
  },
  "nbformat": 4,
  "nbformat_minor": 0
}