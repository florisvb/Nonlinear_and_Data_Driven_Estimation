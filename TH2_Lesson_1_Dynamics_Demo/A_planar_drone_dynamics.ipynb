{
  "cells": [
    {
      "cell_type": "markdown",
      "id": "1f904b9b-def1-4830-bf0d-47c68d6e4bf1",
      "metadata": {
        "id": "1f904b9b-def1-4830-bf0d-47c68d6e4bf1"
      },
      "source": [
        "# Standard imports"
      ]
    },
    {
      "cell_type": "code",
      "execution_count": 64,
      "id": "a969f402-9690-4a2a-af50-b0873f1a8c22",
      "metadata": {
        "id": "a969f402-9690-4a2a-af50-b0873f1a8c22"
      },
      "outputs": [],
      "source": [
        "import numpy as np\n",
        "import matplotlib.pyplot as plt\n",
        "import pandas\n",
        "from scipy.integrate import odeint"
      ]
    },
    {
      "cell_type": "markdown",
      "id": "74174dd9-70d5-41f1-a545-7f7d0821f7f2",
      "metadata": {
        "id": "74174dd9-70d5-41f1-a545-7f7d0821f7f2"
      },
      "source": [
        "# Custom imports that are either local or pulled from github"
      ]
    },
    {
      "cell_type": "code",
      "execution_count": 65,
      "id": "e89545f0-dc89-487f-b2ef-7dc014772b94",
      "metadata": {
        "id": "e89545f0-dc89-487f-b2ef-7dc014772b94"
      },
      "outputs": [],
      "source": [
        "import sys\n",
        "import requests\n",
        "import importlib\n",
        "import urllib.request\n",
        "\n",
        "\n",
        "def import_local_or_github(package_name, function_name=None, directory=None, giturl=None):\n",
        "    # Import functions directly from github\n",
        "    # Important: note that we use raw.githubusercontent.com, not github.com\n",
        "\n",
        "    try: # to find the file locally\n",
        "        if directory is not None:\n",
        "            if directory not in sys.path:\n",
        "                sys.path.append(directory)\n",
        "\n",
        "        package = importlib.import_module(package_name)\n",
        "        if function_name is not None:\n",
        "            function = getattr(package, function_name)\n",
        "            return function\n",
        "        else:\n",
        "            return package\n",
        "\n",
        "    except: # get the file from github\n",
        "        if giturl is None:\n",
        "            giturl = 'https://raw.githubusercontent.com/florisvb/Nonlinear_and_Data_Driven_Estimation/main/Utility/' + str(package_name) + '.py'\n",
        "\n",
        "        r = requests.get(giturl)\n",
        "        print('Fetching from: ')\n",
        "        print(r)\n",
        "\n",
        "        # Store the file to the colab working directory\n",
        "        with open(package_name+'.py', 'w') as f:\n",
        "            f.write(r.text)\n",
        "        f.close()\n",
        "\n",
        "        # import the function we want from that file\n",
        "        package = importlib.import_module(package_name)\n",
        "        if function_name is not None:\n",
        "            function = getattr(package, function_name)\n",
        "            return function\n",
        "        else:\n",
        "            return package\n",
        "\n",
        "plot_tme = import_local_or_github('plot_utility', 'plot_tme', directory='../Utility')"
      ]
    },
    {
      "cell_type": "markdown",
      "id": "683faff7-aa4b-4eca-aa96-d86198d54bd4",
      "metadata": {
        "id": "683faff7-aa4b-4eca-aa96-d86198d54bd4"
      },
      "source": [
        "# Imports related to model predictive control and pybounds"
      ]
    },
    {
      "cell_type": "code",
      "execution_count": 66,
      "id": "13e2b1b4-19ec-4575-a3c2-c007698c41c2",
      "metadata": {
        "id": "13e2b1b4-19ec-4575-a3c2-c007698c41c2"
      },
      "outputs": [],
      "source": [
        "try:\n",
        "    import casadi\n",
        "except:\n",
        "    !pip install casadi\n",
        "    import casadi\n",
        "\n",
        "try:\n",
        "    import do_mpc\n",
        "except:\n",
        "    !pip install do_mpc\n",
        "    import do_mpc\n",
        "\n",
        "try:\n",
        "    import pybounds\n",
        "except:\n",
        "    !pip install pybounds\n",
        "    import pybounds"
      ]
    },
    {
      "cell_type": "markdown",
      "id": "fcb1cb7f-dde4-49bb-9569-b205e8ea4acd",
      "metadata": {
        "id": "fcb1cb7f-dde4-49bb-9569-b205e8ea4acd"
      },
      "source": [
        "# Planar drone dynamics."
      ]
    },
    {
      "cell_type": "markdown",
      "id": "765f359d-f722-4e3b-a7ee-aa1e65d7909c",
      "metadata": {
        "id": "765f359d-f722-4e3b-a7ee-aa1e65d7909c"
      },
      "source": [
        "$\n",
        "\\mathbf{\\dot{x}} =\n",
        "\\frac{d}{dt}\n",
        "\\begin{bmatrix}\n",
        "\\bbox[yellow]{\\theta} \\\\[0.3em]\n",
        "\\bbox[yellow]{\\dot{\\theta}} \\\\[0.3em]\n",
        "\\bbox[yellow]{x} \\\\[0.3em]\n",
        "\\bbox[yellow]{\\dot{x}} \\\\[0.3em]\n",
        "\\bbox[yellow]{z} \\\\[0.3em]\n",
        "\\bbox[yellow]{\\dot{z}} \\\\[0.3em]\n",
        "\\bbox[pink]{k}\n",
        "\\end{bmatrix} =\n",
        "\\overset{f_0}{\\begin{bmatrix}\n",
        "\\bbox[yellow]{\\dot{\\theta}} \\\\[0.3em]\n",
        "0 \\\\[0.3em]\n",
        "\\bbox[yellow]{\\dot{x}} \\\\[0.3em]\n",
        "-sign(\\dot{x})C \\dot{x}^2/m\\\\[0.3em]\n",
        "\\bbox[yellow]{\\dot{z}} \\\\[0.3em]\n",
        "-\\bbox[lightblue]{g} -sign(\\dot{z})C \\dot{z}^2/m \\\\[0.3em]\n",
        "0\n",
        "\\end{bmatrix}} +\n",
        "\\overset{f_1}{\\begin{bmatrix}\n",
        "0 \\\\[0.3em]\n",
        "\\bbox[lightblue]{l}\\bbox[pink]{k}/\\bbox[lightblue]{I_{yy}} \\\\[0.3em]\n",
        "0 \\\\[0.3em]\n",
        "0 \\\\[0.3em]\n",
        "0 \\\\[0.3em]\n",
        "0 \\\\[0.3em]\n",
        "0\n",
        "\\end{bmatrix}} \\bbox[lightgreen]{j_1} +\n",
        "\\overset{f_2}{\\begin{bmatrix}\n",
        "0 \\\\[0.3em]\n",
        "-\\bbox[pink]{k}\\bbox[yellow]{\\sin\\theta}/\\bbox[lightblue]{m} \\\\[0.3em]\n",
        "0 \\\\[0.3em]\n",
        "\\bbox[pink]{k}\\bbox[yellow]{\\cos\\theta}/\\bbox[lightblue]{m} \\\\[0.3em]\n",
        "0 \\\\[0.3em]\n",
        "0 \\\\[0.3em]\n",
        "0\n",
        "\\end{bmatrix}} \\bbox[lightgreen]{j_2}\n",
        "$\n",
        "\n",
        "<span style=\"color:blue;\">AI tip: try an LLM to convert picture of your dynamics to latex. It'll get much of it right, but you may need to fix it."
      ]
    },
    {
      "cell_type": "markdown",
      "id": "349d6d26-ff8d-4a7e-bd79-fbe9638a18fc",
      "metadata": {
        "id": "349d6d26-ff8d-4a7e-bd79-fbe9638a18fc"
      },
      "source": [
        "# Set some constant parameters (the blue symbols above)"
      ]
    },
    {
      "cell_type": "code",
      "execution_count": 153,
      "id": "c527e3eb-47d5-4f20-83ea-5b6bcb273148",
      "metadata": {
        "id": "c527e3eb-47d5-4f20-83ea-5b6bcb273148"
      },
      "outputs": [],
      "source": [
        "m = 1 # mass (kg)\n",
        "g = 9.81 # acceleration due to gravity (m/s^2)\n",
        "L = 0.5 # length of the drone arm (m)\n",
        "Iyy = 0.02 # moment of inertia (e.g. 1/12*m*L**2 for a solid rod, as an approximation)\n",
        "C = 0.5 # drag coefficient"
      ]
    },
    {
      "cell_type": "markdown",
      "id": "8821e299-aa98-4222-88b4-64cbe1507311",
      "metadata": {
        "id": "8821e299-aa98-4222-88b4-64cbe1507311"
      },
      "source": [
        "# Define your dynamics function\n",
        "\n",
        "We will use this same format many times, for evaluating observability and Kalman filters.\n",
        "\n",
        "<span style=\"color:blue;\">AI tip: try an LLM to convert a picture of the dynamics, or the latex code, to a python function. You may have to correct it!"
      ]
    },
    {
      "cell_type": "code",
      "execution_count": 154,
      "id": "3e7f724e-0938-4a28-89be-5b1c7970ba49",
      "metadata": {
        "id": "3e7f724e-0938-4a28-89be-5b1c7970ba49"
      },
      "outputs": [],
      "source": [
        "def f(x_vec, u_vec, m=m, g=g, L=L, I=Iyy, C=C):\n",
        "    \"\"\"\n",
        "    Continuous time dynamics function for the system shown in the equation.\n",
        "\n",
        "    Parameters:\n",
        "    x_vec : array-like, shape (7,)\n",
        "        State vector [θ, θ̇, x, ẋ, z, ż, k]\n",
        "    u_vec : array-like, shape (2,)\n",
        "        Control vector [j1, j2]\n",
        "    L : float, default 0.5\n",
        "        drone arm length\n",
        "    m : float, default 1.0\n",
        "        drone mass\n",
        "    g : float, default 9.81\n",
        "        Gravitational acceleration\n",
        "\n",
        "    Returns:\n",
        "    x_dot : numpy array, shape (7,)\n",
        "        Time derivative of state vector\n",
        "    \"\"\"\n",
        "\n",
        "    # Extract state variables\n",
        "    theta = x_vec[0]\n",
        "    theta_dot = x_vec[1]\n",
        "    x = x_vec[2]\n",
        "    x_dot = x_vec[3]\n",
        "    z = x_vec[4]\n",
        "    z_dot = x_vec[5]\n",
        "    k = x_vec[6]\n",
        "\n",
        "\n",
        "    # Extract control inputs\n",
        "    j1 = u_vec[0]\n",
        "    j2 = u_vec[1]\n",
        "\n",
        "    # f0 component: drift dynamics (no controls)\n",
        "    f0_contribution = np.array([ theta_dot,\n",
        "                                 0,\n",
        "                                 x_dot,\n",
        "                                 -np.sign(x_dot) * C * x_dot**2 / m,\n",
        "                                 z_dot,\n",
        "                                 -g -np.sign(z_dot) * C * x_dot**2 / m,\n",
        "                                 0])\n",
        "\n",
        "    # f1 component: multiplied by control j1\n",
        "    f1_contribution = j1 * np.array([0,\n",
        "                                     L*k/Iyy,\n",
        "                                     0,\n",
        "                                     0,\n",
        "                                     0,\n",
        "                                     0,\n",
        "                                     0])\n",
        "\n",
        "    # f2 component: multiplied by control j2\n",
        "    f2_contribution = j2 * np.array([0,\n",
        "                                     0,\n",
        "                                     0,\n",
        "                                     -k * np.sin(theta) / m,\n",
        "                                     0,\n",
        "                                     k * np.cos(theta) / m,\n",
        "                                     0])\n",
        "\n",
        "    # combined dynamics\n",
        "    x_dot_vec = f0_contribution + f1_contribution + f2_contribution\n",
        "\n",
        "    return x_dot_vec"
      ]
    },
    {
      "cell_type": "markdown",
      "id": "4f4e5265-c54b-472c-9ec3-ac00877d565d",
      "metadata": {
        "id": "4f4e5265-c54b-472c-9ec3-ac00877d565d"
      },
      "source": [
        "# Make sure dynamics make sense using odeint\n",
        "\n",
        "Use odeint to perform a simple ODE solver using a simple controller to verify that the dynamics appear to be correct.  "
      ]
    },
    {
      "cell_type": "code",
      "execution_count": 155,
      "id": "c0cc9e3c-f586-4617-8b75-c2efe5ce9957",
      "metadata": {
        "id": "c0cc9e3c-f586-4617-8b75-c2efe5ce9957"
      },
      "outputs": [],
      "source": [
        "def f_ode(x_vec, tsim, u_func, f):\n",
        "    '''\n",
        "    Wrap dynamics function so it can be used with odeint.\n",
        "\n",
        "    Parameters:\n",
        "    x_vec : array-like, shape (7,)\n",
        "        State vector\n",
        "    tsim : float\n",
        "        Current time step\n",
        "    u_func: function\n",
        "        Control function\n",
        "    f: function\n",
        "        Continuous time dynamics function\n",
        "\n",
        "    Returns:\n",
        "    x_dot_vec : numpy array, shape (7,)\n",
        "        Time derivative of state vector\n",
        "    '''\n",
        "    u_vec = u_func(x_vec, tsim)\n",
        "    x_dot_vec = f(x_vec, u_vec)\n",
        "    return x_dot_vec"
      ]
    },
    {
      "cell_type": "code",
      "execution_count": 156,
      "id": "987fdfab-a0bc-480f-99aa-e5029ffc9846",
      "metadata": {
        "id": "987fdfab-a0bc-480f-99aa-e5029ffc9846"
      },
      "outputs": [],
      "source": [
        "def u_func(x_vec, tsim, m=m, g=g, L=L, Iyy=Iyy):\n",
        "    '''\n",
        "    Simple controller that aims to move the drone up, and make the angle oscillate.\n",
        "    '''\n",
        "    theta = x_vec[0]\n",
        "    theta_des = np.sin(2*tsim)*0.1\n",
        "    err = theta_des - theta\n",
        "    ctrl = 10*err\n",
        "    return [ctrl, m*g*1.5]"
      ]
    },
    {
      "cell_type": "code",
      "execution_count": 157,
      "id": "5dfb6f94-20d4-4ed4-9549-105d29ac0f46",
      "metadata": {
        "id": "5dfb6f94-20d4-4ed4-9549-105d29ac0f46"
      },
      "outputs": [],
      "source": [
        "# sim time\n",
        "dt = 0.01\n",
        "tsim = np.arange(0, 8.0, step=dt)"
      ]
    },
    {
      "cell_type": "code",
      "execution_count": 158,
      "id": "6acf5c11-e8ae-462b-a9b1-c75c195e7183",
      "metadata": {
        "id": "6acf5c11-e8ae-462b-a9b1-c75c195e7183"
      },
      "outputs": [],
      "source": [
        "# initial condition\n",
        "x0 = np.array([0, 0, 0, 0, 10, 0, 1])"
      ]
    },
    {
      "cell_type": "code",
      "execution_count": 159,
      "id": "a2c7e8f7-8727-42ee-af5b-2f85e5aafbe4",
      "metadata": {
        "id": "a2c7e8f7-8727-42ee-af5b-2f85e5aafbe4"
      },
      "outputs": [],
      "source": [
        "# run odeint\n",
        "result = odeint(f_ode, x0, tsim, args=(u_func, f) )"
      ]
    },
    {
      "cell_type": "markdown",
      "id": "6ba7c5d1-136d-4fa7-875b-8c5d97434af3",
      "metadata": {
        "id": "6ba7c5d1-136d-4fa7-875b-8c5d97434af3"
      },
      "source": [
        "### Plot some results\n",
        "\n",
        "Based on the control function and dynamics, does this make sense?"
      ]
    },
    {
      "cell_type": "code",
      "execution_count": 160,
      "id": "10120844-46b5-4d00-ac30-cf628cfd6240",
      "metadata": {
        "colab": {
          "base_uri": "https://localhost:8080/",
          "height": 486
        },
        "id": "10120844-46b5-4d00-ac30-cf628cfd6240",
        "outputId": "3d27846d-9916-469d-ab74-9757b994b046"
      },
      "outputs": [
        {
          "output_type": "execute_result",
          "data": {
            "text/plain": [
              "Text(0, 0.5, 'z pos')"
            ]
          },
          "metadata": {},
          "execution_count": 160
        },
        {
          "output_type": "display_data",
          "data": {
            "text/plain": [
              "<Figure size 640x480 with 1 Axes>"
            ],
            "image/png": "[encoded data removed]"
          },
          "metadata": {}
        }
      ],
      "source": [
        "fig = plt.figure()\n",
        "ax = fig.add_subplot(111)\n",
        "\n",
        "ax.plot(result[:,2], result[:,4], '.')\n",
        "ax.set_xlabel('x pos')\n",
        "ax.set_ylabel('z pos')"
      ]
    },
    {
      "cell_type": "code",
      "execution_count": 161,
      "id": "0d1aa2c3-fe29-4553-9085-f12734e249f7",
      "metadata": {
        "colab": {
          "base_uri": "https://localhost:8080/",
          "height": 486
        },
        "id": "0d1aa2c3-fe29-4553-9085-f12734e249f7",
        "outputId": "e4b642e9-7685-4e9e-d0d8-0b208810f70e"
      },
      "outputs": [
        {
          "output_type": "execute_result",
          "data": {
            "text/plain": [
              "Text(0, 0.5, 'theta')"
            ]
          },
          "metadata": {},
          "execution_count": 161
        },
        {
          "output_type": "display_data",
          "data": {
            "text/plain": [
              "<Figure size 640x480 with 1 Axes>"
            ],
            "image/png": "[encoded data removed]"
          },
          "metadata": {}
        }
      ],
      "source": [
        "fig = plt.figure()\n",
        "ax = fig.add_subplot(111)\n",
        "\n",
        "ax.plot(tsim, result[:,0], '.')\n",
        "ax.set_xlabel('time')\n",
        "ax.set_ylabel('theta')"
      ]
    },
    {
      "cell_type": "markdown",
      "id": "fb81a825-aff4-47cd-828f-b6deefa0ad02",
      "metadata": {
        "id": "fb81a825-aff4-47cd-828f-b6deefa0ad02"
      },
      "source": [
        "# Planar drone measurements\n",
        "\n",
        "Define a measurement function. In this case we consider $\\mathbf{y}$ consisting of a downward facing camera that records ventral optic flow, and a measurement of the tilt of the planar drone.\n",
        "\n",
        "$\n",
        "\\mathbf{y} =\n",
        "\\begin{bmatrix}\n",
        "\\bbox[yellow]{\\dot{x}}/\\bbox[yellow]{z} \\\\[0.3em]\n",
        "\\bbox[yellow]{\\theta}\n",
        "\\end{bmatrix}\n",
        "$"
      ]
    },
    {
      "cell_type": "code",
      "execution_count": 162,
      "id": "1c7979f0-f9a2-44d4-8e19-da0142038fb3",
      "metadata": {
        "id": "1c7979f0-f9a2-44d4-8e19-da0142038fb3"
      },
      "outputs": [],
      "source": [
        "def h(x_vec, u_vec):\n",
        "    # Extract state variables\n",
        "    theta = x_vec[0]\n",
        "    theta_dot = x_vec[1]\n",
        "    x = x_vec[2]\n",
        "    x_dot = x_vec[3]\n",
        "    z = x_vec[4]\n",
        "    z_dot = x_vec[5]\n",
        "    k = x_vec[6]\n",
        "\n",
        "    # Extract control inputs\n",
        "    j1 = u_vec[0]\n",
        "    j2 = u_vec[1]\n",
        "\n",
        "    # Measurements\n",
        "    y_vec = [x_dot/z, theta]\n",
        "\n",
        "    # Return measurement\n",
        "    return y_vec"
      ]
    },
    {
      "cell_type": "markdown",
      "id": "e38d4002-ac01-4e6c-90b9-6719473dc97e",
      "metadata": {
        "id": "e38d4002-ac01-4e6c-90b9-6719473dc97e"
      },
      "source": [
        "# Simulate with pybounds / MPC"
      ]
    },
    {
      "cell_type": "code",
      "execution_count": 174,
      "id": "6165e84d-fd0b-4d69-b7d8-cd81bfee81bb",
      "metadata": {
        "id": "6165e84d-fd0b-4d69-b7d8-cd81bfee81bb"
      },
      "outputs": [],
      "source": [
        "import pybounds"
      ]
    },
    {
      "cell_type": "code",
      "execution_count": 175,
      "id": "f7de7b9f-f08f-4681-8652-91dba594e4fa",
      "metadata": {
        "id": "f7de7b9f-f08f-4681-8652-91dba594e4fa"
      },
      "outputs": [],
      "source": [
        "state_names = ['theta', 'theta_dot', 'x', 'x_dot', 'z', 'z_dot', 'k']\n",
        "input_names = ['j1', 'j2']\n",
        "measurement_names = ['optic_flow', 'theta']"
      ]
    },
    {
      "cell_type": "code",
      "execution_count": 176,
      "id": "69fac758-5bc3-40f7-ac57-97430decf58b",
      "metadata": {
        "id": "69fac758-5bc3-40f7-ac57-97430decf58b"
      },
      "outputs": [],
      "source": [
        "dt = 0.1  # [s]"
      ]
    },
    {
      "cell_type": "code",
      "execution_count": 177,
      "id": "6830d6aa-72fe-44de-9d6e-1cd9fb44689f",
      "metadata": {
        "id": "6830d6aa-72fe-44de-9d6e-1cd9fb44689f"
      },
      "outputs": [],
      "source": [
        "simulator = pybounds.Simulator(f, h, dt=dt, state_names=state_names,\n",
        "                               input_names=input_names, measurement_names=measurement_names, mpc_horizon=10)\n"
      ]
    },
    {
      "cell_type": "code",
      "execution_count": 178,
      "id": "3c1aba1b-1c47-4246-92c3-a1d9481f5c7c",
      "metadata": {
        "id": "3c1aba1b-1c47-4246-92c3-a1d9481f5c7c"
      },
      "outputs": [],
      "source": [
        "# First define the set-point(s) to follow\n",
        "tsim = np.arange(0, 8.0, step=dt)\n",
        "NA = np.zeros_like(tsim)\n",
        "setpoint = {'theta': NA,\n",
        "            'theta_dot': NA,\n",
        "            'x': 1.0*np.cos(2*np.pi*tsim*0.3),  # ground speed changes as a sinusoid\n",
        "            'x_dot': NA,\n",
        "            'z': 0.3*np.sin(2*np.pi*tsim*0.2)+0.5, # altitude also oscillates\n",
        "            'z_dot': NA,\n",
        "            'k': np.ones_like(tsim),\n",
        "           }"
      ]
    },
    {
      "cell_type": "code",
      "execution_count": 179,
      "id": "ca9f70a8-2d99-48a6-967e-81b40a4e700c",
      "metadata": {
        "id": "ca9f70a8-2d99-48a6-967e-81b40a4e700c"
      },
      "outputs": [],
      "source": [
        "# Update the simulator set-point\n",
        "simulator.update_dict(setpoint, name='setpoint')"
      ]
    },
    {
      "cell_type": "code",
      "execution_count": 180,
      "id": "ffa19c72-cdaf-4b0b-be92-2b0ea8971a70",
      "metadata": {
        "id": "ffa19c72-cdaf-4b0b-be92-2b0ea8971a70"
      },
      "outputs": [],
      "source": [
        "# Define MPC cost function: penalize the squared error between the setpoint for g and the true g\n",
        "cost_x = (simulator.model.x['x'] - simulator.model.tvp['x_set']) ** 2\n",
        "cost_z = (simulator.model.x['z'] - simulator.model.tvp['z_set']) ** 2\n",
        "cost_k = (simulator.model.x['k'] - simulator.model.tvp['k_set']) ** 2\n",
        "cost = cost_x + cost_z #+ cost_k"
      ]
    },
    {
      "cell_type": "code",
      "execution_count": 181,
      "id": "b3f690de-56d8-4c4c-947b-a8de493c9fde",
      "metadata": {
        "id": "b3f690de-56d8-4c4c-947b-a8de493c9fde"
      },
      "outputs": [],
      "source": [
        "# Set cost function\n",
        "simulator.mpc.set_objective(mterm=cost, lterm=cost)  # objective function\n",
        "\n",
        "# Set input penalty: make this small for accurate state tracking\n",
        "simulator.mpc.set_rterm(j1=1e-1, j2=1e-1)"
      ]
    },
    {
      "cell_type": "code",
      "execution_count": 182,
      "id": "c5ec8eac-a51e-4f64-9743-b3c21c190c00",
      "metadata": {
        "id": "c5ec8eac-a51e-4f64-9743-b3c21c190c00"
      },
      "outputs": [],
      "source": [
        "simulator.mpc.bounds['lower', '_x', 'theta'] = -np.pi/4\n",
        "simulator.mpc.bounds['upper', '_x', 'theta'] = np.pi/4\n",
        "simulator.mpc.bounds['lower', '_x', 'z'] = 0.0\n",
        "\n",
        "simulator.mpc.bounds['lower', '_u', 'j2'] = 0.0"
      ]
    },
    {
      "cell_type": "code",
      "execution_count": 183,
      "id": "cfaa8cab-5c0f-42c7-b006-9914e01ceb14",
      "metadata": {
        "colab": {
          "base_uri": "https://localhost:8080/",
          "height": 356
        },
        "id": "cfaa8cab-5c0f-42c7-b006-9914e01ceb14",
        "outputId": "9455caea-3423-4d56-b84d-256b838159fb"
      },
      "outputs": [
        {
          "output_type": "stream",
          "name": "stderr",
          "text": [
            "At t = 0.0234106, , mxstep steps taken before reaching tout.\n"
          ]
        },
        {
          "output_type": "error",
          "ename": "RuntimeError",
          "evalue": "Error in Function::call for 'simulator' [IdasInterface] at .../casadi/core/function.cpp:1466:\nError in Function::call for 'simulator' [IdasInterface] at .../casadi/core/function.cpp:362:\n.../casadi/interfaces/sundials/idas_interface.cpp:599: IDASolve returned \"IDA_TOO_MUCH_WORK\". Consult IDAS documentation.",
          "traceback": [
            "\u001b[0;31m---------------------------------------------------------------------------\u001b[0m",
            "\u001b[0;31mRuntimeError\u001b[0m                              Traceback (most recent call last)",
            "\u001b[0;32m/tmp/ipython-input-615869353.py\u001b[0m in \u001b[0;36m<cell line: 0>\u001b[0;34m()\u001b[0m\n\u001b[1;32m      1\u001b[0m \u001b[0;31m# Run simulation using MPC\u001b[0m\u001b[0;34m\u001b[0m\u001b[0;34m\u001b[0m\u001b[0m\n\u001b[0;32m----> 2\u001b[0;31m \u001b[0mt_sim\u001b[0m\u001b[0;34m,\u001b[0m \u001b[0mx_sim\u001b[0m\u001b[0;34m,\u001b[0m \u001b[0mu_sim\u001b[0m\u001b[0;34m,\u001b[0m \u001b[0my_sim\u001b[0m \u001b[0;34m=\u001b[0m \u001b[0msimulator\u001b[0m\u001b[0;34m.\u001b[0m\u001b[0msimulate\u001b[0m\u001b[0;34m(\u001b[0m\u001b[0mx0\u001b[0m\u001b[0;34m=\u001b[0m\u001b[0;32mNone\u001b[0m\u001b[0;34m,\u001b[0m \u001b[0mu\u001b[0m\u001b[0;34m=\u001b[0m\u001b[0;32mNone\u001b[0m\u001b[0;34m,\u001b[0m \u001b[0mmpc\u001b[0m\u001b[0;34m=\u001b[0m\u001b[0;32mTrue\u001b[0m\u001b[0;34m,\u001b[0m \u001b[0mreturn_full_output\u001b[0m\u001b[0;34m=\u001b[0m\u001b[0;32mTrue\u001b[0m\u001b[0;34m)\u001b[0m\u001b[0;34m\u001b[0m\u001b[0;34m\u001b[0m\u001b[0m\n\u001b[0m",
            "\u001b[0;32m/usr/local/lib/python3.12/dist-packages/pybounds/simulator.py\u001b[0m in \u001b[0;36msimulate\u001b[0;34m(self, x0, u, aux, mpc, return_full_output)\u001b[0m\n\u001b[1;32m    351\u001b[0m \u001b[0;34m\u001b[0m\u001b[0m\n\u001b[1;32m    352\u001b[0m             \u001b[0;31m# Simulate one time step given current inputs\u001b[0m\u001b[0;34m\u001b[0m\u001b[0;34m\u001b[0m\u001b[0m\n\u001b[0;32m--> 353\u001b[0;31m             \u001b[0mx_step\u001b[0m \u001b[0;34m=\u001b[0m \u001b[0mself\u001b[0m\u001b[0;34m.\u001b[0m\u001b[0msimulator\u001b[0m\u001b[0;34m.\u001b[0m\u001b[0mmake_step\u001b[0m\u001b[0;34m(\u001b[0m\u001b[0mu_step\u001b[0m\u001b[0;34m)\u001b[0m\u001b[0;34m\u001b[0m\u001b[0;34m\u001b[0m\u001b[0m\n\u001b[0m\u001b[1;32m    354\u001b[0m \u001b[0;34m\u001b[0m\u001b[0m\n\u001b[1;32m    355\u001b[0m             \u001b[0;31m# Store new states\u001b[0m\u001b[0;34m\u001b[0m\u001b[0;34m\u001b[0m\u001b[0m\n",
            "\u001b[0;32m/usr/local/lib/python3.12/dist-packages/do_mpc/simulator.py\u001b[0m in \u001b[0;36mmake_step\u001b[0;34m(self, u0, v0, w0)\u001b[0m\n\u001b[1;32m    825\u001b[0m             \u001b[0maux0\u001b[0m \u001b[0;34m=\u001b[0m \u001b[0mself\u001b[0m\u001b[0;34m.\u001b[0m\u001b[0msim_aux_num\u001b[0m\u001b[0;34m.\u001b[0m\u001b[0mmaster\u001b[0m\u001b[0;34m\u001b[0m\u001b[0;34m\u001b[0m\u001b[0m\n\u001b[1;32m    826\u001b[0m \u001b[0;34m\u001b[0m\u001b[0m\n\u001b[0;32m--> 827\u001b[0;31m         \u001b[0mx_next\u001b[0m\u001b[0;34m,\u001b[0m \u001b[0mz_next\u001b[0m \u001b[0;34m=\u001b[0m \u001b[0mself\u001b[0m\u001b[0;34m.\u001b[0m\u001b[0msimulate\u001b[0m\u001b[0;34m(\u001b[0m\u001b[0;34m)\u001b[0m\u001b[0;34m\u001b[0m\u001b[0;34m\u001b[0m\u001b[0m\n\u001b[0m\u001b[1;32m    828\u001b[0m \u001b[0;34m\u001b[0m\u001b[0m\n\u001b[1;32m    829\u001b[0m         \u001b[0;31m# Call measurement function\u001b[0m\u001b[0;34m\u001b[0m\u001b[0;34m\u001b[0m\u001b[0m\n",
            "\u001b[0;32m/usr/local/lib/python3.12/dist-packages/do_mpc/simulator.py\u001b[0m in \u001b[0;36msimulate\u001b[0;34m(self)\u001b[0m\n\u001b[1;32m    732\u001b[0m \u001b[0;34m\u001b[0m\u001b[0m\n\u001b[1;32m    733\u001b[0m         \u001b[0;32melif\u001b[0m \u001b[0mself\u001b[0m\u001b[0;34m.\u001b[0m\u001b[0mmodel\u001b[0m\u001b[0;34m.\u001b[0m\u001b[0mmodel_type\u001b[0m \u001b[0;34m==\u001b[0m \u001b[0;34m'continuous'\u001b[0m\u001b[0;34m:\u001b[0m\u001b[0;34m\u001b[0m\u001b[0;34m\u001b[0m\u001b[0m\n\u001b[0;32m--> 734\u001b[0;31m             \u001b[0mr\u001b[0m \u001b[0;34m=\u001b[0m \u001b[0mself\u001b[0m\u001b[0;34m.\u001b[0m\u001b[0msimulator\u001b[0m\u001b[0;34m(\u001b[0m\u001b[0mx0\u001b[0m \u001b[0;34m=\u001b[0m \u001b[0msim_x_num\u001b[0m\u001b[0;34m,\u001b[0m \u001b[0mz0\u001b[0m \u001b[0;34m=\u001b[0m \u001b[0msim_z_num\u001b[0m\u001b[0;34m,\u001b[0m \u001b[0mp\u001b[0m \u001b[0;34m=\u001b[0m \u001b[0msim_p_num\u001b[0m\u001b[0;34m)\u001b[0m\u001b[0;34m\u001b[0m\u001b[0;34m\u001b[0m\u001b[0m\n\u001b[0m\u001b[1;32m    735\u001b[0m             \u001b[0mx_new\u001b[0m \u001b[0;34m=\u001b[0m \u001b[0mr\u001b[0m\u001b[0;34m[\u001b[0m\u001b[0;34m'xf'\u001b[0m\u001b[0;34m]\u001b[0m\u001b[0;34m\u001b[0m\u001b[0;34m\u001b[0m\u001b[0m\n\u001b[1;32m    736\u001b[0m             \u001b[0mz_new\u001b[0m \u001b[0;34m=\u001b[0m \u001b[0mr\u001b[0m\u001b[0;34m[\u001b[0m\u001b[0;34m'zf'\u001b[0m\u001b[0;34m]\u001b[0m\u001b[0;34m\u001b[0m\u001b[0;34m\u001b[0m\u001b[0m\n",
            "\u001b[0;32m/usr/local/lib/python3.12/dist-packages/casadi/casadi.py\u001b[0m in \u001b[0;36m__call__\u001b[0;34m(self, *args, **kwargs)\u001b[0m\n\u001b[1;32m  24047\u001b[0m       \u001b[0;32melse\u001b[0m\u001b[0;34m:\u001b[0m\u001b[0;34m\u001b[0m\u001b[0;34m\u001b[0m\u001b[0m\n\u001b[1;32m  24048\u001b[0m     \u001b[0;31m# Named inputs -> return dictionary\u001b[0m\u001b[0;34m\u001b[0m\u001b[0;34m\u001b[0m\u001b[0m\n\u001b[0;32m> 24049\u001b[0;31m         \u001b[0;32mreturn\u001b[0m \u001b[0mself\u001b[0m\u001b[0;34m.\u001b[0m\u001b[0mcall\u001b[0m\u001b[0;34m(\u001b[0m\u001b[0mkwargs\u001b[0m\u001b[0;34m)\u001b[0m\u001b[0;34m\u001b[0m\u001b[0;34m\u001b[0m\u001b[0m\n\u001b[0m\u001b[1;32m  24050\u001b[0m \u001b[0;34m\u001b[0m\u001b[0m\n\u001b[1;32m  24051\u001b[0m     \u001b[0;32mdef\u001b[0m \u001b[0mbuffer\u001b[0m\u001b[0;34m(\u001b[0m\u001b[0mself\u001b[0m\u001b[0;34m)\u001b[0m\u001b[0;34m:\u001b[0m\u001b[0;34m\u001b[0m\u001b[0;34m\u001b[0m\u001b[0m\n",
            "\u001b[0;32m/usr/local/lib/python3.12/dist-packages/casadi/casadi.py\u001b[0m in \u001b[0;36mcall\u001b[0;34m(self, *args)\u001b[0m\n\u001b[1;32m  20696\u001b[0m \u001b[0;34m\u001b[0m\u001b[0m\n\u001b[1;32m  20697\u001b[0m         \"\"\"\n\u001b[0;32m> 20698\u001b[0;31m         \u001b[0;32mreturn\u001b[0m \u001b[0m_casadi\u001b[0m\u001b[0;34m.\u001b[0m\u001b[0mFunction_call\u001b[0m\u001b[0;34m(\u001b[0m\u001b[0mself\u001b[0m\u001b[0;34m,\u001b[0m \u001b[0;34m*\u001b[0m\u001b[0margs\u001b[0m\u001b[0;34m)\u001b[0m\u001b[0;34m\u001b[0m\u001b[0;34m\u001b[0m\u001b[0m\n\u001b[0m\u001b[1;32m  20699\u001b[0m \u001b[0;34m\u001b[0m\u001b[0m\n\u001b[1;32m  20700\u001b[0m \u001b[0;34m\u001b[0m\u001b[0m\n",
            "\u001b[0;31mRuntimeError\u001b[0m: Error in Function::call for 'simulator' [IdasInterface] at .../casadi/core/function.cpp:1466:\nError in Function::call for 'simulator' [IdasInterface] at .../casadi/core/function.cpp:362:\n.../casadi/interfaces/sundials/idas_interface.cpp:599: IDASolve returned \"IDA_TOO_MUCH_WORK\". Consult IDAS documentation."
          ]
        }
      ],
      "source": [
        "# Run simulation using MPC\n",
        "t_sim, x_sim, u_sim, y_sim = simulator.simulate(x0=None, u=None, mpc=True, return_full_output=True)"
      ]
    },
    {
      "cell_type": "code",
      "execution_count": null,
      "id": "71d4e015-81c7-45fe-83c2-90076fcc5d4c",
      "metadata": {
        "id": "71d4e015-81c7-45fe-83c2-90076fcc5d4c"
      },
      "outputs": [],
      "source": [
        "simulator.plot('setpoint')"
      ]
    },
    {
      "cell_type": "code",
      "source": [
        "plt.plot(u_sim['j1'])\n",
        "plt.plot(u_sim['j2'])"
      ],
      "metadata": {
        "id": "BemBnW4axDgV",
        "outputId": "05c19a7c-a207-4e68-ae2d-1951669f5bf0",
        "colab": {
          "base_uri": "https://localhost:8080/",
          "height": 457
        }
      },
      "id": "BemBnW4axDgV",
      "execution_count": 152,
      "outputs": [
        {
          "output_type": "execute_result",
          "data": {
            "text/plain": [
              "[<matplotlib.lines.Line2D at 0x79c55777d850>]"
            ]
          },
          "metadata": {},
          "execution_count": 152
        },
        {
          "output_type": "display_data",
          "data": {
            "text/plain": [
              "<Figure size 640x480 with 1 Axes>"
            ],
            "image/png": "[encoded data removed]"
          },
          "metadata": {}
        }
      ]
    },
    {
      "cell_type": "markdown",
      "id": "224897b5-9a61-41b7-8247-681a20a01bd8",
      "metadata": {
        "id": "224897b5-9a61-41b7-8247-681a20a01bd8"
      },
      "source": [
        "# Save the trajectory\n",
        "\n",
        "This makes is easy to load in a future notebook, for example `B_planar_drone_animation.ipynb`\n",
        "\n",
        "We will use pandas dataframes and hdf files throughout the course. This serves as a brief introduction."
      ]
    },
    {
      "cell_type": "code",
      "execution_count": null,
      "id": "3d3677b8-c7df-492f-bbe7-a0bc755142d9",
      "metadata": {
        "id": "3d3677b8-c7df-492f-bbe7-a0bc755142d9"
      },
      "outputs": [],
      "source": [
        "# turn all the sim outputs into pandas dataframes\n",
        "df_x = pandas.DataFrame(x_sim) # x_sim is a dict\n",
        "df_u = pandas.DataFrame(u_sim) # u_sim is a dict\n",
        "df_y = pandas.DataFrame(y_sim) # y_sim is a dict\n",
        "df_t = pandas.DataFrame({'t': t_sim}) # t_sim is a 1d array, make it a dict\n",
        "\n",
        "# keep states and measurements separate since they can have conflicting names\n",
        "df_states = pandas.concat([df_t, df_x, df_u], axis=1)\n",
        "df_measurements = pandas.concat([df_t, df_y], axis=1)"
      ]
    },
    {
      "cell_type": "code",
      "execution_count": null,
      "id": "8c0c07cf-4983-4f0c-a08c-7c2d40e101b7",
      "metadata": {
        "id": "8c0c07cf-4983-4f0c-a08c-7c2d40e101b7"
      },
      "outputs": [],
      "source": [
        "df_states.to_hdf('planar_drone_sim_states.hdf', 'states')\n",
        "df_measurements.to_hdf('planar_drone_sim_measurements.hdf', 'measurements')"
      ]
    },
    {
      "cell_type": "markdown",
      "id": "be78cea9-4bb3-4f1a-a6f1-badb9aacb052",
      "metadata": {
        "id": "be78cea9-4bb3-4f1a-a6f1-badb9aacb052"
      },
      "source": [
        "### look at the dataframe format"
      ]
    },
    {
      "cell_type": "code",
      "execution_count": null,
      "id": "37ba35d7-8eb0-43d3-a444-0d17805f9554",
      "metadata": {
        "id": "37ba35d7-8eb0-43d3-a444-0d17805f9554"
      },
      "outputs": [],
      "source": [
        "df_states"
      ]
    },
    {
      "cell_type": "markdown",
      "id": "5cc0b6b1-da5e-4972-a5f2-e3dd8fb6efad",
      "metadata": {
        "id": "5cc0b6b1-da5e-4972-a5f2-e3dd8fb6efad"
      },
      "source": [
        "# Exercises\n",
        "\n",
        "1. Update the dynamics model to include air drag ($Drag = C*vel^2$, C is a combined drag coefficient, traditionally $C=1/2 \\rho C_d A$). Does this make it \"easier\" or \"harder\" to control the drone?\n",
        "2. What is the fastest you can make the drone oscillate in the x dimension?\n",
        "3. What happens if you change the `rterm` in `simulator.mpc.set_rterm(j1=1e-4, j2=1e-4)`?"
      ]
    },
    {
      "cell_type": "markdown",
      "id": "a0908296-e702-494e-8e2e-8859c2728984",
      "metadata": {
        "id": "a0908296-e702-494e-8e2e-8859c2728984"
      },
      "source": [
        "# Lessons learned and next steps\n",
        "\n",
        "### Lessons learned\n",
        "\n",
        "1. How to simulate a nonlinear dynamical system with python and odeint\n",
        "2. How to use model predictive control to drive a dynamical systems model along a desired trajectory\n",
        "3. How to format data as a pandas dataframe, and save data to disk\n",
        "\n",
        "### Next steps\n",
        "\n",
        "1. Loading saved data\n",
        "2. Making an animation\n",
        "\n",
        "### Long term next steps\n",
        "\n",
        "1. Use this model and trajectory to analyze observability and write a Kalman filter to estimate states given limited measurements."
      ]
    },
    {
      "cell_type": "code",
      "execution_count": null,
      "id": "5743a107-975a-46f3-991c-70339099c664",
      "metadata": {
        "id": "5743a107-975a-46f3-991c-70339099c664"
      },
      "outputs": [],
      "source": []
    }
  ],
  "metadata": {
    "kernelspec": {
      "display_name": "PY38",
      "language": "python",
      "name": "py38"
    },
    "language_info": {
      "codemirror_mode": {
        "name": "ipython",
        "version": 3
      },
      "file_extension": ".py",
      "mimetype": "text/x-python",
      "name": "python",
      "nbconvert_exporter": "python",
      "pygments_lexer": "ipython3",
      "version": "3.8.6"
    },
    "colab": {
      "provenance": []
    }
  },
  "nbformat": 4,
  "nbformat_minor": 5
}