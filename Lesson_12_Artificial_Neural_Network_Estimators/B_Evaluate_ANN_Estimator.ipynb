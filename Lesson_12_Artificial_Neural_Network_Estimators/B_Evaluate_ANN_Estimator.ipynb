{
  "cells": [
    {
      "cell_type": "code",
      "execution_count": 1,
      "id": "567ed8ea-01bf-4e64-a582-dab64503fea4",
      "metadata": {
        "id": "567ed8ea-01bf-4e64-a582-dab64503fea4"
      },
      "outputs": [],
      "source": [
        "import numpy as np\n",
        "import matplotlib.pyplot as plt\n",
        "import matplotlib as mpl\n",
        "\n",
        "from scipy.integrate import odeint\n",
        "import scipy.optimize\n",
        "\n",
        "import sympy as sp\n",
        "\n",
        "import pandas as pd\n",
        "import os\n",
        "import copy"
      ]
    },
    {
      "cell_type": "code",
      "execution_count": 2,
      "id": "b887736e-bf36-4778-bac1-31cb2892cd2e",
      "metadata": {
        "id": "b887736e-bf36-4778-bac1-31cb2892cd2e",
        "outputId": "a30ef2e0-e36e-459a-b1a4-1907881356a9",
        "colab": {
          "base_uri": "https://localhost:8080/"
        }
      },
      "outputs": [
        {
          "output_type": "stream",
          "name": "stdout",
          "text": [
            "Collecting casadi\n",
            "  Downloading casadi-3.7.2-cp312-none-manylinux2014_x86_64.whl.metadata (2.2 kB)\n",
            "Requirement already satisfied: numpy in /usr/local/lib/python3.12/dist-packages (from casadi) (2.0.2)\n",
            "Downloading casadi-3.7.2-cp312-none-manylinux2014_x86_64.whl (75.6 MB)\n",
            "\u001b[2K   \u001b[90m━━━━━━━━━━━━━━━━━━━━━━━━━━━━━━━━━━━━━━━━\u001b[0m \u001b[32m75.6/75.6 MB\u001b[0m \u001b[31m8.3 MB/s\u001b[0m eta \u001b[36m0:00:00\u001b[0m\n",
            "\u001b[?25hInstalling collected packages: casadi\n",
            "Successfully installed casadi-3.7.2\n",
            "Collecting do_mpc\n",
            "  Downloading do_mpc-5.0.1-py3-none-any.whl.metadata (3.5 kB)\n",
            "Requirement already satisfied: casadi>=3.6.0 in /usr/local/lib/python3.12/dist-packages (from do_mpc) (3.7.2)\n",
            "Requirement already satisfied: scipy in /usr/local/lib/python3.12/dist-packages (from do_mpc) (1.16.2)\n",
            "Requirement already satisfied: numpy in /usr/local/lib/python3.12/dist-packages (from do_mpc) (2.0.2)\n",
            "Requirement already satisfied: matplotlib in /usr/local/lib/python3.12/dist-packages (from do_mpc) (3.10.0)\n",
            "Requirement already satisfied: pandas in /usr/local/lib/python3.12/dist-packages (from do_mpc) (2.2.2)\n",
            "Requirement already satisfied: torch>2.0.0 in /usr/local/lib/python3.12/dist-packages (from do_mpc) (2.8.0+cu126)\n",
            "Requirement already satisfied: filelock in /usr/local/lib/python3.12/dist-packages (from torch>2.0.0->do_mpc) (3.20.0)\n",
            "Requirement already satisfied: typing-extensions>=4.10.0 in /usr/local/lib/python3.12/dist-packages (from torch>2.0.0->do_mpc) (4.15.0)\n",
            "Requirement already satisfied: setuptools in /usr/local/lib/python3.12/dist-packages (from torch>2.0.0->do_mpc) (75.2.0)\n",
            "Requirement already satisfied: sympy>=1.13.3 in /usr/local/lib/python3.12/dist-packages (from torch>2.0.0->do_mpc) (1.13.3)\n",
            "Requirement already satisfied: networkx in /usr/local/lib/python3.12/dist-packages (from torch>2.0.0->do_mpc) (3.5)\n",
            "Requirement already satisfied: jinja2 in /usr/local/lib/python3.12/dist-packages (from torch>2.0.0->do_mpc) (3.1.6)\n",
            "Requirement already satisfied: fsspec in /usr/local/lib/python3.12/dist-packages (from torch>2.0.0->do_mpc) (2025.3.0)\n",
            "Requirement already satisfied: nvidia-cuda-nvrtc-cu12==12.6.77 in /usr/local/lib/python3.12/dist-packages (from torch>2.0.0->do_mpc) (12.6.77)\n",
            "Requirement already satisfied: nvidia-cuda-runtime-cu12==12.6.77 in /usr/local/lib/python3.12/dist-packages (from torch>2.0.0->do_mpc) (12.6.77)\n",
            "Requirement already satisfied: nvidia-cuda-cupti-cu12==12.6.80 in /usr/local/lib/python3.12/dist-packages (from torch>2.0.0->do_mpc) (12.6.80)\n",
            "Requirement already satisfied: nvidia-cudnn-cu12==9.10.2.21 in /usr/local/lib/python3.12/dist-packages (from torch>2.0.0->do_mpc) (9.10.2.21)\n",
            "Requirement already satisfied: nvidia-cublas-cu12==12.6.4.1 in /usr/local/lib/python3.12/dist-packages (from torch>2.0.0->do_mpc) (12.6.4.1)\n",
            "Requirement already satisfied: nvidia-cufft-cu12==11.3.0.4 in /usr/local/lib/python3.12/dist-packages (from torch>2.0.0->do_mpc) (11.3.0.4)\n",
            "Requirement already satisfied: nvidia-curand-cu12==10.3.7.77 in /usr/local/lib/python3.12/dist-packages (from torch>2.0.0->do_mpc) (10.3.7.77)\n",
            "Requirement already satisfied: nvidia-cusolver-cu12==11.7.1.2 in /usr/local/lib/python3.12/dist-packages (from torch>2.0.0->do_mpc) (11.7.1.2)\n",
            "Requirement already satisfied: nvidia-cusparse-cu12==12.5.4.2 in /usr/local/lib/python3.12/dist-packages (from torch>2.0.0->do_mpc) (12.5.4.2)\n",
            "Requirement already satisfied: nvidia-cusparselt-cu12==0.7.1 in /usr/local/lib/python3.12/dist-packages (from torch>2.0.0->do_mpc) (0.7.1)\n",
            "Requirement already satisfied: nvidia-nccl-cu12==2.27.3 in /usr/local/lib/python3.12/dist-packages (from torch>2.0.0->do_mpc) (2.27.3)\n",
            "Requirement already satisfied: nvidia-nvtx-cu12==12.6.77 in /usr/local/lib/python3.12/dist-packages (from torch>2.0.0->do_mpc) (12.6.77)\n",
            "Requirement already satisfied: nvidia-nvjitlink-cu12==12.6.85 in /usr/local/lib/python3.12/dist-packages (from torch>2.0.0->do_mpc) (12.6.85)\n",
            "Requirement already satisfied: nvidia-cufile-cu12==1.11.1.6 in /usr/local/lib/python3.12/dist-packages (from torch>2.0.0->do_mpc) (1.11.1.6)\n",
            "Requirement already satisfied: triton==3.4.0 in /usr/local/lib/python3.12/dist-packages (from torch>2.0.0->do_mpc) (3.4.0)\n",
            "Requirement already satisfied: contourpy>=1.0.1 in /usr/local/lib/python3.12/dist-packages (from matplotlib->do_mpc) (1.3.3)\n",
            "Requirement already satisfied: cycler>=0.10 in /usr/local/lib/python3.12/dist-packages (from matplotlib->do_mpc) (0.12.1)\n",
            "Requirement already satisfied: fonttools>=4.22.0 in /usr/local/lib/python3.12/dist-packages (from matplotlib->do_mpc) (4.60.1)\n",
            "Requirement already satisfied: kiwisolver>=1.3.1 in /usr/local/lib/python3.12/dist-packages (from matplotlib->do_mpc) (1.4.9)\n",
            "Requirement already satisfied: packaging>=20.0 in /usr/local/lib/python3.12/dist-packages (from matplotlib->do_mpc) (25.0)\n",
            "Requirement already satisfied: pillow>=8 in /usr/local/lib/python3.12/dist-packages (from matplotlib->do_mpc) (11.3.0)\n",
            "Requirement already satisfied: pyparsing>=2.3.1 in /usr/local/lib/python3.12/dist-packages (from matplotlib->do_mpc) (3.2.5)\n",
            "Requirement already satisfied: python-dateutil>=2.7 in /usr/local/lib/python3.12/dist-packages (from matplotlib->do_mpc) (2.9.0.post0)\n",
            "Requirement already satisfied: pytz>=2020.1 in /usr/local/lib/python3.12/dist-packages (from pandas->do_mpc) (2025.2)\n",
            "Requirement already satisfied: tzdata>=2022.7 in /usr/local/lib/python3.12/dist-packages (from pandas->do_mpc) (2025.2)\n",
            "Requirement already satisfied: six>=1.5 in /usr/local/lib/python3.12/dist-packages (from python-dateutil>=2.7->matplotlib->do_mpc) (1.17.0)\n",
            "Requirement already satisfied: mpmath<1.4,>=1.1.0 in /usr/local/lib/python3.12/dist-packages (from sympy>=1.13.3->torch>2.0.0->do_mpc) (1.3.0)\n",
            "Requirement already satisfied: MarkupSafe>=2.0 in /usr/local/lib/python3.12/dist-packages (from jinja2->torch>2.0.0->do_mpc) (3.0.3)\n",
            "Downloading do_mpc-5.0.1-py3-none-any.whl (162 kB)\n",
            "\u001b[2K   \u001b[90m━━━━━━━━━━━━━━━━━━━━━━━━━━━━━━━━━━━━━━━━\u001b[0m \u001b[32m162.9/162.9 kB\u001b[0m \u001b[31m5.1 MB/s\u001b[0m eta \u001b[36m0:00:00\u001b[0m\n",
            "\u001b[?25hInstalling collected packages: do_mpc\n",
            "Successfully installed do_mpc-5.0.1\n"
          ]
        },
        {
          "output_type": "stream",
          "name": "stderr",
          "text": [
            "/usr/local/lib/python3.12/dist-packages/do_mpc/sysid/__init__.py:15: UserWarning: The ONNX feature is not available. Please install the full version of do-mpc to access this feature.\n",
            "  warnings.warn('The ONNX feature is not available. Please install the full version of do-mpc to access this feature.')\n",
            "/usr/local/lib/python3.12/dist-packages/do_mpc/opcua/__init__.py:14: UserWarning: The opcua feature is not available. Please install the full version of do-mpc to access this feature.\n",
            "  warnings.warn('The opcua feature is not available. Please install the full version of do-mpc to access this feature.')\n"
          ]
        },
        {
          "output_type": "stream",
          "name": "stdout",
          "text": [
            "Collecting git+https://github.com/vanbreugel-lab/pybounds\n",
            "  Cloning https://github.com/vanbreugel-lab/pybounds to /tmp/pip-req-build-2vakcsk9\n",
            "  Running command git clone --filter=blob:none --quiet https://github.com/vanbreugel-lab/pybounds /tmp/pip-req-build-2vakcsk9\n",
            "  Resolved https://github.com/vanbreugel-lab/pybounds to commit 96f12039ac9e1e3ef4381cd09a026f6bbf70ad5c\n",
            "  Preparing metadata (setup.py) ... \u001b[?25l\u001b[?25hdone\n",
            "Building wheels for collected packages: pybounds\n",
            "  Building wheel for pybounds (setup.py) ... \u001b[?25l\u001b[?25hdone\n",
            "  Created wheel for pybounds: filename=pybounds-0.0.13-py3-none-any.whl size=19546 sha256=037b70dd637b08c9787d8df71b07145b0929602cc6cc0ca851353281c9a80e96\n",
            "  Stored in directory: /tmp/pip-ephem-wheel-cache-3n2yma6l/wheels/cb/f8/fb/ff1887f9a2f35c3edad7b1acb7da69437c1fd8d885a800578d\n",
            "Successfully built pybounds\n",
            "Installing collected packages: pybounds\n",
            "Successfully installed pybounds-0.0.13\n"
          ]
        }
      ],
      "source": [
        "try:\n",
        "    import casadi\n",
        "except:\n",
        "    !pip install casadi\n",
        "    import casadi\n",
        "\n",
        "try:\n",
        "    import do_mpc\n",
        "except:\n",
        "    !pip install do_mpc\n",
        "    import do_mpc\n",
        "\n",
        "try:\n",
        "    import pybounds\n",
        "except:\n",
        "    #!pip install pybounds\n",
        "    !pip install git+https://github.com/vanbreugel-lab/pybounds\n",
        "    import pybounds"
      ]
    },
    {
      "cell_type": "code",
      "execution_count": 3,
      "id": "2468518b-2a3b-4de3-8436-8c8bc717d521",
      "metadata": {
        "id": "2468518b-2a3b-4de3-8436-8c8bc717d521"
      },
      "outputs": [],
      "source": [
        "import tensorflow as tf\n",
        "from tensorflow.python.client import device_lib\n",
        "import keras\n",
        "from keras.models import Sequential\n",
        "from keras.layers import Dense\n",
        "from IPython.display import display, Image"
      ]
    },
    {
      "cell_type": "code",
      "execution_count": 4,
      "id": "204d02fb-4bcc-48a4-a05e-1b0065c3524d",
      "metadata": {
        "id": "204d02fb-4bcc-48a4-a05e-1b0065c3524d",
        "outputId": "d0b27181-4515-4c24-a050-b5974a1c70e0",
        "colab": {
          "base_uri": "https://localhost:8080/"
        }
      },
      "outputs": [
        {
          "output_type": "stream",
          "name": "stdout",
          "text": [
            "Fetching from: \n",
            "<Response [200]>\n",
            "Fetching from: \n",
            "<Response [200]>\n",
            "Fetching from: \n",
            "<Response [200]>\n",
            "Fetching from: \n",
            "<Response [200]>\n"
          ]
        }
      ],
      "source": [
        "import sys\n",
        "import requests\n",
        "import importlib\n",
        "\n",
        "def import_local_or_github(package_name, function_name=None, directory=None, giturl=None):\n",
        "    # Import functions directly from github\n",
        "    # Important: note that we use raw.githubusercontent.com, not github.com\n",
        "\n",
        "    try: # to find the file locally\n",
        "        if directory is not None:\n",
        "            if directory not in sys.path:\n",
        "                sys.path.append(directory)\n",
        "\n",
        "        package = importlib.import_module(package_name)\n",
        "        if function_name is not None:\n",
        "            function = getattr(package, function_name)\n",
        "            return function\n",
        "        else:\n",
        "            return package\n",
        "\n",
        "    except: # get the file from github\n",
        "        if giturl is None:\n",
        "            giturl = 'https://raw.githubusercontent.com/florisvb/Nonlinear_and_Data_Driven_Estimation/main/Utility/' + str(package_name) + '.py'\n",
        "\n",
        "        r = requests.get(giturl)\n",
        "        print('Fetching from: ')\n",
        "        print(r)\n",
        "\n",
        "        # Store the file to the colab working directory\n",
        "        with open(package_name+'.py', 'w') as f:\n",
        "            f.write(r.text)\n",
        "        f.close()\n",
        "\n",
        "        # import the function we want from that file\n",
        "        package = importlib.import_module(package_name)\n",
        "        if function_name is not None:\n",
        "            function = getattr(package , function_name)\n",
        "            return function\n",
        "        else:\n",
        "            return package\n",
        "\n",
        "planar_drone = import_local_or_github('planar_drone', directory='../Utility')\n",
        "plot_tme = import_local_or_github('plot_utility', 'plot_tme', directory='../Utility')\n",
        "generate_training_data_utility = import_local_or_github('generate_training_data_utility', directory='../Utility')\n",
        "keras_ann_utility = import_local_or_github('keras_ann_utility', directory='../Utility')"
      ]
    },
    {
      "cell_type": "markdown",
      "id": "7f5196a3-f736-42c8-8ad7-f27ae8e53fcb",
      "metadata": {
        "id": "7f5196a3-f736-42c8-8ad7-f27ae8e53fcb"
      },
      "source": [
        "# Simulate a new trajectory"
      ]
    },
    {
      "cell_type": "code",
      "execution_count": 5,
      "id": "792e21ac-d4d0-4f27-9490-81118b2fdc19",
      "metadata": {
        "id": "792e21ac-d4d0-4f27-9490-81118b2fdc19"
      },
      "outputs": [],
      "source": [
        "f = planar_drone.F(k=1).f\n",
        "h = planar_drone.H('h_camera_imu',k=1).h"
      ]
    },
    {
      "cell_type": "code",
      "execution_count": 11,
      "id": "fafec170-2d05-4f27-aed6-00d31ff35298",
      "metadata": {
        "id": "fafec170-2d05-4f27-aed6-00d31ff35298"
      },
      "outputs": [],
      "source": [
        "t_sim, x_sim, u_sim, y_sim, simulator = planar_drone.simulate_drone(f, h, dt=0.1, tsim_length=20, trajectory_shape='alternating')"
      ]
    },
    {
      "cell_type": "code",
      "execution_count": 12,
      "id": "5ac0dfe6-cf8e-41d7-a4cd-6fa87403e219",
      "metadata": {
        "id": "5ac0dfe6-cf8e-41d7-a4cd-6fa87403e219"
      },
      "outputs": [],
      "source": [
        "measurement_noise_stds = {'optic_flow': 0.2,\n",
        "                          'theta': 0.1,\n",
        "                          'theta_dot': 0.1,\n",
        "                          'accel_x': 0.2,\n",
        "                          'accel_z': 0.2,\n",
        "                          #'k': 0.1,\n",
        "                         }"
      ]
    },
    {
      "cell_type": "code",
      "execution_count": 13,
      "id": "4b23b36c-dd67-4bf4-9cfd-93f233856422",
      "metadata": {
        "id": "4b23b36c-dd67-4bf4-9cfd-93f233856422"
      },
      "outputs": [],
      "source": [
        "y_noisy = {key: y_sim[key] + np.random.normal(0, measurement_noise_stds[key], len(y_sim[key])) for key in y_sim.keys()}"
      ]
    },
    {
      "cell_type": "code",
      "execution_count": 14,
      "id": "f7a76a20-feda-4787-a142-12cc0a577297",
      "metadata": {
        "id": "f7a76a20-feda-4787-a142-12cc0a577297"
      },
      "outputs": [],
      "source": [
        "y_noisy_df = pd.DataFrame(y_noisy)\n",
        "u_sim_df = pd.DataFrame(u_sim)\n",
        "x_sim_df = pd.DataFrame(x_sim)"
      ]
    },
    {
      "cell_type": "markdown",
      "id": "26bab0ce-7c3f-4d16-a298-570927b4b61f",
      "metadata": {
        "id": "26bab0ce-7c3f-4d16-a298-570927b4b61f"
      },
      "source": [
        "# Load the trained model"
      ]
    },
    {
      "cell_type": "code",
      "execution_count": 45,
      "id": "7d043056-5720-430f-92d6-890d232fb290",
      "metadata": {
        "id": "7d043056-5720-430f-92d6-890d232fb290",
        "outputId": "7e5fabed-a1dc-419c-f31b-53c0d96392e5",
        "colab": {
          "base_uri": "https://localhost:8080/"
        }
      },
      "outputs": [
        {
          "output_type": "stream",
          "name": "stdout",
          "text": [
            "Fetching from: https://raw.githubusercontent.com/florisvb/Nonlinear_and_Data_Driven_Estimation/main/Trained_Models/altitude_estimator_ann_trained_weights.h5\n",
            "Successfully downloaded altitude_estimator_ann_trained_weights.h5 (39616 bytes)\n",
            "Fetching from: https://raw.githubusercontent.com/florisvb/Nonlinear_and_Data_Driven_Estimation/main/Trained_Models/altitude_estimator_ann_trained_config.json\n",
            "Successfully downloaded altitude_estimator_ann_trained_config.json (338 bytes)\n"
          ]
        }
      ],
      "source": [
        "model_weights = 'altitude_estimator_ann_trained_weights.h5'\n",
        "model_config = 'altitude_estimator_ann_trained_config.json'\n",
        "\n",
        "# If the model isn't here, download the pretrained model\n",
        "for path in [model_weights, model_config]:\n",
        "    if not os.path.exists(path):\n",
        "        giturl = 'https://raw.githubusercontent.com/florisvb/Nonlinear_and_Data_Driven_Estimation/main/Trained_Models/'\n",
        "        generate_training_data_utility.download_data(path, giturl=giturl, unzip=False)"
      ]
    },
    {
      "cell_type": "code",
      "source": [
        "model, config = keras_ann_utility.load_model_complete('altitude_estimator_ann_trained')"
      ],
      "metadata": {
        "id": "byuUIf_hAKLg",
        "outputId": "03fa8b74-b1f9-4886-b561-a2117393cdeb",
        "colab": {
          "base_uri": "https://localhost:8080/"
        }
      },
      "id": "byuUIf_hAKLg",
      "execution_count": 46,
      "outputs": [
        {
          "output_type": "stream",
          "name": "stdout",
          "text": [
            "✓ Loaded configuration from: altitude_estimator_ann_trained_config.json\n",
            "✓ Loaded weights from: altitude_estimator_ann_trained_weights.h5\n",
            "\n",
            "Model loaded successfully!\n"
          ]
        },
        {
          "output_type": "stream",
          "name": "stderr",
          "text": [
            "/usr/local/lib/python3.12/dist-packages/keras/src/layers/core/dense.py:93: UserWarning: Do not pass an `input_shape`/`input_dim` argument to a layer. When using Sequential models, prefer using an `Input(shape)` object as the first layer in the model instead.\n",
            "  super().__init__(activity_regularizer=activity_regularizer, **kwargs)\n"
          ]
        }
      ]
    },
    {
      "cell_type": "markdown",
      "source": [
        "# Create a fast inference model"
      ],
      "metadata": {
        "id": "OhUWqhw8gVvh"
      },
      "id": "OhUWqhw8gVvh"
    },
    {
      "cell_type": "code",
      "execution_count": 47,
      "id": "29a78c0a-b864-492b-88b3-517b922afc90",
      "metadata": {
        "id": "29a78c0a-b864-492b-88b3-517b922afc90"
      },
      "outputs": [],
      "source": [
        "# almost direct from Claude\n",
        "def create_fast_inference_model(trained_model):\n",
        "    \"\"\"\n",
        "    Create an optimized version of the model for fast inference using XLA compilation.\n",
        "    Removes training-specific components (dropout, regularization).\n",
        "\n",
        "    Note: The first prediction will be slower as it includes compilation time.\n",
        "    Subsequent predictions will be fast.\n",
        "\n",
        "    Parameters:\n",
        "    -----------\n",
        "    trained_model : keras model\n",
        "        The trained model\n",
        "\n",
        "    Returns:\n",
        "    --------\n",
        "    inference_func : tf.function\n",
        "        Optimized inference function for predictions\n",
        "\n",
        "    Example:\n",
        "    --------\n",
        "    >>> fast_predict = create_fast_inference_model(model)\n",
        "    >>> # First call is slow (compilation)\n",
        "    >>> predictions = fast_predict(X_core_batch, X_aux_batch) # X_aux_batch is optional, depending on model\n",
        "    >>> # Subsequent calls are fast\n",
        "    >>> predictions = fast_predict(X_core_batch2, X_aux_batch2) # X_aux_batch is optional, depending on model\n",
        "    \"\"\"\n",
        "    # Get the base functional model (without custom training logic)\n",
        "    inputs = trained_model.inputs\n",
        "    outputs = trained_model.outputs\n",
        "\n",
        "    # Create inference-only model\n",
        "    inference_model = keras.Model(inputs=inputs, outputs=outputs)\n",
        "\n",
        "    # Get only trainable weights (excludes metric trackers)\n",
        "    trainable_weights = trained_model.trainable_weights\n",
        "    inference_trainable_weights = inference_model.trainable_weights\n",
        "\n",
        "    # Copy weights\n",
        "    for target_weight, source_weight in zip(inference_trainable_weights, trainable_weights):\n",
        "        target_weight.assign(source_weight)\n",
        "\n",
        "    # Create optimized prediction function\n",
        "    @tf.function(jit_compile=True)  # XLA compilation for speed\n",
        "    def fast_predict(x_core, x_aux=None):\n",
        "        if x_aux is None:\n",
        "            return inference_model([x_core], training=False)\n",
        "        else:\n",
        "            return inference_model([x_core, x_aux], training=False)\n",
        "\n",
        "    print(\"✓ Fast inference model created with XLA compilation\")\n",
        "    print(\"  First prediction will be slow (includes compilation)\")\n",
        "    print(\"  Subsequent predictions will be fast\")\n",
        "    print(\"  Use: predictions = fast_predict(X_core_tensor)\")\n",
        "    print(\"  --- OR ---\")\n",
        "    print(\"  Use: predictions = fast_predict(X_core_tensor, X_aux_tensor)\")\n",
        "    print(\"  Note: Inputs must be TensorFlow tensors (use tf.constant())\")\n",
        "\n",
        "    return fast_predict"
      ]
    },
    {
      "cell_type": "code",
      "execution_count": 48,
      "id": "79534a74-f1d8-43bd-8f59-4ce2bfa09858",
      "metadata": {
        "id": "79534a74-f1d8-43bd-8f59-4ce2bfa09858",
        "outputId": "28f6bba0-410c-4e3c-af7f-e98ae256a3e3",
        "colab": {
          "base_uri": "https://localhost:8080/"
        }
      },
      "outputs": [
        {
          "output_type": "stream",
          "name": "stdout",
          "text": [
            "✓ Fast inference model created with XLA compilation\n",
            "  First prediction will be slow (includes compilation)\n",
            "  Subsequent predictions will be fast\n",
            "  Use: predictions = fast_predict(X_core_tensor)\n",
            "  --- OR ---\n",
            "  Use: predictions = fast_predict(X_core_tensor, X_aux_tensor)\n",
            "  Note: Inputs must be TensorFlow tensors (use tf.constant())\n"
          ]
        }
      ],
      "source": [
        "fast_predict = create_fast_inference_model(model)"
      ]
    },
    {
      "cell_type": "markdown",
      "id": "12973408-cfbf-4847-a6cc-63be25c66f14",
      "metadata": {
        "id": "12973408-cfbf-4847-a6cc-63be25c66f14"
      },
      "source": [
        "# Augment the new trajectory as with the training data"
      ]
    },
    {
      "cell_type": "code",
      "execution_count": 49,
      "id": "ebb08d5c-0a39-410e-9b0d-f0e3ffd9d3d3",
      "metadata": {
        "id": "ebb08d5c-0a39-410e-9b0d-f0e3ffd9d3d3"
      },
      "outputs": [],
      "source": [
        "time_window = 10\n",
        "input_names = ['optic_flow', 'accel_x', 'accel_z']\n",
        "input_offsets = np.arange(time_window)*-1\n",
        "y_noisy_df_aug = keras_ann_utility.collect_offset_rows(y_noisy_df,\n",
        "                                       states=input_names,\n",
        "                                       controls=None,\n",
        "                                       outputs=None,\n",
        "                                       state_offsets=input_offsets,\n",
        "                                       control_offsets=None,\n",
        "                                       output_offsets=None)"
      ]
    },
    {
      "cell_type": "markdown",
      "id": "60bd8fb1-6872-4ba3-96c3-5053ec8aec2c",
      "metadata": {
        "id": "60bd8fb1-6872-4ba3-96c3-5053ec8aec2c"
      },
      "source": [
        "# Run the ANN on the measurements from the new trajectory"
      ]
    },
    {
      "cell_type": "code",
      "execution_count": 50,
      "id": "5f569507-3e76-4760-b5ab-b940bdc8e311",
      "metadata": {
        "id": "5f569507-3e76-4760-b5ab-b940bdc8e311"
      },
      "outputs": [],
      "source": [
        "z_pred = []\n",
        "for i in range(len(y_noisy_df_aug)):\n",
        "    y = y_noisy_df_aug.values[i,:]\n",
        "    y_tf = tf.constant(np.atleast_2d(y))\n",
        "    z_pred.append( fast_predict(y_tf) )"
      ]
    },
    {
      "cell_type": "code",
      "execution_count": 51,
      "id": "b86daace-b3d6-451a-b65a-61e612dc64cc",
      "metadata": {
        "id": "b86daace-b3d6-451a-b65a-61e612dc64cc"
      },
      "outputs": [],
      "source": [
        "z_pred = np.ravel(tf.stack(z_pred).numpy())"
      ]
    },
    {
      "cell_type": "markdown",
      "id": "7b5c4573-f5ff-4025-a8bd-1f6fad384ad9",
      "metadata": {
        "id": "7b5c4573-f5ff-4025-a8bd-1f6fad384ad9"
      },
      "source": [
        "# Visualize the results"
      ]
    },
    {
      "cell_type": "code",
      "execution_count": 52,
      "id": "ead0042d-1b62-4f5f-8ab2-cad6457c3afe",
      "metadata": {
        "id": "ead0042d-1b62-4f5f-8ab2-cad6457c3afe",
        "outputId": "665fbb33-6b05-4bde-d564-97677bce2980",
        "colab": {
          "base_uri": "https://localhost:8080/",
          "height": 408
        }
      },
      "outputs": [
        {
          "output_type": "display_data",
          "data": {
            "text/plain": [
              "<Figure size 600x400 with 1 Axes>"
            ],
            "image/png": "[encoded data removed]"
          },
          "metadata": {}
        }
      ],
      "source": [
        "ax = plot_tme(t_sim[time_window-1:], x_sim_df.z.values[time_window-1:], None, z_pred, label_var='z')"
      ]
    },
    {
      "cell_type": "markdown",
      "id": "aa360295-af25-4af2-99cd-261fcc252032",
      "metadata": {
        "id": "aa360295-af25-4af2-99cd-261fcc252032"
      },
      "source": [
        "### Add shading for the high acceleration regions"
      ]
    },
    {
      "cell_type": "code",
      "execution_count": 53,
      "id": "56ef4cdf-1cc8-439e-a52a-f32f65b99e05",
      "metadata": {
        "id": "56ef4cdf-1cc8-439e-a52a-f32f65b99e05"
      },
      "outputs": [],
      "source": [
        "# From claude\n",
        "def find_contiguous_chunks(lst):\n",
        "    \"\"\"\n",
        "    Find contiguous chunks in a list of integers.\n",
        "\n",
        "    Parameters:\n",
        "    -----------\n",
        "    lst : list of int\n",
        "        List of integers\n",
        "\n",
        "    Returns:\n",
        "    --------\n",
        "    list of lists : Each sublist contains a contiguous sequence\n",
        "    \"\"\"\n",
        "    if not lst:\n",
        "        return []\n",
        "\n",
        "    lst = sorted(lst)\n",
        "    chunks = []\n",
        "    current_chunk = [lst[0]]\n",
        "\n",
        "    for i in range(1, len(lst)):\n",
        "        if lst[i] == lst[i-1] + 1:\n",
        "            current_chunk.append(lst[i])\n",
        "        else:\n",
        "            chunks.append(current_chunk)\n",
        "            current_chunk = [lst[i]]\n",
        "\n",
        "    chunks.append(current_chunk)\n",
        "    return chunks"
      ]
    },
    {
      "cell_type": "code",
      "execution_count": 54,
      "id": "3de85ef5-dc6b-4f20-927d-8316ded3ced7",
      "metadata": {
        "id": "3de85ef5-dc6b-4f20-927d-8316ded3ced7"
      },
      "outputs": [],
      "source": [
        "accel_threshold = 2\n",
        "ix_high_accel = np.where( np.abs(y_noisy_df[time_window-1:].accel_x.values) > 1)[0].tolist()\n",
        "high_accel_chunks = find_contiguous_chunks(ix_high_accel)"
      ]
    },
    {
      "cell_type": "code",
      "execution_count": 55,
      "id": "2389fe7b-b83d-4fdd-a534-8215b15a61cc",
      "metadata": {
        "id": "2389fe7b-b83d-4fdd-a534-8215b15a61cc",
        "outputId": "fb5fef7d-132d-4992-d2f1-90f0e1dbd38b",
        "colab": {
          "base_uri": "https://localhost:8080/",
          "height": 408
        }
      },
      "outputs": [
        {
          "output_type": "display_data",
          "data": {
            "text/plain": [
              "<Figure size 600x400 with 1 Axes>"
            ],
            "image/png": "[encoded data removed]"
          },
          "metadata": {}
        }
      ],
      "source": [
        "ax = plot_tme(t_sim[time_window-1:], x_sim_df.z.values[time_window-1:], None, z_pred, label_var='z')\n",
        "for chunk in high_accel_chunks:\n",
        "    ax.fill_betweenx([-5, 10],\n",
        "                     t_sim[time_window-1:][chunk[0]],\n",
        "                     t_sim[time_window-1:][chunk[-1]],\n",
        "                     edgecolor='none', facecolor='orange', alpha=0.3)"
      ]
    },
    {
      "cell_type": "code",
      "source": [],
      "metadata": {
        "id": "m-k9QJLugyiz"
      },
      "id": "m-k9QJLugyiz",
      "execution_count": 55,
      "outputs": []
    }
  ],
  "metadata": {
    "kernelspec": {
      "display_name": "PY38",
      "language": "python",
      "name": "py38"
    },
    "language_info": {
      "codemirror_mode": {
        "name": "ipython",
        "version": 3
      },
      "file_extension": ".py",
      "mimetype": "text/x-python",
      "name": "python",
      "nbconvert_exporter": "python",
      "pygments_lexer": "ipython3",
      "version": "3.8.6"
    },
    "colab": {
      "provenance": []
    }
  },
  "nbformat": 4,
  "nbformat_minor": 5
}