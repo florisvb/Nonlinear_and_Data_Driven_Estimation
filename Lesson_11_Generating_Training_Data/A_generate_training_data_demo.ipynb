{
 "cells": [
  {
   "cell_type": "code",
   "execution_count": 11,
   "id": "3112e15d-8b72-4781-b22f-5fb64737853c",
   "metadata": {},
   "outputs": [],
   "source": [
    "import numpy as np\n",
    "import matplotlib.pyplot as plt\n",
    "import matplotlib as mpl\n",
    "\n",
    "from scipy.integrate import odeint\n",
    "import scipy.optimize\n",
    "\n",
    "import sympy as sp\n",
    "\n",
    "import pandas as pd\n",
    "import pandas\n",
    "\n",
    "import copy\n",
    "import os"
   ]
  },
  {
   "cell_type": "code",
   "execution_count": 2,
   "id": "263e05e3-a3f1-49af-a0e6-5eb8b5f44db6",
   "metadata": {},
   "outputs": [
    {
     "name": "stderr",
     "output_type": "stream",
     "text": [
      "/home/caveman/PY38/lib/python3.8/site-packages/do_mpc/sysid/__init__.py:15: UserWarning: The ONNX feature is not available. Please install the full version of do-mpc to access this feature.\n",
      "  warnings.warn('The ONNX feature is not available. Please install the full version of do-mpc to access this feature.')\n",
      "/home/caveman/PY38/lib/python3.8/site-packages/do_mpc/opcua/__init__.py:14: UserWarning: The opcua feature is not available. Please install the full version of do-mpc to access this feature.\n",
      "  warnings.warn('The opcua feature is not available. Please install the full version of do-mpc to access this feature.')\n"
     ]
    }
   ],
   "source": [
    "try:\n",
    "    import casadi\n",
    "except:\n",
    "    !pip install casadi\n",
    "    import casadi\n",
    "\n",
    "try:\n",
    "    import do_mpc\n",
    "except:\n",
    "    !pip install do_mpc\n",
    "    import do_mpc\n",
    "\n",
    "try:\n",
    "    import pybounds\n",
    "except:\n",
    "    #!pip install pybounds\n",
    "    !pip install git+https://github.com/vanbreugel-lab/pybounds\n",
    "    import pybounds"
   ]
  },
  {
   "cell_type": "markdown",
   "id": "293ec41a-ff05-4746-ad02-50e634b5a96e",
   "metadata": {},
   "source": [
    "### Import plotting utilities and planar drone locally or from github"
   ]
  },
  {
   "cell_type": "code",
   "execution_count": 5,
   "id": "2ccd41a1-fcf2-4b4c-ba7b-4cdd72d2fe26",
   "metadata": {},
   "outputs": [],
   "source": [
    "import sys\n",
    "import requests\n",
    "import importlib\n",
    "\n",
    "def import_local_or_github(package_name, function_name=None, directory=None, giturl=None):\n",
    "    # Import functions directly from github\n",
    "    # Important: note that we use raw.githubusercontent.com, not github.com\n",
    "\n",
    "    try: # to find the file locally\n",
    "        if directory is not None:\n",
    "            if directory not in sys.path:\n",
    "                sys.path.append(directory)\n",
    "\n",
    "        package = importlib.import_module(package_name)\n",
    "        if function_name is not None:\n",
    "            function = getattr(package, function_name)\n",
    "            return function\n",
    "        else:\n",
    "            return package\n",
    "\n",
    "    except: # get the file from github\n",
    "        if giturl is None:\n",
    "            giturl = 'https://raw.githubusercontent.com/florisvb/Nonlinear_and_Data_Driven_Estimation/main/Utility/' + str(package_name) + '.py'\n",
    "\n",
    "        r = requests.get(giturl)\n",
    "        print('Fetching from: ')\n",
    "        print(r)\n",
    "\n",
    "        # Store the file to the colab working directory\n",
    "        with open(package_name+'.py', 'w') as f:\n",
    "            f.write(r.text)\n",
    "        f.close()\n",
    "\n",
    "        # import the function we want from that file\n",
    "        package = importlib.import_module(package_name)\n",
    "        if function_name is not None:\n",
    "            function = getattr(package , function_name)\n",
    "            return function\n",
    "        else:\n",
    "            return package\n",
    "\n",
    "planar_drone = import_local_or_github('planar_drone', directory='../Utility')\n",
    "plot_tme = import_local_or_github('plot_utility', 'plot_tme', directory='../Utility')"
   ]
  },
  {
   "cell_type": "markdown",
   "id": "65a23385-e39a-4297-bd69-34a1355f2152",
   "metadata": {},
   "source": [
    "### Helper function to simulate a trajectory snippet with random properties"
   ]
  },
  {
   "cell_type": "code",
   "execution_count": 16,
   "id": "7b7677a6-9476-4ede-8f85-fc5caa06b513",
   "metadata": {},
   "outputs": [],
   "source": [
    "def simulate_snippet(dt, tsim_length, trim_indices, \n",
    "                     smoothness_x=0.15, smoothness_z=0.15, smoothness_theta=0.15,\n",
    "                     amplitude_x=3., amplitude_z=3., amplitude_theta=3.,\n",
    "                     nominal_z=5,\n",
    "                     seed_x=42, seed_z=24, seed_theta=24,\n",
    "                     trajectory_shape_x='spline', trajectory_shape_z='spline', trajectory_shape_theta='spline',\n",
    "                     rterm=1e-1,\n",
    "                     directory='.',\n",
    "                     number=1):\n",
    "\n",
    "    # establish the dynamics and measurement functions\n",
    "    f = planar_drone.F(k=1).f\n",
    "    h = planar_drone.H('h_camera_imu', k=1).h\n",
    "\n",
    "    # set the sim time\n",
    "    tsim = np.arange(0, tsim_length, step=dt)\n",
    "\n",
    "    # generate smooth random setpoint trajectories for the three base states\n",
    "    theta_curve = planar_drone.generate_smooth_curve(tsim, method=trajectory_shape_theta, \n",
    "                                                 smoothness=smoothness_theta, amplitude=amplitude_theta, seed=seed_theta)\n",
    "    x_curve = planar_drone.generate_smooth_curve(tsim, method=trajectory_shape_x, \n",
    "                                                 smoothness=smoothness_x, amplitude=amplitude_x, seed=seed_x)\n",
    "    z_curve = planar_drone.generate_smooth_curve(tsim, method=trajectory_shape_z, \n",
    "                                                 smoothness=smoothness_z, amplitude=amplitude_z, seed=seed_z)\n",
    "    z_curve += nominal_z\n",
    "\n",
    "    # make sure altitude does not get to zero (i.e. a crash)\n",
    "    if np.min(z_curve) <= 0.01:\n",
    "        z_curve += -1*np.min(z_curve) + 0.01\n",
    "\n",
    "    # save the setpoints as a dict\n",
    "    NA = np.zeros_like(tsim)\n",
    "    setpoint = {'theta': theta_curve,\n",
    "                'theta_dot': NA,\n",
    "                'x': x_curve,  \n",
    "                'x_dot': NA,\n",
    "                'z': z_curve, \n",
    "                'z_dot': NA,\n",
    "                'k': NA,\n",
    "               }\n",
    "\n",
    "    # run the MPC simulation\n",
    "    t_sim, x_sim, u_sim, y_sim, simulator = planar_drone.simulate_drone(f, h=h, dt=dt, tsim_length=tsim_length,\n",
    "                                                                        setpoint=setpoint,\n",
    "                                                                        rterm=rterm) \n",
    "\n",
    "    # save the data as dataframes\n",
    "    t_sim_df = pandas.DataFrame({'time': t_sim})\n",
    "    x_sim_df = pandas.DataFrame(x_sim)\n",
    "    u_sim_df = pandas.DataFrame(u_sim)\n",
    "    y_sim_df = pandas.DataFrame(y_sim)\n",
    "\n",
    "    # merge all the data into a single data frame that doesn't mix up column names\n",
    "    new_names = {key: 'sensor_' + key for key in y_sim_df}\n",
    "    y_sim_df = y_sim_df.rename(columns=new_names)\n",
    "    objid = pd.DataFrame({'objid': (number*np.ones_like(tsim)).astype(int)})\n",
    "    df = pandas.concat([t_sim_df, objid, x_sim_df, u_sim_df, y_sim_df], axis=1)\n",
    "\n",
    "    # cut out the first and last chunks (where MPC is warming up)\n",
    "    df_trimmed = df.iloc[trim_indices:-trim_indices]\n",
    "\n",
    "    # make sure directory exists\n",
    "    if os.path.exists('planar_drone_trajectories') is False:\n",
    "        os.mkdir('planar_drone_trajectories')\n",
    "    \n",
    "    # save the data\n",
    "    fname = 'trajectory_' + str(number).zfill(5) + '.hdf'\n",
    "    fname = os.path.join(directory, fname)\n",
    "    df_trimmed.to_hdf(fname, 'trajec')"
   ]
  },
  {
   "cell_type": "markdown",
   "id": "c10d8217-4898-4bde-8636-7929e0fd2e80",
   "metadata": {},
   "source": [
    "### Set some parameters"
   ]
  },
  {
   "cell_type": "code",
   "execution_count": 17,
   "id": "31c106b3-0911-412a-aac7-c5fe07b091fc",
   "metadata": {},
   "outputs": [],
   "source": [
    "trajectory_shape_options = ['spline', 'noise_filter']\n",
    "dt = 0.1\n",
    "tsim_length = 10 # how many seconds long is each trajectory\n",
    "trim_indices = 5 # how many indices to drop from the beginning and end to remove initialization issues with MPC\n",
    "\n",
    "directory = 'planar_drone_trajectories'\n",
    "\n",
    "N_random_trajecs = 3   "
   ]
  },
  {
   "cell_type": "markdown",
   "id": "c0ec0c70-be1e-4163-b3b1-8ce47278d97c",
   "metadata": {},
   "source": [
    "### Demonstrate simulating some random trajectories"
   ]
  },
  {
   "cell_type": "code",
   "execution_count": 18,
   "id": "2b755ae6-86f0-4fc5-bca4-48cd7394f3b3",
   "metadata": {},
   "outputs": [],
   "source": [
    "for i in range(0, N_random_trajecs):\n",
    "    \n",
    "    smoothness_x = np.random.uniform(1e-3, 1)\n",
    "    smoothness_z = np.random.uniform(1e-3, 1)\n",
    "    smoothness_theta = np.random.uniform(0, 1)\n",
    "    \n",
    "    amplitude_x = np.random.uniform(1e-3, 10)\n",
    "    amplitude_z = np.random.uniform(1e-3, 10)\n",
    "    amplitude_theta = np.random.uniform(1e-3, 10)\n",
    "    \n",
    "    rterm = np.random.uniform(1e-4, 1e-1)\n",
    "    \n",
    "    nominal_z = np.random.uniform(1e-3, 20)\n",
    "    \n",
    "    seed_x = np.random.randint(0, 100)\n",
    "    seed_z = np.random.randint(0, 100)\n",
    "    seed_theta = np.random.randint(0, 100)\n",
    "    \n",
    "    simulate_snippet(dt, tsim_length, trim_indices, \n",
    "                 smoothness_x, smoothness_z, smoothness_theta,\n",
    "                 amplitude_x, amplitude_z, amplitude_theta,\n",
    "                 nominal_z,\n",
    "                 seed_x, seed_z, seed_theta, \n",
    "                 trajectory_shape_x=np.random.choice(trajectory_shape_options), trajectory_shape_z=np.random.choice(trajectory_shape_options), trajectory_shape_theta=np.random.choice(trajectory_shape_options),\n",
    "                 rterm=rterm,\n",
    "                 directory=directory,\n",
    "                 number=i)"
   ]
  },
  {
   "cell_type": "markdown",
   "id": "005d04de-c542-4bab-ac09-4a384ce9460d",
   "metadata": {},
   "source": [
    "### Load the trajectories"
   ]
  },
  {
   "cell_type": "code",
   "execution_count": 19,
   "id": "4ab695df-58ca-4d40-b3d0-f83471312674",
   "metadata": {},
   "outputs": [
    {
     "name": "stdout",
     "output_type": "stream",
     "text": [
      "Number of trajectories: \n",
      "3\n"
     ]
    }
   ],
   "source": [
    "data_path = directory\n",
    "all_fnames = os.listdir(data_path)\n",
    "\n",
    "traj_list = []\n",
    "for fname in all_fnames:\n",
    "    fname = os.path.join(data_path, fname)\n",
    "    trajec = pd.read_hdf(fname)\n",
    "    traj_list.append(trajec)\n",
    "\n",
    "print('Number of trajectories: ')\n",
    "print(len(traj_list))"
   ]
  },
  {
   "cell_type": "markdown",
   "id": "55608d39-24f7-404a-9871-ca1daf1401ef",
   "metadata": {},
   "source": [
    "### Plot the trajectories"
   ]
  },
  {
   "cell_type": "code",
   "execution_count": 21,
   "id": "e44b2f3f-3eaf-4ac3-a1d2-8368f14ebbef",
   "metadata": {},
   "outputs": [
    {
     "data": {
      "text/plain": [
       "Text(0, 0.5, 'z position')"
      ]
     },
     "execution_count": 21,
     "metadata": {},
     "output_type": "execute_result"
    },
    {
     "data": {
      "image/png": "[encoded data removed]",
      "text/plain": [
       "<Figure size 640x480 with 1 Axes>"
      ]
     },
     "metadata": {},
     "output_type": "display_data"
    }
   ],
   "source": [
    "fig = plt.figure()\n",
    "ax = fig.add_subplot(111)\n",
    "\n",
    "for traj in traj_list:\n",
    "    ax.plot(traj.x, traj.z)\n",
    "\n",
    "ax.set_xlabel('x position')\n",
    "ax.set_ylabel('z position')"
   ]
  },
  {
   "cell_type": "markdown",
   "id": "aa40c999-7b0f-4c6a-8422-66510f644c2b",
   "metadata": {},
   "source": [
    "# Exercises\n",
    "\n",
    "1. Generate a lot of unique trajectories. This takes a while. Running `generate_training_data.py` will generate the 3,000 trajectories that are saved in `../Data`\n",
    "2. Analyze the distribution of your data -- does it capture a sufficiently broad range of movement motifs? Does it include a lot of high observability trajectories?"
   ]
  }
 ],
 "metadata": {
  "kernelspec": {
   "display_name": "PY38",
   "language": "python",
   "name": "py38"
  },
  "language_info": {
   "codemirror_mode": {
    "name": "ipython",
    "version": 3
   },
   "file_extension": ".py",
   "mimetype": "text/x-python",
   "name": "python",
   "nbconvert_exporter": "python",
   "pygments_lexer": "ipython3",
   "version": "3.8.6"
  }
 },
 "nbformat": 4,
 "nbformat_minor": 5
}
