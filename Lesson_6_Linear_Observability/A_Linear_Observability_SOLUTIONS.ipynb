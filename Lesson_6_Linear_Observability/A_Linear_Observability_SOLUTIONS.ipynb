{
  "cells": [
    {
      "cell_type": "code",
      "execution_count": 1,
      "id": "5bb6504a-731e-4ac1-bb36-0e060335ef77",
      "metadata": {
        "id": "5bb6504a-731e-4ac1-bb36-0e060335ef77"
      },
      "outputs": [],
      "source": [
        "import numpy as np\n",
        "import matplotlib.pyplot as plt\n",
        "\n",
        "import sympy as sp"
      ]
    },
    {
      "cell_type": "code",
      "execution_count": 2,
      "id": "A02nP4XKnWDm",
      "metadata": {
        "colab": {
          "base_uri": "https://localhost:8080/"
        },
        "id": "A02nP4XKnWDm",
        "outputId": "21c63df5-db1b-4f08-a96a-abd8145a90e5"
      },
      "outputs": [
        {
          "output_type": "stream",
          "name": "stdout",
          "text": [
            "Collecting casadi\n",
            "  Downloading casadi-3.7.2-cp312-none-manylinux2014_x86_64.whl.metadata (2.2 kB)\n",
            "Requirement already satisfied: numpy in /usr/local/lib/python3.12/dist-packages (from casadi) (2.0.2)\n",
            "Downloading casadi-3.7.2-cp312-none-manylinux2014_x86_64.whl (75.6 MB)\n",
            "\u001b[2K   \u001b[90m━━━━━━━━━━━━━━━━━━━━━━━━━━━━━━━━━━━━━━━━\u001b[0m \u001b[32m75.6/75.6 MB\u001b[0m \u001b[31m8.5 MB/s\u001b[0m eta \u001b[36m0:00:00\u001b[0m\n",
            "\u001b[?25hInstalling collected packages: casadi\n",
            "Successfully installed casadi-3.7.2\n",
            "Collecting do_mpc\n",
            "  Downloading do_mpc-5.0.1-py3-none-any.whl.metadata (3.5 kB)\n",
            "Requirement already satisfied: casadi>=3.6.0 in /usr/local/lib/python3.12/dist-packages (from do_mpc) (3.7.2)\n",
            "Requirement already satisfied: scipy in /usr/local/lib/python3.12/dist-packages (from do_mpc) (1.16.2)\n",
            "Requirement already satisfied: numpy in /usr/local/lib/python3.12/dist-packages (from do_mpc) (2.0.2)\n",
            "Requirement already satisfied: matplotlib in /usr/local/lib/python3.12/dist-packages (from do_mpc) (3.10.0)\n",
            "Requirement already satisfied: pandas in /usr/local/lib/python3.12/dist-packages (from do_mpc) (2.2.2)\n",
            "Requirement already satisfied: torch>2.0.0 in /usr/local/lib/python3.12/dist-packages (from do_mpc) (2.8.0+cu126)\n",
            "Requirement already satisfied: filelock in /usr/local/lib/python3.12/dist-packages (from torch>2.0.0->do_mpc) (3.19.1)\n",
            "Requirement already satisfied: typing-extensions>=4.10.0 in /usr/local/lib/python3.12/dist-packages (from torch>2.0.0->do_mpc) (4.15.0)\n",
            "Requirement already satisfied: setuptools in /usr/local/lib/python3.12/dist-packages (from torch>2.0.0->do_mpc) (75.2.0)\n",
            "Requirement already satisfied: sympy>=1.13.3 in /usr/local/lib/python3.12/dist-packages (from torch>2.0.0->do_mpc) (1.13.3)\n",
            "Requirement already satisfied: networkx in /usr/local/lib/python3.12/dist-packages (from torch>2.0.0->do_mpc) (3.5)\n",
            "Requirement already satisfied: jinja2 in /usr/local/lib/python3.12/dist-packages (from torch>2.0.0->do_mpc) (3.1.6)\n",
            "Requirement already satisfied: fsspec in /usr/local/lib/python3.12/dist-packages (from torch>2.0.0->do_mpc) (2025.3.0)\n",
            "Requirement already satisfied: nvidia-cuda-nvrtc-cu12==12.6.77 in /usr/local/lib/python3.12/dist-packages (from torch>2.0.0->do_mpc) (12.6.77)\n",
            "Requirement already satisfied: nvidia-cuda-runtime-cu12==12.6.77 in /usr/local/lib/python3.12/dist-packages (from torch>2.0.0->do_mpc) (12.6.77)\n",
            "Requirement already satisfied: nvidia-cuda-cupti-cu12==12.6.80 in /usr/local/lib/python3.12/dist-packages (from torch>2.0.0->do_mpc) (12.6.80)\n",
            "Requirement already satisfied: nvidia-cudnn-cu12==9.10.2.21 in /usr/local/lib/python3.12/dist-packages (from torch>2.0.0->do_mpc) (9.10.2.21)\n",
            "Requirement already satisfied: nvidia-cublas-cu12==12.6.4.1 in /usr/local/lib/python3.12/dist-packages (from torch>2.0.0->do_mpc) (12.6.4.1)\n",
            "Requirement already satisfied: nvidia-cufft-cu12==11.3.0.4 in /usr/local/lib/python3.12/dist-packages (from torch>2.0.0->do_mpc) (11.3.0.4)\n",
            "Requirement already satisfied: nvidia-curand-cu12==10.3.7.77 in /usr/local/lib/python3.12/dist-packages (from torch>2.0.0->do_mpc) (10.3.7.77)\n",
            "Requirement already satisfied: nvidia-cusolver-cu12==11.7.1.2 in /usr/local/lib/python3.12/dist-packages (from torch>2.0.0->do_mpc) (11.7.1.2)\n",
            "Requirement already satisfied: nvidia-cusparse-cu12==12.5.4.2 in /usr/local/lib/python3.12/dist-packages (from torch>2.0.0->do_mpc) (12.5.4.2)\n",
            "Requirement already satisfied: nvidia-cusparselt-cu12==0.7.1 in /usr/local/lib/python3.12/dist-packages (from torch>2.0.0->do_mpc) (0.7.1)\n",
            "Requirement already satisfied: nvidia-nccl-cu12==2.27.3 in /usr/local/lib/python3.12/dist-packages (from torch>2.0.0->do_mpc) (2.27.3)\n",
            "Requirement already satisfied: nvidia-nvtx-cu12==12.6.77 in /usr/local/lib/python3.12/dist-packages (from torch>2.0.0->do_mpc) (12.6.77)\n",
            "Requirement already satisfied: nvidia-nvjitlink-cu12==12.6.85 in /usr/local/lib/python3.12/dist-packages (from torch>2.0.0->do_mpc) (12.6.85)\n",
            "Requirement already satisfied: nvidia-cufile-cu12==1.11.1.6 in /usr/local/lib/python3.12/dist-packages (from torch>2.0.0->do_mpc) (1.11.1.6)\n",
            "Requirement already satisfied: triton==3.4.0 in /usr/local/lib/python3.12/dist-packages (from torch>2.0.0->do_mpc) (3.4.0)\n",
            "Requirement already satisfied: contourpy>=1.0.1 in /usr/local/lib/python3.12/dist-packages (from matplotlib->do_mpc) (1.3.3)\n",
            "Requirement already satisfied: cycler>=0.10 in /usr/local/lib/python3.12/dist-packages (from matplotlib->do_mpc) (0.12.1)\n",
            "Requirement already satisfied: fonttools>=4.22.0 in /usr/local/lib/python3.12/dist-packages (from matplotlib->do_mpc) (4.60.1)\n",
            "Requirement already satisfied: kiwisolver>=1.3.1 in /usr/local/lib/python3.12/dist-packages (from matplotlib->do_mpc) (1.4.9)\n",
            "Requirement already satisfied: packaging>=20.0 in /usr/local/lib/python3.12/dist-packages (from matplotlib->do_mpc) (25.0)\n",
            "Requirement already satisfied: pillow>=8 in /usr/local/lib/python3.12/dist-packages (from matplotlib->do_mpc) (11.3.0)\n",
            "Requirement already satisfied: pyparsing>=2.3.1 in /usr/local/lib/python3.12/dist-packages (from matplotlib->do_mpc) (3.2.5)\n",
            "Requirement already satisfied: python-dateutil>=2.7 in /usr/local/lib/python3.12/dist-packages (from matplotlib->do_mpc) (2.9.0.post0)\n",
            "Requirement already satisfied: pytz>=2020.1 in /usr/local/lib/python3.12/dist-packages (from pandas->do_mpc) (2025.2)\n",
            "Requirement already satisfied: tzdata>=2022.7 in /usr/local/lib/python3.12/dist-packages (from pandas->do_mpc) (2025.2)\n",
            "Requirement already satisfied: six>=1.5 in /usr/local/lib/python3.12/dist-packages (from python-dateutil>=2.7->matplotlib->do_mpc) (1.17.0)\n",
            "Requirement already satisfied: mpmath<1.4,>=1.1.0 in /usr/local/lib/python3.12/dist-packages (from sympy>=1.13.3->torch>2.0.0->do_mpc) (1.3.0)\n",
            "Requirement already satisfied: MarkupSafe>=2.0 in /usr/local/lib/python3.12/dist-packages (from jinja2->torch>2.0.0->do_mpc) (3.0.3)\n",
            "Downloading do_mpc-5.0.1-py3-none-any.whl (162 kB)\n",
            "\u001b[2K   \u001b[90m━━━━━━━━━━━━━━━━━━━━━━━━━━━━━━━━━━━━━━━━\u001b[0m \u001b[32m162.9/162.9 kB\u001b[0m \u001b[31m3.4 MB/s\u001b[0m eta \u001b[36m0:00:00\u001b[0m\n",
            "\u001b[?25hInstalling collected packages: do_mpc\n",
            "Successfully installed do_mpc-5.0.1\n"
          ]
        },
        {
          "output_type": "stream",
          "name": "stderr",
          "text": [
            "/usr/local/lib/python3.12/dist-packages/do_mpc/sysid/__init__.py:15: UserWarning: The ONNX feature is not available. Please install the full version of do-mpc to access this feature.\n",
            "  warnings.warn('The ONNX feature is not available. Please install the full version of do-mpc to access this feature.')\n",
            "/usr/local/lib/python3.12/dist-packages/do_mpc/opcua/__init__.py:14: UserWarning: The opcua feature is not available. Please install the full version of do-mpc to access this feature.\n",
            "  warnings.warn('The opcua feature is not available. Please install the full version of do-mpc to access this feature.')\n"
          ]
        },
        {
          "output_type": "stream",
          "name": "stdout",
          "text": [
            "Collecting git+https://github.com/vanbreugel-lab/pybounds\n",
            "  Cloning https://github.com/vanbreugel-lab/pybounds to /tmp/pip-req-build-dpzchtbj\n",
            "  Running command git clone --filter=blob:none --quiet https://github.com/vanbreugel-lab/pybounds /tmp/pip-req-build-dpzchtbj\n",
            "  Resolved https://github.com/vanbreugel-lab/pybounds to commit a2a55f7d1bcb0962b780d9973b2bc2ada29589de\n",
            "  Preparing metadata (setup.py) ... \u001b[?25l\u001b[?25hdone\n",
            "Building wheels for collected packages: pybounds\n",
            "  Building wheel for pybounds (setup.py) ... \u001b[?25l\u001b[?25hdone\n",
            "  Created wheel for pybounds: filename=pybounds-0.0.13-py3-none-any.whl size=19534 sha256=95d6c2d226bbb80eb00e74f4d99c674203e361f42fa768830cf695fc3e6081ad\n",
            "  Stored in directory: /tmp/pip-ephem-wheel-cache-c1gd7y7x/wheels/cb/f8/fb/ff1887f9a2f35c3edad7b1acb7da69437c1fd8d885a800578d\n",
            "Successfully built pybounds\n",
            "Installing collected packages: pybounds\n",
            "Successfully installed pybounds-0.0.13\n"
          ]
        }
      ],
      "source": [
        "try:\n",
        "    import casadi\n",
        "except:\n",
        "    !pip install casadi\n",
        "    import casadi\n",
        "\n",
        "try:\n",
        "    import do_mpc\n",
        "except:\n",
        "    !pip install do_mpc\n",
        "    import do_mpc\n",
        "\n",
        "try:\n",
        "    import pybounds\n",
        "except:\n",
        "    #!pip install pybounds\n",
        "    !pip install git+https://github.com/vanbreugel-lab/pybounds\n",
        "    import pybounds"
      ]
    },
    {
      "cell_type": "markdown",
      "id": "eeb85eb1-4a67-4380-9a2c-1f5ede1ddabf",
      "metadata": {
        "id": "eeb85eb1-4a67-4380-9a2c-1f5ede1ddabf"
      },
      "source": [
        "### Import plotting utilities and planar drone locally or from github"
      ]
    },
    {
      "cell_type": "code",
      "execution_count": 3,
      "id": "9a762f28-44a6-4276-a18d-afc9b6834b90",
      "metadata": {
        "colab": {
          "base_uri": "https://localhost:8080/"
        },
        "id": "9a762f28-44a6-4276-a18d-afc9b6834b90",
        "outputId": "d7e0df49-d6d8-43eb-b6c5-1a5c322adb29"
      },
      "outputs": [
        {
          "output_type": "stream",
          "name": "stdout",
          "text": [
            "Fetching from: \n",
            "<Response [200]>\n",
            "Fetching from: \n",
            "<Response [200]>\n",
            "Fetching from: \n",
            "<Response [200]>\n"
          ]
        }
      ],
      "source": [
        "import sys\n",
        "import requests\n",
        "import importlib\n",
        "\n",
        "def import_local_or_github(package_name, function_name=None, directory=None, giturl=None):\n",
        "    # Import functions directly from github\n",
        "    # Important: note that we use raw.githubusercontent.com, not github.com\n",
        "\n",
        "    try: # to find the file locally\n",
        "        if directory is not None:\n",
        "            if directory not in sys.path:\n",
        "                sys.path.append(directory)\n",
        "\n",
        "        package = importlib.import_module(package_name)\n",
        "        if function_name is not None:\n",
        "            function = getattr(package, function_name)\n",
        "            return function\n",
        "        else:\n",
        "            return package\n",
        "\n",
        "    except: # get the file from github\n",
        "        if giturl is None:\n",
        "            giturl = 'https://raw.githubusercontent.com/florisvb/Nonlinear_and_Data_Driven_Estimation/main/Utility/' + str(package_name) + '.py'\n",
        "\n",
        "        r = requests.get(giturl)\n",
        "        print('Fetching from: ')\n",
        "        print(r)\n",
        "\n",
        "        # Store the file to the colab working directory\n",
        "        with open(package_name+'.py', 'w') as f:\n",
        "            f.write(r.text)\n",
        "        f.close()\n",
        "\n",
        "        # import the function we want from that file\n",
        "        package = importlib.import_module(package_name)\n",
        "        if function_name is not None:\n",
        "            function = getattr(package , function_name)\n",
        "            return function\n",
        "        else:\n",
        "            return package\n",
        "\n",
        "planar_drone = import_local_or_github('planar_drone', directory='../Utility')\n",
        "plot_tme = import_local_or_github('plot_utility', 'plot_tme', directory='../Utility')\n",
        "dynamics_utility = import_local_or_github('dynamics_utility', directory='../Utility')"
      ]
    },
    {
      "cell_type": "markdown",
      "id": "4e0c3313-7503-4954-b0c3-6f643aeb5a6b",
      "metadata": {
        "id": "4e0c3313-7503-4954-b0c3-6f643aeb5a6b"
      },
      "source": [
        "#### Given the planar drone dynamics\n",
        "\n",
        "$\n",
        "\\mathbf{\\dot{x}} = \\mathbf{f}(\\mathbf{x},\\mathbf{u}) =\n",
        "\\frac{d}{dt}\n",
        "\\begin{bmatrix}\n",
        "\\bbox[yellow]{\\theta} \\\\[0.3em]\n",
        "\\bbox[yellow]{\\dot{\\theta}} \\\\[0.3em]\n",
        "\\bbox[yellow]{x} \\\\[0.3em]\n",
        "\\bbox[yellow]{\\dot{x}} \\\\[0.3em]\n",
        "\\bbox[yellow]{z} \\\\[0.3em]\n",
        "\\bbox[yellow]{\\dot{z}} \\\\[0.3em]\n",
        "\\bbox[pink]{k}\n",
        "\\end{bmatrix} =\n",
        "\\overset{f_0}{\\begin{bmatrix}\n",
        "\\bbox[yellow]{\\dot{\\theta}} \\\\[0.3em]\n",
        "0 \\\\[0.3em]\n",
        "\\bbox[yellow]{\\dot{x}} \\\\[0.3em]\n",
        "0 \\\\[0.3em]\n",
        "\\bbox[yellow]{\\dot{z}} \\\\[0.3em]\n",
        "-\\bbox[lightblue]{g} \\\\[0.3em]\n",
        "0\n",
        "\\end{bmatrix}} +\n",
        "\\overset{f_1}{\\begin{bmatrix}\n",
        "0 \\\\[0.3em]\n",
        "\\bbox[lightblue]{l}\\bbox[pink]{k}/\\bbox[lightblue]{I_{yy}} \\\\[0.3em]\n",
        "0 \\\\[0.3em]\n",
        "0 \\\\[0.3em]\n",
        "0 \\\\[0.3em]\n",
        "0 \\\\[0.3em]\n",
        "0\n",
        "\\end{bmatrix}} \\bbox[lightgreen]{j_1} +\n",
        "\\overset{f_2}{\\begin{bmatrix}\n",
        "0 \\\\[0.3em]\n",
        "0 \\\\[0.3em]\n",
        "0 \\\\[0.3em]\n",
        "-\\bbox[pink]{k}\\bbox[yellow]{\\sin\\theta}/\\bbox[lightblue]{m} \\\\[0.3em]\n",
        "0 \\\\[0.3em]\n",
        "\\bbox[pink]{k}\\bbox[yellow]{\\cos\\theta}/\\bbox[lightblue]{m}  \\\\[0.3em]\n",
        "0\n",
        "\\end{bmatrix}} \\bbox[lightgreen]{j_2}\n",
        "$\n",
        "\n",
        "#### Consider the following sensor combinations:\n",
        "\n",
        "$\n",
        "\\mathbf{y_a} = \\mathbf{{h_a}}(\\mathbf{{x}}, \\mathbf{{u}}) =\n",
        "\\begin{bmatrix}\n",
        "\\bbox[yellow]{\\theta} \\\\[0.3em]\n",
        "\\bbox[yellow]{x} \\\\[0.3em]\n",
        "\\bbox[yellow]{z} \\\\[0.3em]\n",
        "\\bbox[pink]{k}\n",
        "\\end{bmatrix}\n",
        "$\n",
        "\n",
        "$\n",
        "\\mathbf{y_b} = \\mathbf{{h_b}}(\\mathbf{{x}}, \\mathbf{{u}}) =\n",
        "\\begin{bmatrix}\n",
        "\\bbox[yellow]{\\dot{x}}/\\bbox[yellow]{z} \\\\[0.3em]\n",
        "\\bbox[yellow]{\\theta} \\\\[0.3em]\n",
        "\\bbox[pink]{k}\n",
        "\\end{bmatrix}\n",
        "$\n",
        "\n",
        "$\n",
        "\\mathbf{y_c} = \\mathbf{{h_c}}(\\mathbf{{x}}, \\mathbf{{u}}) =\n",
        "\\begin{bmatrix}\n",
        "\\bbox[yellow]{\\dot{x}}/\\bbox[yellow]{z} \\\\[0.3em]\n",
        "\\bbox[yellow]{\\theta} \\\\[0.3em]\n",
        "\\bbox[yellow]{\\dot{\\theta}}   \\\\[0.3em]\n",
        "\\ddot{x} = -\\bbox[pink]{k} \\sin(\\bbox[yellow]{\\theta}) \\bbox[lightgreen]{j_1} / \\bbox[lightblue]{m}  \\\\[0.3em]\n",
        "\\ddot{z} = -\\bbox[lightblue]{g} / \\bbox[lightblue]{m} + \\bbox[pink]{k} \\cos(\\bbox[yellow]{\\theta}) \\bbox[lightgreen]{j_2}/ \\bbox[lightblue]{m}\n",
        "\\end{bmatrix}\n",
        "$"
      ]
    },
    {
      "cell_type": "code",
      "execution_count": 4,
      "id": "126f8373-f129-46e3-afc1-d562e2b28978",
      "metadata": {
        "id": "126f8373-f129-46e3-afc1-d562e2b28978"
      },
      "outputs": [],
      "source": [
        "f = planar_drone.F().f\n",
        "h_a = planar_drone.H('h_gps').h\n",
        "h_b = planar_drone.H('h_camera_theta_k').h\n",
        "h_c = planar_drone.H('h_camera_imu').h"
      ]
    },
    {
      "cell_type": "markdown",
      "id": "643b665c-d43b-47ee-a33b-ea194c59396e",
      "metadata": {
        "id": "643b665c-d43b-47ee-a33b-ea194c59396e"
      },
      "source": [
        "### Linearize the dynamics and measurement function\n",
        "\n",
        "We need linearized dynamics of the form:\n",
        "\n",
        "$\n",
        "\\mathbf{x_{k+1}} = A\\mathbf{x_k} + B\\mathbf{u_k}\n",
        "$\n",
        "\n",
        "$\n",
        "\\mathbf{y_k} = C\\mathbf{x_k} + D\\mathbf{u_k}\n",
        "$\n",
        "\n",
        "We will do that numerically using the same functions as before."
      ]
    },
    {
      "cell_type": "code",
      "execution_count": 5,
      "id": "a22e9b8b-eb89-49a2-b6a9-aa3c62cf8197",
      "metadata": {
        "id": "a22e9b8b-eb89-49a2-b6a9-aa3c62cf8197"
      },
      "outputs": [],
      "source": [
        "jacobian_numerical = dynamics_utility.jacobian_numerical\n",
        "rk4_discretize = dynamics_utility.rk4_discretize"
      ]
    },
    {
      "cell_type": "code",
      "execution_count": 6,
      "id": "5cb40ec5-aad6-4871-85db-abe4075df446",
      "metadata": {
        "id": "5cb40ec5-aad6-4871-85db-abe4075df446"
      },
      "outputs": [],
      "source": [
        "# initial condition for planar drone in hover mode\n",
        "\n",
        "# x = [theta, thetadot, x, xdot, z, zdot, k]\n",
        "x0 = np.array([0, 0, 0, 0, 1, 0, 1])\n",
        "u0 = np.array([0, 0])"
      ]
    },
    {
      "cell_type": "code",
      "execution_count": 7,
      "id": "c1af5466-3e08-4486-8fe5-b1aeab2042b7",
      "metadata": {
        "id": "c1af5466-3e08-4486-8fe5-b1aeab2042b7"
      },
      "outputs": [],
      "source": [
        "def f_discrete(x, u):\n",
        "    dt = 0.1\n",
        "    return rk4_discretize(f, x, u, dt)"
      ]
    },
    {
      "cell_type": "code",
      "execution_count": 8,
      "id": "390700f4-3bed-40e4-99ce-aab4586dc427",
      "metadata": {
        "id": "390700f4-3bed-40e4-99ce-aab4586dc427"
      },
      "outputs": [],
      "source": [
        "A, B = jacobian_numerical(f_discrete, x0, u0)"
      ]
    },
    {
      "cell_type": "code",
      "execution_count": 9,
      "id": "445fa386-9189-47b7-803b-01f5b81b12b1",
      "metadata": {
        "id": "445fa386-9189-47b7-803b-01f5b81b12b1"
      },
      "outputs": [],
      "source": [
        "C_a, D_a = jacobian_numerical(h_a, x0, u0)\n",
        "C_b, D_b = jacobian_numerical(h_b, x0, u0)\n",
        "C_c, D_c = jacobian_numerical(h_c, x0, u0)"
      ]
    },
    {
      "cell_type": "markdown",
      "id": "P4Qs2kjBtNLr",
      "metadata": {
        "id": "P4Qs2kjBtNLr"
      },
      "source": [
        "# Exercises\n",
        "\n",
        "1. Determine the rank of the observability matrix for each measurement option. Which ones are observable?\n",
        "2. Determine the observability Gramian for each measurement option:\n",
        "  * Analyze the eigenvalues/eigenvectors to determine the most observable state combinations\n",
        "  * Analyze the matrix inverse of the Gramian to determien the most observable individual states\n",
        "\n",
        "3. Do your results agree with your Kalman filter from the prior lesson?  "
      ]
    },
    {
      "cell_type": "code",
      "execution_count": 10,
      "id": "KYFz_ns0qDGW",
      "metadata": {
        "id": "KYFz_ns0qDGW",
        "outputId": "c62414d3-23e0-4e9d-d1dc-ae4074b633c4",
        "colab": {
          "base_uri": "https://localhost:8080/"
        }
      },
      "outputs": [
        {
          "output_type": "stream",
          "name": "stdout",
          "text": [
            "7\n",
            "7\n"
          ]
        }
      ],
      "source": [
        "O_a = np.vstack([C_a, C_a@A, C_a@A@A])\n",
        "print(A.shape[0])\n",
        "print(np.linalg.matrix_rank(O_a))"
      ]
    },
    {
      "cell_type": "code",
      "source": [
        "O_b = np.vstack([C_b, C_b@A, C_b@A@A])\n",
        "print(A.shape[0])\n",
        "print(np.linalg.matrix_rank(O_b))"
      ],
      "metadata": {
        "id": "LfbOeCZcaE39",
        "outputId": "785b9d1a-b4f0-41d6-babb-c4a71371c95d",
        "colab": {
          "base_uri": "https://localhost:8080/"
        }
      },
      "id": "LfbOeCZcaE39",
      "execution_count": 15,
      "outputs": [
        {
          "output_type": "stream",
          "name": "stdout",
          "text": [
            "7\n",
            "4\n"
          ]
        }
      ]
    },
    {
      "cell_type": "code",
      "source": [
        "O_c = np.vstack([C_c, C_c@A, C_c@A@A, C_c@A@A@A])\n",
        "print(A.shape[0])\n",
        "print(np.linalg.matrix_rank(O_c))"
      ],
      "metadata": {
        "id": "kCbu1da2aS68",
        "outputId": "901d1639-4d00-4d54-b464-0424b1f60584",
        "colab": {
          "base_uri": "https://localhost:8080/"
        }
      },
      "id": "kCbu1da2aS68",
      "execution_count": 13,
      "outputs": [
        {
          "output_type": "stream",
          "name": "stdout",
          "text": [
            "7\n",
            "4\n"
          ]
        }
      ]
    },
    {
      "cell_type": "markdown",
      "source": [
        "# Observability Gramian"
      ],
      "metadata": {
        "id": "URUMkUhdawXj"
      },
      "id": "URUMkUhdawXj"
    },
    {
      "cell_type": "code",
      "source": [
        "W_a = O_a.T@O_a\n",
        "W_b = O_b.T@O_b\n",
        "W_c = O_c.T@O_c"
      ],
      "metadata": {
        "id": "DbSqWmzPahjU"
      },
      "id": "DbSqWmzPahjU",
      "execution_count": 16,
      "outputs": []
    },
    {
      "cell_type": "code",
      "source": [
        "W_a"
      ],
      "metadata": {
        "id": "AJkJhVo3a38j",
        "outputId": "3eb14791-5a4c-4ff0-a3b6-a232ebe00bd7",
        "colab": {
          "base_uri": "https://localhost:8080/"
        }
      },
      "id": "AJkJhVo3a38j",
      "execution_count": 17,
      "outputs": [
        {
          "output_type": "execute_result",
          "data": {
            "text/plain": [
              "array([[3.  , 0.3 , 0.  , 0.  , 0.  , 0.  , 0.  ],\n",
              "       [0.3 , 0.05, 0.  , 0.  , 0.  , 0.  , 0.  ],\n",
              "       [0.  , 0.  , 3.  , 0.3 , 0.  , 0.  , 0.  ],\n",
              "       [0.  , 0.  , 0.3 , 0.05, 0.  , 0.  , 0.  ],\n",
              "       [0.  , 0.  , 0.  , 0.  , 3.  , 0.3 , 0.  ],\n",
              "       [0.  , 0.  , 0.  , 0.  , 0.3 , 0.05, 0.  ],\n",
              "       [0.  , 0.  , 0.  , 0.  , 0.  , 0.  , 3.  ]])"
            ]
          },
          "metadata": {},
          "execution_count": 17
        }
      ]
    },
    {
      "cell_type": "code",
      "source": [
        "def show_eigs_for_W(W):\n",
        "  eigvals, eigvecs = np.linalg.eig(W)\n",
        "\n",
        "  # sort eigenvalues from largest to smallest\n",
        "  ixsort = np.argsort(eigvals)[::-1]\n",
        "\n",
        "  print(np.round(eigvals[ixsort], 2))\n",
        "\n",
        "  print(np.round(eigvecs[:,ixsort], 2))"
      ],
      "metadata": {
        "id": "Y3x4MHqsa46D"
      },
      "id": "Y3x4MHqsa46D",
      "execution_count": 20,
      "outputs": []
    },
    {
      "cell_type": "code",
      "source": [
        "show_eigs_for_W(W_a)"
      ],
      "metadata": {
        "id": "UZK-j0uJbf7b",
        "outputId": "7320486e-f3db-44c5-b4c7-5140af4a2d4e",
        "colab": {
          "base_uri": "https://localhost:8080/"
        }
      },
      "id": "UZK-j0uJbf7b",
      "execution_count": 21,
      "outputs": [
        {
          "output_type": "stream",
          "name": "stdout",
          "text": [
            "[3.03 3.03 3.03 3.   0.02 0.02 0.02]\n",
            "[[ 0.    0.99  0.    0.    0.   -0.1   0.  ]\n",
            " [ 0.    0.1   0.    0.    0.    0.99  0.  ]\n",
            " [ 0.99  0.    0.    0.   -0.1   0.    0.  ]\n",
            " [ 0.1   0.    0.    0.    0.99  0.    0.  ]\n",
            " [ 0.    0.    0.99  0.    0.    0.   -0.1 ]\n",
            " [ 0.    0.    0.1   0.    0.    0.    0.99]\n",
            " [ 0.    0.    0.    1.    0.    0.    0.  ]]\n"
          ]
        }
      ]
    },
    {
      "cell_type": "code",
      "source": [
        "def plot_Finv_for_W(W, lam=1e-6):\n",
        "  Finv = np.linalg.inv(W + lam*np.eye(len(W)))\n",
        "  img = plt.imshow(np.log(Finv), origin='upper')\n",
        "\n",
        "  cbar = plt.colorbar(img)\n",
        "  cbar.set_label('log(min err var)', rotation=270, labelpad=15)"
      ],
      "metadata": {
        "id": "hn7JOL5Kbid7"
      },
      "id": "hn7JOL5Kbid7",
      "execution_count": 22,
      "outputs": []
    },
    {
      "cell_type": "code",
      "source": [
        "plot_Finv_for_W(W_a)"
      ],
      "metadata": {
        "id": "khsMSYHYeJ8r",
        "outputId": "2a5d7a3b-cf4d-4ed0-e2c8-9fc0d53127c9",
        "colab": {
          "base_uri": "https://localhost:8080/",
          "height": 513
        }
      },
      "id": "khsMSYHYeJ8r",
      "execution_count": 26,
      "outputs": [
        {
          "output_type": "stream",
          "name": "stderr",
          "text": [
            "/tmp/ipython-input-1375640756.py:3: RuntimeWarning: divide by zero encountered in log\n",
            "  img = plt.imshow(np.log(Finv), origin='upper')\n",
            "/tmp/ipython-input-1375640756.py:3: RuntimeWarning: invalid value encountered in log\n",
            "  img = plt.imshow(np.log(Finv), origin='upper')\n"
          ]
        },
        {
          "output_type": "display_data",
          "data": {
            "text/plain": [
              "<Figure size 640x480 with 2 Axes>"
            ],
            "image/png": "[encoded data removed]"
          },
          "metadata": {}
        }
      ]
    },
    {
      "cell_type": "code",
      "source": [
        "matrix_power = np.linalg.matrix_power\n",
        "\n",
        "O_a = np.vstack([C_a@matrix_power(A, n) for n in range(10)])\n",
        "W_a_n = O_a.T@O_a\n",
        "plot_Finv_for_W(W_a_n)"
      ],
      "metadata": {
        "id": "nu6kKueceMmi",
        "outputId": "cf3fa0d3-eb8d-430e-d7ec-1a79467b8765",
        "colab": {
          "base_uri": "https://localhost:8080/",
          "height": 513
        }
      },
      "id": "nu6kKueceMmi",
      "execution_count": 27,
      "outputs": [
        {
          "output_type": "stream",
          "name": "stderr",
          "text": [
            "/tmp/ipython-input-1375640756.py:3: RuntimeWarning: divide by zero encountered in log\n",
            "  img = plt.imshow(np.log(Finv), origin='upper')\n",
            "/tmp/ipython-input-1375640756.py:3: RuntimeWarning: invalid value encountered in log\n",
            "  img = plt.imshow(np.log(Finv), origin='upper')\n"
          ]
        },
        {
          "output_type": "display_data",
          "data": {
            "text/plain": [
              "<Figure size 640x480 with 2 Axes>"
            ],
            "image/png": "[encoded data removed]"
          },
          "metadata": {}
        }
      ]
    },
    {
      "cell_type": "code",
      "source": [],
      "metadata": {
        "id": "iCmZ5fEyfiWw"
      },
      "id": "iCmZ5fEyfiWw",
      "execution_count": null,
      "outputs": []
    }
  ],
  "metadata": {
    "colab": {
      "provenance": []
    },
    "kernelspec": {
      "display_name": "PY38",
      "language": "python",
      "name": "py38"
    },
    "language_info": {
      "codemirror_mode": {
        "name": "ipython",
        "version": 3
      },
      "file_extension": ".py",
      "mimetype": "text/x-python",
      "name": "python",
      "nbconvert_exporter": "python",
      "pygments_lexer": "ipython3",
      "version": "3.8.6"
    }
  },
  "nbformat": 4,
  "nbformat_minor": 5
}